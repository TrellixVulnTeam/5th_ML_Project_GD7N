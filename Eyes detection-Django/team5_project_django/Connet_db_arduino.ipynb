{
 "cells": [
  {
   "cell_type": "code",
   "execution_count": 1,
   "outputs": [],
   "source": [
    "import serial\n",
    "import pymysql\n",
    "from time import localtime, strftime"
   ],
   "metadata": {
    "collapsed": false,
    "pycharm": {
     "name": "#%%\n"
    }
   }
  },
  {
   "cell_type": "code",
   "execution_count": 2,
   "outputs": [
    {
     "name": "stdout",
     "output_type": "stream",
     "text": [
      "400  25.00  45.00 \n",
      "529  25.00  45.00 \n",
      "856  25.00  43.00 \n",
      "1233  25.00  43.00\n",
      "1370  25.00  45.00\n",
      "1323  25.00  45.00\n",
      "1355  25.00  45.00\n",
      "1560  25.00  45.00\n",
      "1721  25.00  45.00\n",
      "1697  25.00  45.00\n",
      "1517  25.00  46.00\n",
      "1414  25.00  46.00\n",
      "1290  25.00  46.00\n",
      "1125  25.00  46.00\n",
      "1013  25.00  47.00\n",
      "1009  25.00  47.00\n",
      "915  25.00  47.00 \n",
      "971  25.00  47.00 \n",
      "1337  25.00  47.00\n",
      "1490  25.00  47.00\n",
      "1593  25.00  47.00\n",
      "1490  25.00  47.00\n",
      "1517  25.00  48.00\n",
      "1355  25.00  48.00\n"
     ]
    },
    {
     "ename": "KeyboardInterrupt",
     "evalue": "",
     "output_type": "error",
     "traceback": [
      "\u001B[1;31m---------------------------------------------------------------------------\u001B[0m",
      "\u001B[1;31mKeyboardInterrupt\u001B[0m                         Traceback (most recent call last)",
      "Input \u001B[1;32mIn [2]\u001B[0m, in \u001B[0;36m<cell line: 6>\u001B[1;34m()\u001B[0m\n\u001B[0;32m      4\u001B[0m strTotal \u001B[38;5;241m=\u001B[39m \u001B[38;5;124m'\u001B[39m\u001B[38;5;124m'\u001B[39m\n\u001B[0;32m      5\u001B[0m \u001B[38;5;28;01mwhile\u001B[39;00m \u001B[38;5;28;01mTrue\u001B[39;00m:\n\u001B[1;32m----> 6\u001B[0m     strTotal \u001B[38;5;241m=\u001B[39m \u001B[43mT\u001B[49m\u001B[38;5;241;43m.\u001B[39;49m\u001B[43mreadline\u001B[49m\u001B[43m(\u001B[49m\u001B[43m)\u001B[49m\n\u001B[0;32m      7\u001B[0m     strTotal \u001B[38;5;241m=\u001B[39m strTotal\u001B[38;5;241m.\u001B[39mdecode(\u001B[38;5;124m'\u001B[39m\u001B[38;5;124mutf-8\u001B[39m\u001B[38;5;124m'\u001B[39m)\n\u001B[0;32m      8\u001B[0m     strTotal \u001B[38;5;241m=\u001B[39m strTotal\u001B[38;5;241m.\u001B[39mreplace(\u001B[38;5;124m\"\u001B[39m\u001B[38;5;124mb\u001B[39m\u001B[38;5;124m\"\u001B[39m, \u001B[38;5;124m\"\u001B[39m\u001B[38;5;124m\"\u001B[39m)\n",
      "File \u001B[1;32mC:\\ProgramData\\Anaconda3\\envs\\team5_project_django\\lib\\site-packages\\serial\\serialwin32.py:288\u001B[0m, in \u001B[0;36mSerial.read\u001B[1;34m(self, size)\u001B[0m\n\u001B[0;32m    286\u001B[0m \u001B[38;5;28;01mif\u001B[39;00m \u001B[38;5;129;01mnot\u001B[39;00m read_ok \u001B[38;5;129;01mand\u001B[39;00m win32\u001B[38;5;241m.\u001B[39mGetLastError() \u001B[38;5;129;01mnot\u001B[39;00m \u001B[38;5;129;01min\u001B[39;00m (win32\u001B[38;5;241m.\u001B[39mERROR_SUCCESS, win32\u001B[38;5;241m.\u001B[39mERROR_IO_PENDING):\n\u001B[0;32m    287\u001B[0m     \u001B[38;5;28;01mraise\u001B[39;00m SerialException(\u001B[38;5;124m\"\u001B[39m\u001B[38;5;124mReadFile failed (\u001B[39m\u001B[38;5;132;01m{!r}\u001B[39;00m\u001B[38;5;124m)\u001B[39m\u001B[38;5;124m\"\u001B[39m\u001B[38;5;241m.\u001B[39mformat(ctypes\u001B[38;5;241m.\u001B[39mWinError()))\n\u001B[1;32m--> 288\u001B[0m result_ok \u001B[38;5;241m=\u001B[39m \u001B[43mwin32\u001B[49m\u001B[38;5;241;43m.\u001B[39;49m\u001B[43mGetOverlappedResult\u001B[49m\u001B[43m(\u001B[49m\n\u001B[0;32m    289\u001B[0m \u001B[43m    \u001B[49m\u001B[38;5;28;43mself\u001B[39;49m\u001B[38;5;241;43m.\u001B[39;49m\u001B[43m_port_handle\u001B[49m\u001B[43m,\u001B[49m\n\u001B[0;32m    290\u001B[0m \u001B[43m    \u001B[49m\u001B[43mctypes\u001B[49m\u001B[38;5;241;43m.\u001B[39;49m\u001B[43mbyref\u001B[49m\u001B[43m(\u001B[49m\u001B[38;5;28;43mself\u001B[39;49m\u001B[38;5;241;43m.\u001B[39;49m\u001B[43m_overlapped_read\u001B[49m\u001B[43m)\u001B[49m\u001B[43m,\u001B[49m\n\u001B[0;32m    291\u001B[0m \u001B[43m    \u001B[49m\u001B[43mctypes\u001B[49m\u001B[38;5;241;43m.\u001B[39;49m\u001B[43mbyref\u001B[49m\u001B[43m(\u001B[49m\u001B[43mrc\u001B[49m\u001B[43m)\u001B[49m\u001B[43m,\u001B[49m\n\u001B[0;32m    292\u001B[0m \u001B[43m    \u001B[49m\u001B[38;5;28;43;01mTrue\u001B[39;49;00m\u001B[43m)\u001B[49m\n\u001B[0;32m    293\u001B[0m \u001B[38;5;28;01mif\u001B[39;00m \u001B[38;5;129;01mnot\u001B[39;00m result_ok:\n\u001B[0;32m    294\u001B[0m     \u001B[38;5;28;01mif\u001B[39;00m win32\u001B[38;5;241m.\u001B[39mGetLastError() \u001B[38;5;241m!=\u001B[39m win32\u001B[38;5;241m.\u001B[39mERROR_OPERATION_ABORTED:\n",
      "\u001B[1;31mKeyboardInterrupt\u001B[0m: "
     ]
    }
   ],
   "source": [
    "lastTime = 0\n",
    "T = serial.Serial('COM7', 9600)\n",
    "strCo = ''\n",
    "strTotal = ''\n",
    "while True:\n",
    "    strTotal = T.readline()\n",
    "    strTotal = strTotal.decode('utf-8')\n",
    "    strTotal = strTotal.replace(\"b\", \"\")\n",
    "    strTotal = strTotal.replace(\"'\", \"\")\n",
    "    strTotal = strTotal.replace(\"\\n\", \"\")\n",
    "    strHumi = strTotal[10:16]\n",
    "    strTemp = strTotal[4:10]\n",
    "    strCo = strTotal[0:4]\n",
    "    print(strTotal[0:4], strTotal[4:10], strTotal[10:16])\n",
    "\n",
    "    db = pymysql.connect(host='121.143.172.28', user='guest_test', passwd = 'test1234!', db='ml_db')\n",
    "\n",
    "    with db:\n",
    "        cur = db.cursor()\n",
    "\n",
    "        cur.execute('INSERT INTO co_eyes_temp(temperature, humidity, co2) VALUES (%s, %s, %s)', (strTemp, strHumi, strCo))\n",
    "        db.commit()"
   ],
   "metadata": {
    "collapsed": false,
    "pycharm": {
     "name": "#%%\n"
    }
   }
  },
  {
   "cell_type": "code",
   "execution_count": null,
   "outputs": [],
   "source": [],
   "metadata": {
    "collapsed": false,
    "pycharm": {
     "name": "#%%\n"
    }
   }
  }
 ],
 "metadata": {
  "kernelspec": {
   "name": "conda-env-team5_project_django-py",
   "language": "python",
   "display_name": "Python [conda env:team5_project_django] *"
  },
  "language_info": {
   "codemirror_mode": {
    "name": "ipython",
    "version": 2
   },
   "file_extension": ".py",
   "mimetype": "text/x-python",
   "name": "python",
   "nbconvert_exporter": "python",
   "pygments_lexer": "ipython2",
   "version": "2.7.6"
  }
 },
 "nbformat": 4,
 "nbformat_minor": 0
}