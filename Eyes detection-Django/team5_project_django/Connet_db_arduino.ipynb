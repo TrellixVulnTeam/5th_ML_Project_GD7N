{
 "cells": [
  {
   "cell_type": "code",
   "execution_count": 2,
   "outputs": [],
   "source": [
    "import serial\n",
    "import pymysql\n",
    "from time import localtime, strftime"
   ],
   "metadata": {
    "collapsed": false,
    "pycharm": {
     "name": "#%%\n"
    }
   }
  },
  {
   "cell_type": "code",
   "execution_count": 3,
   "outputs": [
    {
     "name": "stdout",
     "output_type": "stream",
     "text": [
      "b'25.30 22.00\\n'\n",
      "b'25.30 22.00\\n'\n",
      "b'25.30 22.00\\n'\n",
      "b'25.30 22.00\\n'\n",
      "b'25.30 22.00\\n'\n",
      "b'25.30 22.00\\n'\n",
      "b'25.30 22.00\\n'\n",
      "b'25.30 22.00\\n'\n",
      "b'25.30 22.00\\n'\n",
      "b'25.30 22.00\\n'\n",
      "b'25.40 26.00\\n'\n",
      "b'25.40 26.00\\n'\n",
      "b'25.40 33.00\\n'\n",
      "b'25.40 33.00\\n'\n",
      "b'25.50 38.00\\n'\n",
      "b'25.50 38.00\\n'\n",
      "b'25.50 41.00\\n'\n",
      "b'25.50 41.00\\n'\n",
      "b'25.50 47.00\\n'\n",
      "b'25.50 47.00\\n'\n",
      "b'25.80 62.00\\n'\n",
      "b'25.80 62.00\\n'\n",
      "b'25.80 61.00\\n'\n",
      "b'25.80 61.00\\n'\n",
      "b'25.80 57.00\\n'\n",
      "b'25.80 57.00\\n'\n",
      "b'25.90 62.00\\n'\n",
      "b'25.90 62.00\\n'\n",
      "b'25.90 64.00\\n'\n",
      "b'25.90 64.00\\n'\n",
      "b'26.00 65.00\\n'\n",
      "b'26.00 65.00\\n'\n",
      "b'26.10 67.00\\n'\n",
      "b'26.10 67.00\\n'\n",
      "b'26.30 95.00\\n'\n",
      "b'26.30 95.00\\n'\n",
      "b'26.50 69.00\\n'\n",
      "b'26.50 69.00\\n'\n",
      "b'26.50 66.00\\n'\n",
      "b'26.50 66.00\\n'\n",
      "b'26.60 62.00\\n'\n",
      "b'26.60 62.00\\n'\n",
      "b'26.50 58.00\\n'\n",
      "b'26.50 58.00\\n'\n",
      "b'26.40 56.00\\n'\n",
      "b'26.40 56.00\\n'\n",
      "b'26.50 53.00\\n'\n",
      "b'26.50 53.00\\n'\n",
      "b'26.50 50.00\\n'\n",
      "b'26.50 50.00\\n'\n",
      "b'26.50 48.00\\n'\n",
      "b'26.50 48.00\\n'\n",
      "b'26.50 63.00\\n'\n",
      "b'26.50 63.00\\n'\n",
      "b'26.60 62.00\\n'\n",
      "b'26.60 62.00\\n'\n",
      "b'26.60 58.00\\n'\n",
      "b'26.60 58.00\\n'\n",
      "b'26.60 57.00\\n'\n",
      "b'26.60 57.00\\n'\n",
      "b'26.60 56.00\\n'\n",
      "b'26.60 56.00\\n'\n",
      "b'26.60 54.00\\n'\n",
      "b'26.60 54.00\\n'\n",
      "b'26.60 52.00\\n'\n",
      "b'26.60 52.00\\n'\n",
      "b'26.60 50.00\\n'\n"
     ]
    },
    {
     "ename": "KeyboardInterrupt",
     "evalue": "",
     "output_type": "error",
     "traceback": [
      "\u001B[1;31m---------------------------------------------------------------------------\u001B[0m",
      "\u001B[1;31mKeyboardInterrupt\u001B[0m                         Traceback (most recent call last)",
      "Input \u001B[1;32mIn [3]\u001B[0m, in \u001B[0;36m<cell line: 5>\u001B[1;34m()\u001B[0m\n\u001B[0;32m      2\u001B[0m T \u001B[38;5;241m=\u001B[39m serial\u001B[38;5;241m.\u001B[39mSerial(\u001B[38;5;124m'\u001B[39m\u001B[38;5;124mCOM5\u001B[39m\u001B[38;5;124m'\u001B[39m, \u001B[38;5;241m9600\u001B[39m)\n\u001B[0;32m      4\u001B[0m \u001B[38;5;28;01mwhile\u001B[39;00m \u001B[38;5;28;01mTrue\u001B[39;00m:\n\u001B[1;32m----> 5\u001B[0m     strTemp \u001B[38;5;241m=\u001B[39m \u001B[43mT\u001B[49m\u001B[38;5;241;43m.\u001B[39;49m\u001B[43mreadline\u001B[49m\u001B[43m(\u001B[49m\u001B[43m)\u001B[49m\n\u001B[0;32m      6\u001B[0m     \u001B[38;5;28mprint\u001B[39m(strTemp)\n\u001B[0;32m      7\u001B[0m     strTemp \u001B[38;5;241m=\u001B[39m strTemp\u001B[38;5;241m.\u001B[39mdecode(\u001B[38;5;124m'\u001B[39m\u001B[38;5;124mutf-8\u001B[39m\u001B[38;5;124m'\u001B[39m)\n",
      "File \u001B[1;32mC:\\ProgramData\\Anaconda3\\envs\\team5_project_django\\lib\\site-packages\\serial\\serialwin32.py:288\u001B[0m, in \u001B[0;36mSerial.read\u001B[1;34m(self, size)\u001B[0m\n\u001B[0;32m    286\u001B[0m \u001B[38;5;28;01mif\u001B[39;00m \u001B[38;5;129;01mnot\u001B[39;00m read_ok \u001B[38;5;129;01mand\u001B[39;00m win32\u001B[38;5;241m.\u001B[39mGetLastError() \u001B[38;5;129;01mnot\u001B[39;00m \u001B[38;5;129;01min\u001B[39;00m (win32\u001B[38;5;241m.\u001B[39mERROR_SUCCESS, win32\u001B[38;5;241m.\u001B[39mERROR_IO_PENDING):\n\u001B[0;32m    287\u001B[0m     \u001B[38;5;28;01mraise\u001B[39;00m SerialException(\u001B[38;5;124m\"\u001B[39m\u001B[38;5;124mReadFile failed (\u001B[39m\u001B[38;5;132;01m{!r}\u001B[39;00m\u001B[38;5;124m)\u001B[39m\u001B[38;5;124m\"\u001B[39m\u001B[38;5;241m.\u001B[39mformat(ctypes\u001B[38;5;241m.\u001B[39mWinError()))\n\u001B[1;32m--> 288\u001B[0m result_ok \u001B[38;5;241m=\u001B[39m \u001B[43mwin32\u001B[49m\u001B[38;5;241;43m.\u001B[39;49m\u001B[43mGetOverlappedResult\u001B[49m\u001B[43m(\u001B[49m\n\u001B[0;32m    289\u001B[0m \u001B[43m    \u001B[49m\u001B[38;5;28;43mself\u001B[39;49m\u001B[38;5;241;43m.\u001B[39;49m\u001B[43m_port_handle\u001B[49m\u001B[43m,\u001B[49m\n\u001B[0;32m    290\u001B[0m \u001B[43m    \u001B[49m\u001B[43mctypes\u001B[49m\u001B[38;5;241;43m.\u001B[39;49m\u001B[43mbyref\u001B[49m\u001B[43m(\u001B[49m\u001B[38;5;28;43mself\u001B[39;49m\u001B[38;5;241;43m.\u001B[39;49m\u001B[43m_overlapped_read\u001B[49m\u001B[43m)\u001B[49m\u001B[43m,\u001B[49m\n\u001B[0;32m    291\u001B[0m \u001B[43m    \u001B[49m\u001B[43mctypes\u001B[49m\u001B[38;5;241;43m.\u001B[39;49m\u001B[43mbyref\u001B[49m\u001B[43m(\u001B[49m\u001B[43mrc\u001B[49m\u001B[43m)\u001B[49m\u001B[43m,\u001B[49m\n\u001B[0;32m    292\u001B[0m \u001B[43m    \u001B[49m\u001B[38;5;28;43;01mTrue\u001B[39;49;00m\u001B[43m)\u001B[49m\n\u001B[0;32m    293\u001B[0m \u001B[38;5;28;01mif\u001B[39;00m \u001B[38;5;129;01mnot\u001B[39;00m result_ok:\n\u001B[0;32m    294\u001B[0m     \u001B[38;5;28;01mif\u001B[39;00m win32\u001B[38;5;241m.\u001B[39mGetLastError() \u001B[38;5;241m!=\u001B[39m win32\u001B[38;5;241m.\u001B[39mERROR_OPERATION_ABORTED:\n",
      "\u001B[1;31mKeyboardInterrupt\u001B[0m: "
     ]
    }
   ],
   "source": [
    "lastTime = 0\n",
    "T = serial.Serial('COM5', 9600)\n",
    "\n",
    "while True:\n",
    "    strTemp = T.readline()\n",
    "    print(strTemp)\n",
    "    strTemp = strTemp.decode('utf-8')\n",
    "    strTemp = strTemp.replace(\"\\n\", \"\")\n",
    "    strTemp = strTemp.split()\n",
    "    strHumi = str(strTemp[1])\n",
    "    strTemp = str(strTemp[0])\n",
    "#     strCo = strTemp[0]\n",
    "\n",
    "    db = pymysql.connect(host='121.143.172.28', user='guest_test', passwd = 'test1234!', db='ml_db')\n",
    "\n",
    "    with db:\n",
    "        cur = db.cursor()\n",
    "\n",
    "        cur.execute('INSERT INTO co_eyes_temp(temperature, humidity) VALUES (%s, %s)', (strTemp, strHumi))\n",
    "        db.commit()"
   ],
   "metadata": {
    "collapsed": false,
    "pycharm": {
     "name": "#%%\n"
    }
   }
  },
  {
   "cell_type": "code",
   "execution_count": null,
   "outputs": [],
   "source": [],
   "metadata": {
    "collapsed": false,
    "pycharm": {
     "name": "#%%\n"
    }
   }
  }
 ],
 "metadata": {
  "kernelspec": {
   "display_name": "Python 3",
   "language": "python",
   "name": "python3"
  },
  "language_info": {
   "codemirror_mode": {
    "name": "ipython",
    "version": 2
   },
   "file_extension": ".py",
   "mimetype": "text/x-python",
   "name": "python",
   "nbconvert_exporter": "python",
   "pygments_lexer": "ipython2",
   "version": "2.7.6"
  }
 },
 "nbformat": 4,
 "nbformat_minor": 0
}