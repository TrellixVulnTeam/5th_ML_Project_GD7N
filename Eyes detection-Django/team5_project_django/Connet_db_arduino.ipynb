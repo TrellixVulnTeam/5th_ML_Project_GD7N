{
 "cells": [
  {
   "cell_type": "code",
   "execution_count": 4,
   "outputs": [],
   "source": [
    "import serial\n",
    "import pymysql\n",
    "from time import localtime, strftime"
   ],
   "metadata": {
    "collapsed": false,
    "pycharm": {
     "name": "#%%\n"
    }
   }
  },
  {
   "cell_type": "code",
   "execution_count": 6,
   "outputs": [
    {
     "name": "stdout",
     "output_type": "stream",
     "text": [
      "b'27.80 33.00\\n'\n",
      "b'27.80 33.00\\n'\n",
      "b'27.80 33.00\\n'\n",
      "b'27.80 33.00\\n'\n",
      "b'27.80 33.00\\n'\n",
      "b'27.80 33.00\\n'\n",
      "b'27.80 33.00\\n'\n",
      "b'27.80 33.00\\n'\n",
      "b'27.80 33.00\\n'\n",
      "b'27.80 34.00\\n'\n",
      "b'27.80 34.00\\n'\n",
      "b'27.80 34.00\\n'\n",
      "b'27.80 34.00\\n'\n",
      "b'27.80 34.00\\n'\n",
      "b'27.80 34.00\\n'\n",
      "b'27.80 35.00\\n'\n",
      "b'27.80 35.00\\n'\n",
      "b'27.80 35.00\\n'\n",
      "b'27.80 35.00\\n'\n",
      "b'27.80 36.00\\n'\n",
      "b'27.80 36.00\\n'\n",
      "b'27.80 36.00\\n'\n"
     ]
    },
    {
     "ename": "KeyboardInterrupt",
     "evalue": "",
     "output_type": "error",
     "traceback": [
      "\u001B[0;31m---------------------------------------------------------------------------\u001B[0m",
      "\u001B[0;31mKeyboardInterrupt\u001B[0m                         Traceback (most recent call last)",
      "Input \u001B[0;32mIn [6]\u001B[0m, in \u001B[0;36m<cell line: 5>\u001B[0;34m()\u001B[0m\n\u001B[1;32m     17\u001B[0m cur \u001B[38;5;241m=\u001B[39m db\u001B[38;5;241m.\u001B[39mcursor()\n\u001B[1;32m     19\u001B[0m cur\u001B[38;5;241m.\u001B[39mexecute(\u001B[38;5;124m'\u001B[39m\u001B[38;5;124mINSERT INTO co_eyes_temp(temperature, humidity) VALUES (\u001B[39m\u001B[38;5;132;01m%s\u001B[39;00m\u001B[38;5;124m, \u001B[39m\u001B[38;5;132;01m%s\u001B[39;00m\u001B[38;5;124m)\u001B[39m\u001B[38;5;124m'\u001B[39m, (strTemp, strHumi))\n\u001B[0;32m---> 20\u001B[0m \u001B[43mdb\u001B[49m\u001B[38;5;241;43m.\u001B[39;49m\u001B[43mcommit\u001B[49m\u001B[43m(\u001B[49m\u001B[43m)\u001B[49m\n",
      "File \u001B[0;32m~/Workspace/5th_ML_Project/Eyes detection-Django/django_app/venv/lib/python3.8/site-packages/pymysql/connections.py:470\u001B[0m, in \u001B[0;36mConnection.commit\u001B[0;34m(self)\u001B[0m\n\u001B[1;32m    463\u001B[0m \u001B[38;5;124;03m\"\"\"\u001B[39;00m\n\u001B[1;32m    464\u001B[0m \u001B[38;5;124;03mCommit changes to stable storage.\u001B[39;00m\n\u001B[1;32m    465\u001B[0m \n\u001B[1;32m    466\u001B[0m \u001B[38;5;124;03mSee `Connection.commit() <https://www.python.org/dev/peps/pep-0249/#commit>`_\u001B[39;00m\n\u001B[1;32m    467\u001B[0m \u001B[38;5;124;03min the specification.\u001B[39;00m\n\u001B[1;32m    468\u001B[0m \u001B[38;5;124;03m\"\"\"\u001B[39;00m\n\u001B[1;32m    469\u001B[0m \u001B[38;5;28mself\u001B[39m\u001B[38;5;241m.\u001B[39m_execute_command(COMMAND\u001B[38;5;241m.\u001B[39mCOM_QUERY, \u001B[38;5;124m\"\u001B[39m\u001B[38;5;124mCOMMIT\u001B[39m\u001B[38;5;124m\"\u001B[39m)\n\u001B[0;32m--> 470\u001B[0m \u001B[38;5;28;43mself\u001B[39;49m\u001B[38;5;241;43m.\u001B[39;49m\u001B[43m_read_ok_packet\u001B[49m\u001B[43m(\u001B[49m\u001B[43m)\u001B[49m\n",
      "File \u001B[0;32m~/Workspace/5th_ML_Project/Eyes detection-Django/django_app/venv/lib/python3.8/site-packages/pymysql/connections.py:443\u001B[0m, in \u001B[0;36mConnection._read_ok_packet\u001B[0;34m(self)\u001B[0m\n\u001B[1;32m    442\u001B[0m \u001B[38;5;28;01mdef\u001B[39;00m \u001B[38;5;21m_read_ok_packet\u001B[39m(\u001B[38;5;28mself\u001B[39m):\n\u001B[0;32m--> 443\u001B[0m     pkt \u001B[38;5;241m=\u001B[39m \u001B[38;5;28;43mself\u001B[39;49m\u001B[38;5;241;43m.\u001B[39;49m\u001B[43m_read_packet\u001B[49m\u001B[43m(\u001B[49m\u001B[43m)\u001B[49m\n\u001B[1;32m    444\u001B[0m     \u001B[38;5;28;01mif\u001B[39;00m \u001B[38;5;129;01mnot\u001B[39;00m pkt\u001B[38;5;241m.\u001B[39mis_ok_packet():\n\u001B[1;32m    445\u001B[0m         \u001B[38;5;28;01mraise\u001B[39;00m err\u001B[38;5;241m.\u001B[39mOperationalError(\u001B[38;5;241m2014\u001B[39m, \u001B[38;5;124m\"\u001B[39m\u001B[38;5;124mCommand Out of Sync\u001B[39m\u001B[38;5;124m\"\u001B[39m)\n",
      "File \u001B[0;32m~/Workspace/5th_ML_Project/Eyes detection-Django/django_app/venv/lib/python3.8/site-packages/pymysql/connections.py:692\u001B[0m, in \u001B[0;36mConnection._read_packet\u001B[0;34m(self, packet_type)\u001B[0m\n\u001B[1;32m    690\u001B[0m buff \u001B[38;5;241m=\u001B[39m \u001B[38;5;28mbytearray\u001B[39m()\n\u001B[1;32m    691\u001B[0m \u001B[38;5;28;01mwhile\u001B[39;00m \u001B[38;5;28;01mTrue\u001B[39;00m:\n\u001B[0;32m--> 692\u001B[0m     packet_header \u001B[38;5;241m=\u001B[39m \u001B[38;5;28;43mself\u001B[39;49m\u001B[38;5;241;43m.\u001B[39;49m\u001B[43m_read_bytes\u001B[49m\u001B[43m(\u001B[49m\u001B[38;5;241;43m4\u001B[39;49m\u001B[43m)\u001B[49m\n\u001B[1;32m    693\u001B[0m     \u001B[38;5;66;03m# if DEBUG: dump_packet(packet_header)\u001B[39;00m\n\u001B[1;32m    695\u001B[0m     btrl, btrh, packet_number \u001B[38;5;241m=\u001B[39m struct\u001B[38;5;241m.\u001B[39munpack(\u001B[38;5;124m\"\u001B[39m\u001B[38;5;124m<HBB\u001B[39m\u001B[38;5;124m\"\u001B[39m, packet_header)\n",
      "File \u001B[0;32m~/Workspace/5th_ML_Project/Eyes detection-Django/django_app/venv/lib/python3.8/site-packages/pymysql/connections.py:732\u001B[0m, in \u001B[0;36mConnection._read_bytes\u001B[0;34m(self, num_bytes)\u001B[0m\n\u001B[1;32m    730\u001B[0m \u001B[38;5;28;01mwhile\u001B[39;00m \u001B[38;5;28;01mTrue\u001B[39;00m:\n\u001B[1;32m    731\u001B[0m     \u001B[38;5;28;01mtry\u001B[39;00m:\n\u001B[0;32m--> 732\u001B[0m         data \u001B[38;5;241m=\u001B[39m \u001B[38;5;28;43mself\u001B[39;49m\u001B[38;5;241;43m.\u001B[39;49m\u001B[43m_rfile\u001B[49m\u001B[38;5;241;43m.\u001B[39;49m\u001B[43mread\u001B[49m\u001B[43m(\u001B[49m\u001B[43mnum_bytes\u001B[49m\u001B[43m)\u001B[49m\n\u001B[1;32m    733\u001B[0m         \u001B[38;5;28;01mbreak\u001B[39;00m\n\u001B[1;32m    734\u001B[0m     \u001B[38;5;28;01mexcept\u001B[39;00m (\u001B[38;5;167;01mIOError\u001B[39;00m, \u001B[38;5;167;01mOSError\u001B[39;00m) \u001B[38;5;28;01mas\u001B[39;00m e:\n",
      "File \u001B[0;32m/usr/lib/python3.8/socket.py:669\u001B[0m, in \u001B[0;36mSocketIO.readinto\u001B[0;34m(self, b)\u001B[0m\n\u001B[1;32m    667\u001B[0m \u001B[38;5;28;01mwhile\u001B[39;00m \u001B[38;5;28;01mTrue\u001B[39;00m:\n\u001B[1;32m    668\u001B[0m     \u001B[38;5;28;01mtry\u001B[39;00m:\n\u001B[0;32m--> 669\u001B[0m         \u001B[38;5;28;01mreturn\u001B[39;00m \u001B[38;5;28;43mself\u001B[39;49m\u001B[38;5;241;43m.\u001B[39;49m\u001B[43m_sock\u001B[49m\u001B[38;5;241;43m.\u001B[39;49m\u001B[43mrecv_into\u001B[49m\u001B[43m(\u001B[49m\u001B[43mb\u001B[49m\u001B[43m)\u001B[49m\n\u001B[1;32m    670\u001B[0m     \u001B[38;5;28;01mexcept\u001B[39;00m timeout:\n\u001B[1;32m    671\u001B[0m         \u001B[38;5;28mself\u001B[39m\u001B[38;5;241m.\u001B[39m_timeout_occurred \u001B[38;5;241m=\u001B[39m \u001B[38;5;28;01mTrue\u001B[39;00m\n",
      "\u001B[0;31mKeyboardInterrupt\u001B[0m: "
     ]
    }
   ],
   "source": [
    "lastTime = 0\n",
    "T = serial.Serial('/dev/ttyACM1', 9600)\n",
    "\n",
    "while True:\n",
    "    strTemp = T.readline()\n",
    "    print(strTemp)\n",
    "    strTemp = strTemp.decode('utf-8')\n",
    "    strTemp = strTemp.replace(\"\\n\", \"\")\n",
    "    strTemp = strTemp.split()\n",
    "    strHumi = str(strTemp[1])\n",
    "    strTemp = str(strTemp[0])\n",
    "#     strCo = strTemp[0]\n",
    "\n",
    "    db = pymysql.connect(host='localhost', user='guest_test', passwd = 'test1234!', db='ml_db')\n",
    "\n",
    "    with db:\n",
    "        cur = db.cursor()\n",
    "\n",
    "        cur.execute('INSERT INTO co_eyes_temp(temperature, humidity) VALUES (%s, %s)', (strTemp, strHumi))\n",
    "        db.commit()"
   ],
   "metadata": {
    "collapsed": false,
    "pycharm": {
     "name": "#%%\n"
    }
   }
  },
  {
   "cell_type": "code",
   "execution_count": null,
   "outputs": [],
   "source": [],
   "metadata": {
    "collapsed": false,
    "pycharm": {
     "name": "#%%\n"
    }
   }
  }
 ],
 "metadata": {
  "kernelspec": {
   "display_name": "Python 3",
   "language": "python",
   "name": "python3"
  },
  "language_info": {
   "codemirror_mode": {
    "name": "ipython",
    "version": 2
   },
   "file_extension": ".py",
   "mimetype": "text/x-python",
   "name": "python",
   "nbconvert_exporter": "python",
   "pygments_lexer": "ipython2",
   "version": "2.7.6"
  }
 },
 "nbformat": 4,
 "nbformat_minor": 0
}