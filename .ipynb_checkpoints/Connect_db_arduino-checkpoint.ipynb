{
 "cells": [
  {
   "cell_type": "code",
   "execution_count": 14,
   "id": "403b1745",
   "metadata": {},
   "outputs": [],
   "source": [
    "import serial\n",
    "import pymysql\n",
    "from time import localtime, strftime"
   ]
  },
  {
   "cell_type": "code",
   "execution_count": 24,
   "id": "cf93cabf",
   "metadata": {
    "scrolled": true
   },
   "outputs": [
    {
     "name": "stdout",
     "output_type": "stream",
     "text": [
      "400  26.60  41.00 \n",
      "400  26.60  41.00 \n",
      "400  26.60  41.00 \n",
      "400  26.60  41.00 \n",
      "400  26.60  41.00 \n",
      "886  26.60  41.00 \n",
      "1872  26.60  41.00\n",
      "2641  26.60  41.00\n",
      "3060  26.60  41.00\n",
      "3400  26.60  41.00\n",
      "3215  26.60  41.00\n"
     ]
    },
    {
     "ename": "KeyboardInterrupt",
     "evalue": "",
     "output_type": "error",
     "traceback": [
      "\u001b[0;31m---------------------------------------------------------------------------\u001b[0m",
      "\u001b[0;31mKeyboardInterrupt\u001b[0m                         Traceback (most recent call last)",
      "Input \u001b[0;32mIn [24]\u001b[0m, in \u001b[0;36m<cell line: 6>\u001b[0;34m()\u001b[0m\n\u001b[1;32m      4\u001b[0m strTotal \u001b[38;5;241m=\u001b[39m \u001b[38;5;124m'\u001b[39m\u001b[38;5;124m'\u001b[39m\n\u001b[1;32m      5\u001b[0m \u001b[38;5;28;01mwhile\u001b[39;00m \u001b[38;5;28;01mTrue\u001b[39;00m:\n\u001b[0;32m----> 6\u001b[0m     strTotal \u001b[38;5;241m=\u001b[39m \u001b[43mT\u001b[49m\u001b[38;5;241;43m.\u001b[39;49m\u001b[43mreadline\u001b[49m\u001b[43m(\u001b[49m\u001b[43m)\u001b[49m\n\u001b[1;32m      7\u001b[0m     strTotal \u001b[38;5;241m=\u001b[39m strTotal\u001b[38;5;241m.\u001b[39mdecode(\u001b[38;5;124m'\u001b[39m\u001b[38;5;124mutf-8\u001b[39m\u001b[38;5;124m'\u001b[39m)\n\u001b[1;32m      8\u001b[0m     strTotal \u001b[38;5;241m=\u001b[39m strTotal\u001b[38;5;241m.\u001b[39mreplace(\u001b[38;5;124m\"\u001b[39m\u001b[38;5;124mb\u001b[39m\u001b[38;5;124m\"\u001b[39m, \u001b[38;5;124m\"\u001b[39m\u001b[38;5;124m\"\u001b[39m)\n",
      "File \u001b[0;32m~/anaconda3/envs/machine_TF2/lib/python3.8/site-packages/serial/serialposix.py:565\u001b[0m, in \u001b[0;36mSerial.read\u001b[0;34m(self, size)\u001b[0m\n\u001b[1;32m    563\u001b[0m \u001b[38;5;28;01mwhile\u001b[39;00m \u001b[38;5;28mlen\u001b[39m(read) \u001b[38;5;241m<\u001b[39m size:\n\u001b[1;32m    564\u001b[0m     \u001b[38;5;28;01mtry\u001b[39;00m:\n\u001b[0;32m--> 565\u001b[0m         ready, _, _ \u001b[38;5;241m=\u001b[39m \u001b[43mselect\u001b[49m\u001b[38;5;241;43m.\u001b[39;49m\u001b[43mselect\u001b[49m\u001b[43m(\u001b[49m\u001b[43m[\u001b[49m\u001b[38;5;28;43mself\u001b[39;49m\u001b[38;5;241;43m.\u001b[39;49m\u001b[43mfd\u001b[49m\u001b[43m,\u001b[49m\u001b[43m \u001b[49m\u001b[38;5;28;43mself\u001b[39;49m\u001b[38;5;241;43m.\u001b[39;49m\u001b[43mpipe_abort_read_r\u001b[49m\u001b[43m]\u001b[49m\u001b[43m,\u001b[49m\u001b[43m \u001b[49m\u001b[43m[\u001b[49m\u001b[43m]\u001b[49m\u001b[43m,\u001b[49m\u001b[43m \u001b[49m\u001b[43m[\u001b[49m\u001b[43m]\u001b[49m\u001b[43m,\u001b[49m\u001b[43m \u001b[49m\u001b[43mtimeout\u001b[49m\u001b[38;5;241;43m.\u001b[39;49m\u001b[43mtime_left\u001b[49m\u001b[43m(\u001b[49m\u001b[43m)\u001b[49m\u001b[43m)\u001b[49m\n\u001b[1;32m    566\u001b[0m         \u001b[38;5;28;01mif\u001b[39;00m \u001b[38;5;28mself\u001b[39m\u001b[38;5;241m.\u001b[39mpipe_abort_read_r \u001b[38;5;129;01min\u001b[39;00m ready:\n\u001b[1;32m    567\u001b[0m             os\u001b[38;5;241m.\u001b[39mread(\u001b[38;5;28mself\u001b[39m\u001b[38;5;241m.\u001b[39mpipe_abort_read_r, \u001b[38;5;241m1000\u001b[39m)\n",
      "\u001b[0;31mKeyboardInterrupt\u001b[0m: "
     ]
    }
   ],
   "source": [
    "lastTime = 0\n",
    "T = serial.Serial('/dev/ttyACM0', 9600)\n",
    "strCo = ''\n",
    "strTotal = ''\n",
    "while True:\n",
    "    strTotal = T.readline()\n",
    "    strTotal = strTotal.decode('utf-8')\n",
    "    strTotal = strTotal.replace(\"b\", \"\")\n",
    "    strTotal = strTotal.replace(\"'\", \"\")\n",
    "    strTotal = strTotal.replace(\"\\n\", \"\")\n",
    "    strHumi = strTotal[10:16]\n",
    "    strTemp = strTotal[4:10]\n",
    "    strCo = strTotal[0:4]\n",
    "    print(strTotal[0:4], strTotal[4:10], strTotal[10:16])\n",
    "  \n",
    "    db = pymysql.connect(host='localhost', user='guest_test', passwd = 'test1234!', db='ml_db')\n",
    "\n",
    "    with db:\n",
    "        cur = db.cursor()\n",
    "\n",
    "        cur.execute('INSERT INTO co_eyes_temp(temperature, humidity, co2) VALUES (%s, %s, %s)', (strTemp, strHumi, strCo))\n",
    "        db.commit()"
   ]
  },
  {
   "cell_type": "code",
   "execution_count": 1,
   "id": "0e5bd3e4",
   "metadata": {},
   "outputs": [],
   "source": [
    "import pymysql\n",
    "import pandas as pd\n",
    "import matplotlib.pyplot as plt"
   ]
  },
  {
   "cell_type": "code",
   "execution_count": 2,
   "id": "9ff147fe",
   "metadata": {},
   "outputs": [],
   "source": [
    "db= pymysql.connect( # db 연결\n",
    "    user='guest_test',\n",
    "    passwd='test1234!',\n",
    "    host='121.143.172.28',\n",
    "    db='ml_db')\n",
    "\n",
    "cursor = db.cursor()\n",
    "sql = \"INSERT INTO co_eyes_predictlabel (label, total_sleep_count) VALUES (%s, %s)\"\n",
    "query = \"SELECT * FROM co_eyes_predictlabel\"\n",
    "cursor.execute(query)\n",
    "db.commit()"
   ]
  },
  {
   "cell_type": "code",
   "execution_count": 3,
   "id": "b565ed61",
   "metadata": {},
   "outputs": [],
   "source": [
    "datas = cursor.fetchall()"
   ]
  },
  {
   "cell_type": "code",
   "execution_count": 4,
   "id": "36792cb3",
   "metadata": {},
   "outputs": [
    {
     "data": {
      "text/plain": [
       "((1, 'closed', 1, datetime.datetime(2022, 5, 9, 2, 12, 45)),\n",
       " (2, 'closed', 1, datetime.datetime(2022, 5, 9, 2, 13, 24)),\n",
       " (3, 'closed', 1, datetime.datetime(2022, 5, 9, 2, 13, 56)),\n",
       " (4, 'closed', 1, datetime.datetime(2022, 5, 9, 2, 17, 46)),\n",
       " (5, 'closed', 1, datetime.datetime(2022, 5, 9, 2, 20, 18)),\n",
       " (6, 'closed', 1, datetime.datetime(2022, 5, 9, 2, 26, 44)),\n",
       " (7, 'closed', 2, datetime.datetime(2022, 5, 9, 2, 26, 51)),\n",
       " (8, 'closed', 3, datetime.datetime(2022, 5, 9, 2, 26, 57)),\n",
       " (9, 'closed', 1, datetime.datetime(2022, 5, 10, 14, 26, 28)),\n",
       " (10, 'closed', 2, datetime.datetime(2022, 5, 10, 14, 26, 30)),\n",
       " (11, 'closed', 1, datetime.datetime(2022, 5, 10, 14, 26, 53)),\n",
       " (12, 'closed', 2, datetime.datetime(2022, 5, 10, 14, 27, 6)),\n",
       " (13, 'closed', 3, datetime.datetime(2022, 5, 10, 14, 27, 9)),\n",
       " (14, 'closed', 4, datetime.datetime(2022, 5, 10, 14, 27, 12)),\n",
       " (15, 'closed', 5, datetime.datetime(2022, 5, 10, 14, 27, 17)),\n",
       " (16, 'closed', 6, datetime.datetime(2022, 5, 10, 14, 27, 20)),\n",
       " (17, 'closed', 7, datetime.datetime(2022, 5, 10, 14, 27, 23)),\n",
       " (18, 'closed', 8, datetime.datetime(2022, 5, 10, 14, 27, 32)),\n",
       " (19, 'closed', 9, datetime.datetime(2022, 5, 10, 14, 27, 36)),\n",
       " (20, 'closed', 10, datetime.datetime(2022, 5, 10, 14, 27, 43)),\n",
       " (21, 'closed', 11, datetime.datetime(2022, 5, 10, 14, 27, 47)),\n",
       " (22, 'closed', 12, datetime.datetime(2022, 5, 10, 14, 27, 54)),\n",
       " (23, 'closed', 13, datetime.datetime(2022, 5, 10, 14, 27, 59)),\n",
       " (24, 'closed', 14, datetime.datetime(2022, 5, 10, 14, 28, 10)),\n",
       " (25, 'closed', 15, datetime.datetime(2022, 5, 10, 14, 28, 15)),\n",
       " (26, 'closed', 16, datetime.datetime(2022, 5, 10, 14, 28, 22)),\n",
       " (27, 'closed', 17, datetime.datetime(2022, 5, 10, 14, 28, 28)),\n",
       " (28, 'closed', 18, datetime.datetime(2022, 5, 10, 14, 28, 33)),\n",
       " (29, 'closed', 1, datetime.datetime(2022, 5, 11, 14, 24, 34)),\n",
       " (30, 'closed', 2, datetime.datetime(2022, 5, 11, 14, 24, 41)),\n",
       " (31, 'closed', 3, datetime.datetime(2022, 5, 11, 14, 24, 52)),\n",
       " (32, 'closed', 4, datetime.datetime(2022, 5, 11, 14, 24, 59)),\n",
       " (33, 'closed', 5, datetime.datetime(2022, 5, 11, 14, 25, 5)))"
      ]
     },
     "execution_count": 4,
     "metadata": {},
     "output_type": "execute_result"
    }
   ],
   "source": [
    "datas"
   ]
  },
  {
   "cell_type": "code",
   "execution_count": 5,
   "id": "30008ab2",
   "metadata": {},
   "outputs": [],
   "source": [
    "df = pd.DataFrame(datas)\n",
    "df.columns = ['id', 'label', 'total_sleep_count', 'register_date']"
   ]
  },
  {
   "cell_type": "code",
   "execution_count": 6,
   "id": "d4ef4166",
   "metadata": {},
   "outputs": [
    {
     "data": {
      "text/html": [
       "<div>\n",
       "<style scoped>\n",
       "    .dataframe tbody tr th:only-of-type {\n",
       "        vertical-align: middle;\n",
       "    }\n",
       "\n",
       "    .dataframe tbody tr th {\n",
       "        vertical-align: top;\n",
       "    }\n",
       "\n",
       "    .dataframe thead th {\n",
       "        text-align: right;\n",
       "    }\n",
       "</style>\n",
       "<table border=\"1\" class=\"dataframe\">\n",
       "  <thead>\n",
       "    <tr style=\"text-align: right;\">\n",
       "      <th></th>\n",
       "      <th>id</th>\n",
       "      <th>label</th>\n",
       "      <th>total_sleep_count</th>\n",
       "      <th>register_date</th>\n",
       "    </tr>\n",
       "  </thead>\n",
       "  <tbody>\n",
       "    <tr>\n",
       "      <th>0</th>\n",
       "      <td>1</td>\n",
       "      <td>closed</td>\n",
       "      <td>1</td>\n",
       "      <td>2022-05-09 02:12:45</td>\n",
       "    </tr>\n",
       "    <tr>\n",
       "      <th>1</th>\n",
       "      <td>2</td>\n",
       "      <td>closed</td>\n",
       "      <td>1</td>\n",
       "      <td>2022-05-09 02:13:24</td>\n",
       "    </tr>\n",
       "    <tr>\n",
       "      <th>2</th>\n",
       "      <td>3</td>\n",
       "      <td>closed</td>\n",
       "      <td>1</td>\n",
       "      <td>2022-05-09 02:13:56</td>\n",
       "    </tr>\n",
       "    <tr>\n",
       "      <th>3</th>\n",
       "      <td>4</td>\n",
       "      <td>closed</td>\n",
       "      <td>1</td>\n",
       "      <td>2022-05-09 02:17:46</td>\n",
       "    </tr>\n",
       "    <tr>\n",
       "      <th>4</th>\n",
       "      <td>5</td>\n",
       "      <td>closed</td>\n",
       "      <td>1</td>\n",
       "      <td>2022-05-09 02:20:18</td>\n",
       "    </tr>\n",
       "  </tbody>\n",
       "</table>\n",
       "</div>"
      ],
      "text/plain": [
       "   id   label  total_sleep_count       register_date\n",
       "0   1  closed                  1 2022-05-09 02:12:45\n",
       "1   2  closed                  1 2022-05-09 02:13:24\n",
       "2   3  closed                  1 2022-05-09 02:13:56\n",
       "3   4  closed                  1 2022-05-09 02:17:46\n",
       "4   5  closed                  1 2022-05-09 02:20:18"
      ]
     },
     "execution_count": 6,
     "metadata": {},
     "output_type": "execute_result"
    }
   ],
   "source": [
    "df.head(5)"
   ]
  },
  {
   "cell_type": "code",
   "execution_count": 7,
   "id": "9d8c2166",
   "metadata": {},
   "outputs": [
    {
     "data": {
      "text/html": [
       "<div>\n",
       "<style scoped>\n",
       "    .dataframe tbody tr th:only-of-type {\n",
       "        vertical-align: middle;\n",
       "    }\n",
       "\n",
       "    .dataframe tbody tr th {\n",
       "        vertical-align: top;\n",
       "    }\n",
       "\n",
       "    .dataframe thead th {\n",
       "        text-align: right;\n",
       "    }\n",
       "</style>\n",
       "<table border=\"1\" class=\"dataframe\">\n",
       "  <thead>\n",
       "    <tr style=\"text-align: right;\">\n",
       "      <th></th>\n",
       "      <th>id</th>\n",
       "      <th>label</th>\n",
       "      <th>total_sleep_count</th>\n",
       "    </tr>\n",
       "    <tr>\n",
       "      <th>register_date</th>\n",
       "      <th></th>\n",
       "      <th></th>\n",
       "      <th></th>\n",
       "    </tr>\n",
       "  </thead>\n",
       "  <tbody>\n",
       "    <tr>\n",
       "      <th>9</th>\n",
       "      <td>8</td>\n",
       "      <td>closed</td>\n",
       "      <td>3</td>\n",
       "    </tr>\n",
       "    <tr>\n",
       "      <th>10</th>\n",
       "      <td>28</td>\n",
       "      <td>closed</td>\n",
       "      <td>18</td>\n",
       "    </tr>\n",
       "    <tr>\n",
       "      <th>11</th>\n",
       "      <td>33</td>\n",
       "      <td>closed</td>\n",
       "      <td>5</td>\n",
       "    </tr>\n",
       "  </tbody>\n",
       "</table>\n",
       "</div>"
      ],
      "text/plain": [
       "               id   label  total_sleep_count\n",
       "register_date                               \n",
       "9               8  closed                  3\n",
       "10             28  closed                 18\n",
       "11             33  closed                  5"
      ]
     },
     "execution_count": 7,
     "metadata": {},
     "output_type": "execute_result"
    }
   ],
   "source": [
    "df['register_date'] = df['register_date'].dt.day\n",
    "df = df.groupby('register_date').max()\n",
    "df"
   ]
  },
  {
   "cell_type": "code",
   "execution_count": 8,
   "id": "cd9fa8d0",
   "metadata": {},
   "outputs": [
    {
     "data": {
      "image/png": "[encoded data removed]",
      "text/plain": [
       "<Figure size 432x288 with 1 Axes>"
      ]
     },
     "metadata": {
      "needs_background": "light"
     },
     "output_type": "display_data"
    }
   ],
   "source": [
    "plt.plot(df.index, df['total_sleep_count'])\n",
    "plt.xticks(df.index)\n",
    "plt.show()"
   ]
  },
  {
   "cell_type": "code",
   "execution_count": 9,
   "id": "09e8442f",
   "metadata": {},
   "outputs": [],
   "source": [
    "import seaborn as sns"
   ]
  },
  {
   "cell_type": "code",
   "execution_count": 11,
   "id": "b27f19ec",
   "metadata": {},
   "outputs": [
    {
     "ename": "AttributeError",
     "evalue": "'function' object has no attribute 'area'",
     "output_type": "error",
     "traceback": [
      "\u001b[0;31m---------------------------------------------------------------------------\u001b[0m",
      "\u001b[0;31mAttributeError\u001b[0m                            Traceback (most recent call last)",
      "Input \u001b[0;32mIn [11]\u001b[0m, in \u001b[0;36m<cell line: 1>\u001b[0;34m()\u001b[0m\n\u001b[0;32m----> 1\u001b[0m \u001b[43mplt\u001b[49m\u001b[38;5;241;43m.\u001b[39;49m\u001b[43mplot\u001b[49m\u001b[38;5;241;43m.\u001b[39;49m\u001b[43marea\u001b[49m(df\u001b[38;5;241m.\u001b[39mindex, df[\u001b[38;5;124m'\u001b[39m\u001b[38;5;124mtotal_sleep_count\u001b[39m\u001b[38;5;124m'\u001b[39m])\n",
      "\u001b[0;31mAttributeError\u001b[0m: 'function' object has no attribute 'area'"
     ]
    }
   ],
   "source": [
    "plt.plot.area(df.index, df['total_sleep_count'])"
   ]
  },
  {
   "cell_type": "code",
   "execution_count": null,
   "id": "12801704",
   "metadata": {},
   "outputs": [],
   "source": [
    "df.plot.area()"
   ]
  }
 ],
 "metadata": {
  "kernelspec": {
   "display_name": "Python [conda env:machine_TF2] *",
   "language": "python",
   "name": "conda-env-machine_TF2-py"
  },
  "language_info": {
   "codemirror_mode": {
    "name": "ipython",
    "version": 3
   },
   "file_extension": ".py",
   "mimetype": "text/x-python",
   "name": "python",
   "nbconvert_exporter": "python",
   "pygments_lexer": "ipython3",
   "version": "3.8.13"
  }
 },
 "nbformat": 4,
 "nbformat_minor": 5
}
