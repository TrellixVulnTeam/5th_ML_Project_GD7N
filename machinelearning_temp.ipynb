{
 "cells": [
  {
   "cell_type": "code",
   "execution_count": 51,
   "id": "896e09aa",
   "metadata": {},
   "outputs": [],
   "source": [
    "import pandas as pd\n",
    "import numpy as np\n",
    "import matplotlib.pyplot as plt\n",
    "import seaborn as sns\n",
    "import warnings\n",
    "warnings.filterwarnings('ignore')"
   ]
  },
  {
   "cell_type": "code",
   "execution_count": 52,
   "id": "b28f5c85",
   "metadata": {},
   "outputs": [
    {
     "data": {
      "text/html": [
       "<div>\n",
       "<style scoped>\n",
       "    .dataframe tbody tr th:only-of-type {\n",
       "        vertical-align: middle;\n",
       "    }\n",
       "\n",
       "    .dataframe tbody tr th {\n",
       "        vertical-align: top;\n",
       "    }\n",
       "\n",
       "    .dataframe thead th {\n",
       "        text-align: right;\n",
       "    }\n",
       "</style>\n",
       "<table border=\"1\" class=\"dataframe\">\n",
       "  <thead>\n",
       "    <tr style=\"text-align: right;\">\n",
       "      <th></th>\n",
       "      <th>기온</th>\n",
       "      <th>습도</th>\n",
       "      <th>co2</th>\n",
       "      <th>label</th>\n",
       "    </tr>\n",
       "  </thead>\n",
       "  <tbody>\n",
       "    <tr>\n",
       "      <th>0</th>\n",
       "      <td>-11.3</td>\n",
       "      <td>47.0</td>\n",
       "      <td>3702</td>\n",
       "      <td>1</td>\n",
       "    </tr>\n",
       "    <tr>\n",
       "      <th>1</th>\n",
       "      <td>-10.2</td>\n",
       "      <td>44.0</td>\n",
       "      <td>2697</td>\n",
       "      <td>1</td>\n",
       "    </tr>\n",
       "    <tr>\n",
       "      <th>2</th>\n",
       "      <td>-10.1</td>\n",
       "      <td>42.0</td>\n",
       "      <td>5792</td>\n",
       "      <td>1</td>\n",
       "    </tr>\n",
       "    <tr>\n",
       "      <th>3</th>\n",
       "      <td>-10.2</td>\n",
       "      <td>42.0</td>\n",
       "      <td>4437</td>\n",
       "      <td>1</td>\n",
       "    </tr>\n",
       "    <tr>\n",
       "      <th>4</th>\n",
       "      <td>-10.6</td>\n",
       "      <td>44.0</td>\n",
       "      <td>6934</td>\n",
       "      <td>1</td>\n",
       "    </tr>\n",
       "    <tr>\n",
       "      <th>...</th>\n",
       "      <td>...</td>\n",
       "      <td>...</td>\n",
       "      <td>...</td>\n",
       "      <td>...</td>\n",
       "    </tr>\n",
       "    <tr>\n",
       "      <th>508982</th>\n",
       "      <td>17.6</td>\n",
       "      <td>84.0</td>\n",
       "      <td>3526</td>\n",
       "      <td>1</td>\n",
       "    </tr>\n",
       "    <tr>\n",
       "      <th>508983</th>\n",
       "      <td>17.6</td>\n",
       "      <td>86.0</td>\n",
       "      <td>6355</td>\n",
       "      <td>1</td>\n",
       "    </tr>\n",
       "    <tr>\n",
       "      <th>508984</th>\n",
       "      <td>17.5</td>\n",
       "      <td>85.0</td>\n",
       "      <td>2503</td>\n",
       "      <td>1</td>\n",
       "    </tr>\n",
       "    <tr>\n",
       "      <th>508985</th>\n",
       "      <td>17.7</td>\n",
       "      <td>81.0</td>\n",
       "      <td>568</td>\n",
       "      <td>1</td>\n",
       "    </tr>\n",
       "    <tr>\n",
       "      <th>508986</th>\n",
       "      <td>17.8</td>\n",
       "      <td>84.0</td>\n",
       "      <td>4146</td>\n",
       "      <td>1</td>\n",
       "    </tr>\n",
       "  </tbody>\n",
       "</table>\n",
       "<p>508987 rows × 4 columns</p>\n",
       "</div>"
      ],
      "text/plain": [
       "          기온    습도   co2  label\n",
       "0      -11.3  47.0  3702      1\n",
       "1      -10.2  44.0  2697      1\n",
       "2      -10.1  42.0  5792      1\n",
       "3      -10.2  42.0  4437      1\n",
       "4      -10.6  44.0  6934      1\n",
       "...      ...   ...   ...    ...\n",
       "508982  17.6  84.0  3526      1\n",
       "508983  17.6  86.0  6355      1\n",
       "508984  17.5  85.0  2503      1\n",
       "508985  17.7  81.0   568      1\n",
       "508986  17.8  84.0  4146      1\n",
       "\n",
       "[508987 rows x 4 columns]"
      ]
     },
     "execution_count": 52,
     "metadata": {},
     "output_type": "execute_result"
    }
   ],
   "source": [
    "df = pd.read_csv('./dataset/temp data/temp.csv')\n",
    "df = df.drop(['Unnamed: 0'], axis=1)\n",
    "df.columns=['기온', '습도', 'co2', 'label']\n",
    "df"
   ]
  },
  {
   "cell_type": "code",
   "execution_count": 53,
   "id": "ee2c0b5a",
   "metadata": {},
   "outputs": [],
   "source": [
    "df = df.drop(df.loc[df['기온'] < -20].index)"
   ]
  },
  {
   "cell_type": "code",
   "execution_count": 54,
   "id": "5d417d70",
   "metadata": {},
   "outputs": [
    {
     "data": {
      "text/plain": [
       "<bound method DataFrame.info of           기온    습도   co2  label\n",
       "0      -11.3  47.0  3702      1\n",
       "1      -10.2  44.0  2697      1\n",
       "2      -10.1  42.0  5792      1\n",
       "3      -10.2  42.0  4437      1\n",
       "4      -10.6  44.0  6934      1\n",
       "...      ...   ...   ...    ...\n",
       "508982  17.6  84.0  3526      1\n",
       "508983  17.6  86.0  6355      1\n",
       "508984  17.5  85.0  2503      1\n",
       "508985  17.7  81.0   568      1\n",
       "508986  17.8  84.0  4146      1\n",
       "\n",
       "[507992 rows x 4 columns]>"
      ]
     },
     "execution_count": 54,
     "metadata": {},
     "output_type": "execute_result"
    }
   ],
   "source": [
    "df.info"
   ]
  },
  {
   "cell_type": "code",
   "execution_count": 55,
   "id": "73405939",
   "metadata": {},
   "outputs": [
    {
     "data": {
      "text/html": [
       "<div>\n",
       "<style scoped>\n",
       "    .dataframe tbody tr th:only-of-type {\n",
       "        vertical-align: middle;\n",
       "    }\n",
       "\n",
       "    .dataframe tbody tr th {\n",
       "        vertical-align: top;\n",
       "    }\n",
       "\n",
       "    .dataframe thead th {\n",
       "        text-align: right;\n",
       "    }\n",
       "</style>\n",
       "<table border=\"1\" class=\"dataframe\">\n",
       "  <thead>\n",
       "    <tr style=\"text-align: right;\">\n",
       "      <th></th>\n",
       "      <th>기온</th>\n",
       "      <th>습도</th>\n",
       "      <th>co2</th>\n",
       "      <th>label</th>\n",
       "    </tr>\n",
       "  </thead>\n",
       "  <tbody>\n",
       "    <tr>\n",
       "      <th>count</th>\n",
       "      <td>507992.000000</td>\n",
       "      <td>507992.000000</td>\n",
       "      <td>507992.000000</td>\n",
       "      <td>507992.000000</td>\n",
       "    </tr>\n",
       "    <tr>\n",
       "      <th>mean</th>\n",
       "      <td>8.282168</td>\n",
       "      <td>55.996262</td>\n",
       "      <td>3500.175784</td>\n",
       "      <td>0.835348</td>\n",
       "    </tr>\n",
       "    <tr>\n",
       "      <th>std</th>\n",
       "      <td>8.779559</td>\n",
       "      <td>19.168782</td>\n",
       "      <td>2021.490863</td>\n",
       "      <td>0.370867</td>\n",
       "    </tr>\n",
       "    <tr>\n",
       "      <th>min</th>\n",
       "      <td>-19.900000</td>\n",
       "      <td>6.000000</td>\n",
       "      <td>0.000000</td>\n",
       "      <td>0.000000</td>\n",
       "    </tr>\n",
       "    <tr>\n",
       "      <th>25%</th>\n",
       "      <td>0.900000</td>\n",
       "      <td>42.000000</td>\n",
       "      <td>1746.000000</td>\n",
       "      <td>1.000000</td>\n",
       "    </tr>\n",
       "    <tr>\n",
       "      <th>50%</th>\n",
       "      <td>8.800000</td>\n",
       "      <td>55.000000</td>\n",
       "      <td>3501.000000</td>\n",
       "      <td>1.000000</td>\n",
       "    </tr>\n",
       "    <tr>\n",
       "      <th>75%</th>\n",
       "      <td>15.200000</td>\n",
       "      <td>70.000000</td>\n",
       "      <td>5254.000000</td>\n",
       "      <td>1.000000</td>\n",
       "    </tr>\n",
       "    <tr>\n",
       "      <th>max</th>\n",
       "      <td>34.600000</td>\n",
       "      <td>100.000000</td>\n",
       "      <td>6999.000000</td>\n",
       "      <td>1.000000</td>\n",
       "    </tr>\n",
       "  </tbody>\n",
       "</table>\n",
       "</div>"
      ],
      "text/plain": [
       "                  기온             습도            co2          label\n",
       "count  507992.000000  507992.000000  507992.000000  507992.000000\n",
       "mean        8.282168      55.996262    3500.175784       0.835348\n",
       "std         8.779559      19.168782    2021.490863       0.370867\n",
       "min       -19.900000       6.000000       0.000000       0.000000\n",
       "25%         0.900000      42.000000    1746.000000       1.000000\n",
       "50%         8.800000      55.000000    3501.000000       1.000000\n",
       "75%        15.200000      70.000000    5254.000000       1.000000\n",
       "max        34.600000     100.000000    6999.000000       1.000000"
      ]
     },
     "execution_count": 55,
     "metadata": {},
     "output_type": "execute_result"
    }
   ],
   "source": [
    "df.describe()"
   ]
  },
  {
   "cell_type": "code",
   "execution_count": 56,
   "id": "574bd64b",
   "metadata": {},
   "outputs": [
    {
     "data": {
      "image/png": "[encoded data removed]",
      "text/plain": [
       "<Figure size 432x288 with 1 Axes>"
      ]
     },
     "metadata": {
      "needs_background": "light"
     },
     "output_type": "display_data"
    }
   ],
   "source": [
    "sns.countplot('label', data=df)\n",
    "plt.show()"
   ]
  },
  {
   "cell_type": "code",
   "execution_count": 57,
   "id": "f83ca78c",
   "metadata": {},
   "outputs": [],
   "source": [
    "from sklearn.model_selection import train_test_split\n",
    "from sklearn.preprocessing import StandardScaler, MinMaxScaler\n",
    "from imblearn.over_sampling import SMOTE"
   ]
  },
  {
   "cell_type": "code",
   "execution_count": 58,
   "id": "3da54a09",
   "metadata": {},
   "outputs": [],
   "source": [
    "x = df.drop('label', axis=1, inplace=False)\n",
    "y = df['label'].values.reshape(-1, 1)"
   ]
  },
  {
   "cell_type": "code",
   "execution_count": 59,
   "id": "d5cb1d0f",
   "metadata": {},
   "outputs": [
    {
     "name": "stdout",
     "output_type": "stream",
     "text": [
      "(355594, 3) (152398, 3)\n"
     ]
    }
   ],
   "source": [
    "X_train, X_test, y_train, y_test = train_test_split(x, y, test_size=0.3, random_state=100, stratify=y)\n",
    "print(X_train.shape, X_test.shape)"
   ]
  },
  {
   "cell_type": "markdown",
   "id": "aad49455",
   "metadata": {},
   "source": [
    "### Oversampling"
   ]
  },
  {
   "cell_type": "code",
   "execution_count": 60,
   "id": "014d002d",
   "metadata": {},
   "outputs": [
    {
     "name": "stdout",
     "output_type": "stream",
     "text": [
      "(594090, 3) (594090,)\n"
     ]
    }
   ],
   "source": [
    "smote = SMOTE(random_state=100)\n",
    "X_train_over, y_train_over = smote.fit_resample(X_train, y_train)\n",
    "print(X_train_over.shape, y_train_over.shape)"
   ]
  },
  {
   "cell_type": "code",
   "execution_count": 61,
   "id": "381c44f1",
   "metadata": {},
   "outputs": [
    {
     "data": {
      "text/plain": [
       "<AxesSubplot:ylabel='count'>"
      ]
     },
     "execution_count": 61,
     "metadata": {},
     "output_type": "execute_result"
    },
    {
     "data": {
      "image/png": "[encoded data removed]",
      "text/plain": [
       "<Figure size 432x288 with 1 Axes>"
      ]
     },
     "metadata": {
      "needs_background": "light"
     },
     "output_type": "display_data"
    }
   ],
   "source": [
    "sns.countplot(y_train_over, data=df)"
   ]
  },
  {
   "cell_type": "code",
   "execution_count": 62,
   "id": "31103fff",
   "metadata": {},
   "outputs": [
    {
     "data": {
      "text/html": [
       "<div>\n",
       "<style scoped>\n",
       "    .dataframe tbody tr th:only-of-type {\n",
       "        vertical-align: middle;\n",
       "    }\n",
       "\n",
       "    .dataframe tbody tr th {\n",
       "        vertical-align: top;\n",
       "    }\n",
       "\n",
       "    .dataframe thead th {\n",
       "        text-align: right;\n",
       "    }\n",
       "</style>\n",
       "<table border=\"1\" class=\"dataframe\">\n",
       "  <thead>\n",
       "    <tr style=\"text-align: right;\">\n",
       "      <th></th>\n",
       "      <th>기온</th>\n",
       "      <th>습도</th>\n",
       "      <th>co2</th>\n",
       "    </tr>\n",
       "  </thead>\n",
       "  <tbody>\n",
       "    <tr>\n",
       "      <th>0</th>\n",
       "      <td>17.200000</td>\n",
       "      <td>37.000000</td>\n",
       "      <td>1720</td>\n",
       "    </tr>\n",
       "    <tr>\n",
       "      <th>1</th>\n",
       "      <td>7.500000</td>\n",
       "      <td>71.000000</td>\n",
       "      <td>2693</td>\n",
       "    </tr>\n",
       "    <tr>\n",
       "      <th>2</th>\n",
       "      <td>9.300000</td>\n",
       "      <td>45.000000</td>\n",
       "      <td>1671</td>\n",
       "    </tr>\n",
       "    <tr>\n",
       "      <th>3</th>\n",
       "      <td>1.200000</td>\n",
       "      <td>66.000000</td>\n",
       "      <td>1318</td>\n",
       "    </tr>\n",
       "    <tr>\n",
       "      <th>4</th>\n",
       "      <td>25.000000</td>\n",
       "      <td>48.000000</td>\n",
       "      <td>3179</td>\n",
       "    </tr>\n",
       "    <tr>\n",
       "      <th>...</th>\n",
       "      <td>...</td>\n",
       "      <td>...</td>\n",
       "      <td>...</td>\n",
       "    </tr>\n",
       "    <tr>\n",
       "      <th>594085</th>\n",
       "      <td>7.350090</td>\n",
       "      <td>57.000000</td>\n",
       "      <td>5536</td>\n",
       "    </tr>\n",
       "    <tr>\n",
       "      <th>594086</th>\n",
       "      <td>8.297353</td>\n",
       "      <td>51.003309</td>\n",
       "      <td>5021</td>\n",
       "    </tr>\n",
       "    <tr>\n",
       "      <th>594087</th>\n",
       "      <td>17.231537</td>\n",
       "      <td>57.000000</td>\n",
       "      <td>6582</td>\n",
       "    </tr>\n",
       "    <tr>\n",
       "      <th>594088</th>\n",
       "      <td>0.804845</td>\n",
       "      <td>55.951552</td>\n",
       "      <td>1811</td>\n",
       "    </tr>\n",
       "    <tr>\n",
       "      <th>594089</th>\n",
       "      <td>10.466761</td>\n",
       "      <td>50.000000</td>\n",
       "      <td>6235</td>\n",
       "    </tr>\n",
       "  </tbody>\n",
       "</table>\n",
       "<p>594090 rows × 3 columns</p>\n",
       "</div>"
      ],
      "text/plain": [
       "               기온         습도   co2\n",
       "0       17.200000  37.000000  1720\n",
       "1        7.500000  71.000000  2693\n",
       "2        9.300000  45.000000  1671\n",
       "3        1.200000  66.000000  1318\n",
       "4       25.000000  48.000000  3179\n",
       "...           ...        ...   ...\n",
       "594085   7.350090  57.000000  5536\n",
       "594086   8.297353  51.003309  5021\n",
       "594087  17.231537  57.000000  6582\n",
       "594088   0.804845  55.951552  1811\n",
       "594089  10.466761  50.000000  6235\n",
       "\n",
       "[594090 rows x 3 columns]"
      ]
     },
     "execution_count": 62,
     "metadata": {},
     "output_type": "execute_result"
    }
   ],
   "source": [
    "X_train_over"
   ]
  },
  {
   "cell_type": "markdown",
   "id": "fa90835f",
   "metadata": {},
   "source": [
    "### Standardization"
   ]
  },
  {
   "cell_type": "code",
   "execution_count": 63,
   "id": "05a4c7c3",
   "metadata": {},
   "outputs": [],
   "source": [
    "scaler = StandardScaler()\n",
    "X_train_scaled = scaler.fit_transform(X_train_over)\n",
    "X_test_scaled = scaler.fit_transform(X_test)"
   ]
  },
  {
   "cell_type": "code",
   "execution_count": 64,
   "id": "5c7be43c",
   "metadata": {},
   "outputs": [],
   "source": [
    "scaler_min = MinMaxScaler()\n",
    "X_train_min_scaled = scaler_min.fit_transform(X_train_over)\n",
    "X_test_min_scaled = scaler_min.fit_transform(X_test)"
   ]
  },
  {
   "cell_type": "code",
   "execution_count": 65,
   "id": "362c42d7",
   "metadata": {},
   "outputs": [
    {
     "name": "stdout",
     "output_type": "stream",
     "text": [
      "(594090, 3) (594090,)\n"
     ]
    }
   ],
   "source": [
    "print(X_train_scaled.shape, y_train_over.shape)"
   ]
  },
  {
   "cell_type": "markdown",
   "id": "7f6c51bb",
   "metadata": {},
   "source": [
    "### logistic"
   ]
  },
  {
   "cell_type": "code",
   "execution_count": 66,
   "id": "fce10163",
   "metadata": {},
   "outputs": [],
   "source": [
    "from sklearn.metrics import confusion_matrix, accuracy_score, precision_score, recall_score, f1_score\n",
    "from sklearn.metrics import roc_auc_score\n",
    "\n",
    "def get_clf_eval(y_test, pred=None, pred_proba=None):\n",
    "    confusion = confusion_matrix( y_test, pred)\n",
    "    accuracy = accuracy_score(y_test , pred)\n",
    "    precision = precision_score(y_test , pred)\n",
    "    recall = recall_score(y_test , pred)\n",
    "    f1 = f1_score(y_test,pred)\n",
    "    # ROC-AUC 추가 \n",
    "    roc_auc = roc_auc_score(y_test, pred_proba)\n",
    "    print('오차 행렬')\n",
    "    print(confusion)\n",
    "    # ROC-AUC print 추가\n",
    "    print('정확도: {0:.4f}, 정밀도: {1:.4f}, 재현율: {2:.4f}, F1: {3:.4f}, AUC:{4:.4f}'.format(accuracy, precision, recall, f1, roc_auc))"
   ]
  },
  {
   "cell_type": "code",
   "execution_count": 71,
   "id": "643d4760",
   "metadata": {},
   "outputs": [],
   "source": [
    "from sklearn.linear_model import LogisticRegression\n",
    "\n",
    "# lr_clf = LogisticRegression(solver='liblinear', penalty='elasticnet', C=0.1)\n",
    "lr_clf = LogisticRegression(solver='liblinear', penalty='l1')\n",
    "lr_clf.fit(X_train_scaled, y_train_over)\n",
    "lr_pred = lr_clf.predict(X_test_scaled)\n",
    "lr_pred_proba = lr_clf.predict_proba(X_test_scaled)[:, 0]"
   ]
  },
  {
   "cell_type": "code",
   "execution_count": 72,
   "id": "492bc7f6",
   "metadata": {},
   "outputs": [
    {
     "data": {
      "text/plain": [
       "array([0.4486238 , 0.50457404, 0.7317228 , ..., 0.32765141, 0.65757433,\n",
       "       0.52842524])"
      ]
     },
     "execution_count": 72,
     "metadata": {},
     "output_type": "execute_result"
    }
   ],
   "source": [
    "lr_pred_proba"
   ]
  },
  {
   "cell_type": "code",
   "execution_count": 73,
   "id": "80bbd865",
   "metadata": {},
   "outputs": [
    {
     "name": "stdout",
     "output_type": "stream",
     "text": [
      "오차 행렬\n",
      "[[16136  8957]\n",
      " [59999 67306]]\n",
      "정확도: 0.5475, 정밀도: 0.8826, 재현율: 0.5287, F1: 0.6613, AUC:0.3671\n"
     ]
    }
   ],
   "source": [
    "get_clf_eval(y_test, lr_pred, lr_pred_proba)"
   ]
  },
  {
   "cell_type": "code",
   "execution_count": 74,
   "id": "fd13324f",
   "metadata": {},
   "outputs": [],
   "source": [
    "array2 = np.array([[23, 60, 2000]])\n",
    "test_scaled2 = scaler.fit(X_train_over).transform(array2)\n",
    "test_pred2 = lr_clf.predict(test_scaled2)\n",
    "test_pred_proba2 = lr_clf.predict_proba(test_scaled2)[:, 1]"
   ]
  },
  {
   "cell_type": "code",
   "execution_count": 75,
   "id": "22100b39",
   "metadata": {},
   "outputs": [
    {
     "data": {
      "text/plain": [
       "array([0.58535349])"
      ]
     },
     "execution_count": 75,
     "metadata": {},
     "output_type": "execute_result"
    }
   ],
   "source": [
    "test_pred_proba2"
   ]
  },
  {
   "cell_type": "markdown",
   "id": "21c241a3",
   "metadata": {},
   "source": [
    "### minmax"
   ]
  },
  {
   "cell_type": "code",
   "execution_count": 84,
   "id": "d3e72db9",
   "metadata": {},
   "outputs": [],
   "source": [
    "from sklearn.linear_model import LogisticRegression\n",
    "\n",
    "# lr_clf = LogisticRegression(solver='liblinear', penalty='elasticnet', C=0.1)\n",
    "lr_clf1 = LogisticRegression(solver='liblinear', penalty='l1')\n",
    "lr_clf1.fit(X_train_min_scaled, y_train_over)\n",
    "lr_pred1 = lr_clf1.predict(X_test_min_scaled)\n",
    "lr_pred_proba1 = lr_clf1.predict_proba(X_test_min_scaled)[:, 0]"
   ]
  },
  {
   "cell_type": "code",
   "execution_count": 95,
   "id": "64f57c93",
   "metadata": {},
   "outputs": [],
   "source": [
    "array3 = np.array([[20, 50, 4500]])\n",
    "test_scaled3 = scaler_min.fit(X_train_over).transform(array3)\n",
    "test_pred3 = lr_clf1.predict(test_scaled3)\n",
    "test_pred_proba3 = lr_clf1.predict_proba(test_scaled3)[:, 0]"
   ]
  },
  {
   "cell_type": "code",
   "execution_count": 96,
   "id": "8f589f78",
   "metadata": {},
   "outputs": [
    {
     "name": "stdout",
     "output_type": "stream",
     "text": [
      "오차 행렬\n",
      "[[15101  9992]\n",
      " [55776 71529]]\n",
      "정확도: 0.5684, 정밀도: 0.8774, 재현율: 0.5619, F1: 0.6851, AUC:0.3668\n"
     ]
    }
   ],
   "source": [
    "get_clf_eval(y_test, lr_pred1, lr_pred_proba1)"
   ]
  },
  {
   "cell_type": "code",
   "execution_count": 97,
   "id": "572e7dee",
   "metadata": {},
   "outputs": [
    {
     "name": "stdout",
     "output_type": "stream",
     "text": [
      "[0] [0.58160972]\n"
     ]
    }
   ],
   "source": [
    "print(test_pred3, test_pred_proba3)"
   ]
  },
  {
   "cell_type": "markdown",
   "id": "c7ce6b01",
   "metadata": {},
   "source": [
    "### lightgbm"
   ]
  },
  {
   "cell_type": "code",
   "execution_count": 36,
   "id": "25f49937",
   "metadata": {},
   "outputs": [],
   "source": [
    "from lightgbm import LGBMClassifier\n",
    "\n",
    "lgbm_clf = LGBMClassifier(n_estimators=1000, num_leaves=64, n_jobs=-1, boost_from_average=False)\n",
    "lgbm_clf.fit(X_train_scaled, y_train_over)\n",
    "lgbm_pred = lgbm_clf.predict(X_test_scaled)\n",
    "lgbm_pred_proba = lgbm_clf.predict_proba(X_test_scaled)[:, 1]"
   ]
  },
  {
   "cell_type": "code",
   "execution_count": 37,
   "id": "2d8244d9",
   "metadata": {},
   "outputs": [
    {
     "name": "stdout",
     "output_type": "stream",
     "text": [
      "오차 행렬\n",
      "[[ 25092      1]\n",
      " [  9920 117385]]\n",
      "정확도: 0.9349, 정밀도: 1.0000, 재현율: 0.9221, F1: 0.9595, AUC:0.9751\n"
     ]
    }
   ],
   "source": [
    "get_clf_eval(y_test, lgbm_pred, lgbm_pred_proba)"
   ]
  },
  {
   "cell_type": "code",
   "execution_count": 42,
   "id": "4e6fa91a",
   "metadata": {},
   "outputs": [],
   "source": [
    "array = np.array([[26, 15, 400]])\n",
    "test_scaled = scaler.fit(X_train_over).transform(array)\n",
    "\n",
    "test_pred = lgbm_clf.predict(test_scaled)\n",
    "test_pred_proba = lgbm_clf.predict_proba(test_scaled)[:, 0]"
   ]
  },
  {
   "cell_type": "code",
   "execution_count": 43,
   "id": "953b71bb",
   "metadata": {},
   "outputs": [
    {
     "name": "stdout",
     "output_type": "stream",
     "text": [
      "[1] [4.88498131e-15]\n"
     ]
    }
   ],
   "source": [
    "print(test_pred, test_pred_proba)"
   ]
  },
  {
   "cell_type": "markdown",
   "id": "3f6a979a",
   "metadata": {},
   "source": [
    "### minmax"
   ]
  },
  {
   "cell_type": "code",
   "execution_count": 37,
   "id": "eae6a9ba",
   "metadata": {},
   "outputs": [],
   "source": [
    "lgbm_clf1 = LGBMClassifier(n_estimators=1000, num_leaves=64, n_jobs=-1, boost_from_average=False)\n",
    "lgbm_clf1.fit(X_train_min_scaled, y_train_over)\n",
    "lgbm_pred1 = lgbm_clf1.predict(X_test_min_scaled)\n",
    "lgbm_pred_proba1 = lgbm_clf1.predict_proba(X_test_min_scaled)[:, 1]"
   ]
  },
  {
   "cell_type": "code",
   "execution_count": 38,
   "id": "a46afea0",
   "metadata": {},
   "outputs": [
    {
     "name": "stdout",
     "output_type": "stream",
     "text": [
      "오차 행렬\n",
      "[[ 22526   2567]\n",
      " [   457 126848]]\n",
      "정확도: 0.9802, 정밀도: 0.9802, 재현율: 0.9964, F1: 0.9882, AUC:0.9545\n"
     ]
    }
   ],
   "source": [
    "get_clf_eval(y_test, lgbm_pred1, lgbm_pred_proba1)"
   ]
  },
  {
   "cell_type": "code",
   "execution_count": 97,
   "id": "47801806",
   "metadata": {},
   "outputs": [],
   "source": [
    "array1 = np.array([[26, 55, 1700]])\n",
    "test_scaled1 = scaler_min.fit(X_train_over).transform(array1)\n",
    "test_pred1 = lgbm_clf1.predict(test_scaled1)\n",
    "test_pred_proba1 = lgbm_clf1.predict_proba(test_scaled1)[:, 0]"
   ]
  },
  {
   "cell_type": "code",
   "execution_count": 98,
   "id": "b5f6654b",
   "metadata": {},
   "outputs": [
    {
     "name": "stdout",
     "output_type": "stream",
     "text": [
      "[0] [1.]\n"
     ]
    }
   ],
   "source": [
    "print(test_pred1, test_pred_proba1)"
   ]
  },
  {
   "cell_type": "markdown",
   "id": "9898beb8",
   "metadata": {},
   "source": [
    "### Model save"
   ]
  },
  {
   "cell_type": "code",
   "execution_count": 22,
   "id": "13183324",
   "metadata": {},
   "outputs": [],
   "source": [
    "import pickle"
   ]
  },
  {
   "cell_type": "code",
   "execution_count": 23,
   "id": "d6548135",
   "metadata": {},
   "outputs": [
    {
     "data": {
      "text/plain": [
       "array([0], dtype=int64)"
      ]
     },
     "execution_count": 23,
     "metadata": {},
     "output_type": "execute_result"
    }
   ],
   "source": [
    "saved_model = pickle.dumps(lgbm_clf)\n",
    "clf_from_pickle = pickle.loads(saved_model)\n",
    "clf_from_pickle.predict(test_scaled)\n"
   ]
  },
  {
   "cell_type": "code",
   "execution_count": 24,
   "id": "3b2e693e",
   "metadata": {},
   "outputs": [
    {
     "data": {
      "text/plain": [
       "['temp_lightgbm.pkl']"
      ]
     },
     "execution_count": 24,
     "metadata": {},
     "output_type": "execute_result"
    }
   ],
   "source": [
    "import joblib\n",
    "\n",
    "joblib.dump(lgbm_clf, 'temp_lightgbm.pkl') "
   ]
  },
  {
   "cell_type": "code",
   "execution_count": 27,
   "id": "5eb5aa59",
   "metadata": {},
   "outputs": [
    {
     "name": "stdout",
     "output_type": "stream",
     "text": [
      "[0] [7.40653616e-12]\n"
     ]
    }
   ],
   "source": [
    "clf_from_joblib = joblib.load('temp_lightgbm.pkl') \n",
    "joblib_preb = clf_from_joblib.predict(test_scaled)\n",
    "joblib_pred_proba = clf_from_joblib.predict_proba(test_scaled)[:, 1]\n",
    "joblib_pred_proba = joblib_pred_proba \n",
    "print(joblib_preb, joblib_pred_proba)"
   ]
  },
  {
   "cell_type": "code",
   "execution_count": null,
   "id": "6b3e3a22",
   "metadata": {},
   "outputs": [],
   "source": []
  }
 ],
 "metadata": {
  "kernelspec": {
   "display_name": "Python [conda env:machine_TF2] *",
   "language": "python",
   "name": "conda-env-machine_TF2-py"
  },
  "language_info": {
   "codemirror_mode": {
    "name": "ipython",
    "version": 3
   },
   "file_extension": ".py",
   "mimetype": "text/x-python",
   "name": "python",
   "nbconvert_exporter": "python",
   "pygments_lexer": "ipython3",
   "version": "3.8.13"
  }
 },
 "nbformat": 4,
 "nbformat_minor": 5
}
