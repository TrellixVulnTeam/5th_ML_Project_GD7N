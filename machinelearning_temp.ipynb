{
 "cells": [
  {
   "cell_type": "code",
   "execution_count": 415,
   "id": "896e09aa",
   "metadata": {},
   "outputs": [],
   "source": [
    "import pandas as pd\n",
    "import numpy as np\n",
    "import matplotlib.pyplot as plt\n",
    "import seaborn as sns\n",
    "import warnings\n",
    "warnings.filterwarnings('ignore')"
   ]
  },
  {
   "cell_type": "code",
   "execution_count": 416,
   "id": "b28f5c85",
   "metadata": {},
   "outputs": [
    {
     "data": {
      "text/html": [
       "<div>\n",
       "<style scoped>\n",
       "    .dataframe tbody tr th:only-of-type {\n",
       "        vertical-align: middle;\n",
       "    }\n",
       "\n",
       "    .dataframe tbody tr th {\n",
       "        vertical-align: top;\n",
       "    }\n",
       "\n",
       "    .dataframe thead th {\n",
       "        text-align: right;\n",
       "    }\n",
       "</style>\n",
       "<table border=\"1\" class=\"dataframe\">\n",
       "  <thead>\n",
       "    <tr style=\"text-align: right;\">\n",
       "      <th></th>\n",
       "      <th>기온</th>\n",
       "      <th>습도</th>\n",
       "      <th>co2</th>\n",
       "      <th>label</th>\n",
       "    </tr>\n",
       "  </thead>\n",
       "  <tbody>\n",
       "    <tr>\n",
       "      <th>0</th>\n",
       "      <td>-11.3</td>\n",
       "      <td>47.0</td>\n",
       "      <td>3702</td>\n",
       "      <td>1</td>\n",
       "    </tr>\n",
       "    <tr>\n",
       "      <th>1</th>\n",
       "      <td>-10.2</td>\n",
       "      <td>44.0</td>\n",
       "      <td>2697</td>\n",
       "      <td>1</td>\n",
       "    </tr>\n",
       "    <tr>\n",
       "      <th>2</th>\n",
       "      <td>-10.1</td>\n",
       "      <td>42.0</td>\n",
       "      <td>5792</td>\n",
       "      <td>1</td>\n",
       "    </tr>\n",
       "    <tr>\n",
       "      <th>3</th>\n",
       "      <td>-10.2</td>\n",
       "      <td>42.0</td>\n",
       "      <td>4437</td>\n",
       "      <td>1</td>\n",
       "    </tr>\n",
       "    <tr>\n",
       "      <th>4</th>\n",
       "      <td>-10.6</td>\n",
       "      <td>44.0</td>\n",
       "      <td>6934</td>\n",
       "      <td>1</td>\n",
       "    </tr>\n",
       "    <tr>\n",
       "      <th>...</th>\n",
       "      <td>...</td>\n",
       "      <td>...</td>\n",
       "      <td>...</td>\n",
       "      <td>...</td>\n",
       "    </tr>\n",
       "    <tr>\n",
       "      <th>508982</th>\n",
       "      <td>17.6</td>\n",
       "      <td>84.0</td>\n",
       "      <td>3526</td>\n",
       "      <td>1</td>\n",
       "    </tr>\n",
       "    <tr>\n",
       "      <th>508983</th>\n",
       "      <td>17.6</td>\n",
       "      <td>86.0</td>\n",
       "      <td>6355</td>\n",
       "      <td>1</td>\n",
       "    </tr>\n",
       "    <tr>\n",
       "      <th>508984</th>\n",
       "      <td>17.5</td>\n",
       "      <td>85.0</td>\n",
       "      <td>2503</td>\n",
       "      <td>1</td>\n",
       "    </tr>\n",
       "    <tr>\n",
       "      <th>508985</th>\n",
       "      <td>17.7</td>\n",
       "      <td>81.0</td>\n",
       "      <td>568</td>\n",
       "      <td>1</td>\n",
       "    </tr>\n",
       "    <tr>\n",
       "      <th>508986</th>\n",
       "      <td>17.8</td>\n",
       "      <td>84.0</td>\n",
       "      <td>4146</td>\n",
       "      <td>1</td>\n",
       "    </tr>\n",
       "  </tbody>\n",
       "</table>\n",
       "<p>508987 rows × 4 columns</p>\n",
       "</div>"
      ],
      "text/plain": [
       "          기온    습도   co2  label\n",
       "0      -11.3  47.0  3702      1\n",
       "1      -10.2  44.0  2697      1\n",
       "2      -10.1  42.0  5792      1\n",
       "3      -10.2  42.0  4437      1\n",
       "4      -10.6  44.0  6934      1\n",
       "...      ...   ...   ...    ...\n",
       "508982  17.6  84.0  3526      1\n",
       "508983  17.6  86.0  6355      1\n",
       "508984  17.5  85.0  2503      1\n",
       "508985  17.7  81.0   568      1\n",
       "508986  17.8  84.0  4146      1\n",
       "\n",
       "[508987 rows x 4 columns]"
      ]
     },
     "execution_count": 416,
     "metadata": {},
     "output_type": "execute_result"
    }
   ],
   "source": [
    "df = pd.read_csv('./dataset/temp data/temp.csv')\n",
    "df = df.drop(['Unnamed: 0'], axis=1)\n",
    "df.columns=['기온', '습도', 'co2', 'label']\n",
    "df"
   ]
  },
  {
   "cell_type": "code",
   "execution_count": 417,
   "id": "ee2c0b5a",
   "metadata": {},
   "outputs": [],
   "source": [
    "df = df.drop(df.loc[df['기온'] < -20].index)"
   ]
  },
  {
   "cell_type": "code",
   "execution_count": 418,
   "id": "d5297e3d",
   "metadata": {},
   "outputs": [],
   "source": [
    "df['co2'] = np.random.randint(400, 2500, size=507992) # 300 ~ 2500\n",
    "\n",
    "df['label'] = np.where(((df['기온']<23) | (df['기온']>28)) & \n",
    "                        (df['co2'] >= 1300) & \n",
    "                        ((df['습도']>=50) & (df['습도']<=60)), 0, 1)\n"
   ]
  },
  {
   "cell_type": "code",
   "execution_count": 419,
   "id": "5d417d70",
   "metadata": {},
   "outputs": [
    {
     "data": {
      "text/plain": [
       "<bound method DataFrame.info of           기온    습도   co2  label\n",
       "0      -11.3  47.0  1682      1\n",
       "1      -10.2  44.0  1661      1\n",
       "2      -10.1  42.0   439      1\n",
       "3      -10.2  42.0  1861      1\n",
       "4      -10.6  44.0  1307      1\n",
       "...      ...   ...   ...    ...\n",
       "508982  17.6  84.0   436      1\n",
       "508983  17.6  86.0  1144      1\n",
       "508984  17.5  85.0  2295      1\n",
       "508985  17.7  81.0  2325      1\n",
       "508986  17.8  84.0   975      1\n",
       "\n",
       "[507992 rows x 4 columns]>"
      ]
     },
     "execution_count": 419,
     "metadata": {},
     "output_type": "execute_result"
    }
   ],
   "source": [
    "df.info"
   ]
  },
  {
   "cell_type": "code",
   "execution_count": 420,
   "id": "73405939",
   "metadata": {},
   "outputs": [
    {
     "data": {
      "text/html": [
       "<div>\n",
       "<style scoped>\n",
       "    .dataframe tbody tr th:only-of-type {\n",
       "        vertical-align: middle;\n",
       "    }\n",
       "\n",
       "    .dataframe tbody tr th {\n",
       "        vertical-align: top;\n",
       "    }\n",
       "\n",
       "    .dataframe thead th {\n",
       "        text-align: right;\n",
       "    }\n",
       "</style>\n",
       "<table border=\"1\" class=\"dataframe\">\n",
       "  <thead>\n",
       "    <tr style=\"text-align: right;\">\n",
       "      <th></th>\n",
       "      <th>기온</th>\n",
       "      <th>습도</th>\n",
       "      <th>co2</th>\n",
       "      <th>label</th>\n",
       "    </tr>\n",
       "  </thead>\n",
       "  <tbody>\n",
       "    <tr>\n",
       "      <th>count</th>\n",
       "      <td>507992.000000</td>\n",
       "      <td>507992.000000</td>\n",
       "      <td>507992.000000</td>\n",
       "      <td>507992.000000</td>\n",
       "    </tr>\n",
       "    <tr>\n",
       "      <th>mean</th>\n",
       "      <td>8.282168</td>\n",
       "      <td>55.996262</td>\n",
       "      <td>1450.777174</td>\n",
       "      <td>0.879616</td>\n",
       "    </tr>\n",
       "    <tr>\n",
       "      <th>std</th>\n",
       "      <td>8.779559</td>\n",
       "      <td>19.168782</td>\n",
       "      <td>606.445869</td>\n",
       "      <td>0.325410</td>\n",
       "    </tr>\n",
       "    <tr>\n",
       "      <th>min</th>\n",
       "      <td>-19.900000</td>\n",
       "      <td>6.000000</td>\n",
       "      <td>400.000000</td>\n",
       "      <td>0.000000</td>\n",
       "    </tr>\n",
       "    <tr>\n",
       "      <th>25%</th>\n",
       "      <td>0.900000</td>\n",
       "      <td>42.000000</td>\n",
       "      <td>926.000000</td>\n",
       "      <td>1.000000</td>\n",
       "    </tr>\n",
       "    <tr>\n",
       "      <th>50%</th>\n",
       "      <td>8.800000</td>\n",
       "      <td>55.000000</td>\n",
       "      <td>1450.000000</td>\n",
       "      <td>1.000000</td>\n",
       "    </tr>\n",
       "    <tr>\n",
       "      <th>75%</th>\n",
       "      <td>15.200000</td>\n",
       "      <td>70.000000</td>\n",
       "      <td>1977.000000</td>\n",
       "      <td>1.000000</td>\n",
       "    </tr>\n",
       "    <tr>\n",
       "      <th>max</th>\n",
       "      <td>34.600000</td>\n",
       "      <td>100.000000</td>\n",
       "      <td>2499.000000</td>\n",
       "      <td>1.000000</td>\n",
       "    </tr>\n",
       "  </tbody>\n",
       "</table>\n",
       "</div>"
      ],
      "text/plain": [
       "                  기온             습도            co2          label\n",
       "count  507992.000000  507992.000000  507992.000000  507992.000000\n",
       "mean        8.282168      55.996262    1450.777174       0.879616\n",
       "std         8.779559      19.168782     606.445869       0.325410\n",
       "min       -19.900000       6.000000     400.000000       0.000000\n",
       "25%         0.900000      42.000000     926.000000       1.000000\n",
       "50%         8.800000      55.000000    1450.000000       1.000000\n",
       "75%        15.200000      70.000000    1977.000000       1.000000\n",
       "max        34.600000     100.000000    2499.000000       1.000000"
      ]
     },
     "execution_count": 420,
     "metadata": {},
     "output_type": "execute_result"
    }
   ],
   "source": [
    "df.describe()"
   ]
  },
  {
   "cell_type": "code",
   "execution_count": 421,
   "id": "574bd64b",
   "metadata": {},
   "outputs": [
    {
     "data": {
      "image/png": "[encoded data removed]",
      "text/plain": [
       "<Figure size 432x288 with 1 Axes>"
      ]
     },
     "metadata": {
      "needs_background": "light"
     },
     "output_type": "display_data"
    }
   ],
   "source": [
    "sns.countplot('label', data=df)\n",
    "plt.show()"
   ]
  },
  {
   "cell_type": "code",
   "execution_count": 422,
   "id": "f83ca78c",
   "metadata": {},
   "outputs": [],
   "source": [
    "from sklearn.model_selection import train_test_split\n",
    "from sklearn.preprocessing import StandardScaler, MinMaxScaler\n",
    "from imblearn.over_sampling import SMOTE"
   ]
  },
  {
   "cell_type": "code",
   "execution_count": 423,
   "id": "3da54a09",
   "metadata": {},
   "outputs": [],
   "source": [
    "x = df.drop('label', axis=1, inplace=False)\n",
    "y = df['label'].values.reshape(-1, 1)"
   ]
  },
  {
   "cell_type": "code",
   "execution_count": 424,
   "id": "d5cb1d0f",
   "metadata": {},
   "outputs": [
    {
     "name": "stdout",
     "output_type": "stream",
     "text": [
      "(355594, 3) (152398, 3)\n"
     ]
    }
   ],
   "source": [
    "X_train, X_test, y_train, y_test = train_test_split(x, y, test_size=0.3, random_state=100, stratify=y)\n",
    "print(X_train.shape, X_test.shape)"
   ]
  },
  {
   "cell_type": "markdown",
   "id": "aad49455",
   "metadata": {},
   "source": [
    "### Oversampling"
   ]
  },
  {
   "cell_type": "code",
   "execution_count": 425,
   "id": "014d002d",
   "metadata": {},
   "outputs": [
    {
     "name": "stdout",
     "output_type": "stream",
     "text": [
      "(625572, 3) (625572,)\n"
     ]
    }
   ],
   "source": [
    "smote = SMOTE(random_state=100)\n",
    "X_train_over, y_train_over = smote.fit_resample(X_train, y_train)\n",
    "print(X_train_over.shape, y_train_over.shape)"
   ]
  },
  {
   "cell_type": "code",
   "execution_count": 426,
   "id": "b1ed75f4",
   "metadata": {},
   "outputs": [
    {
     "data": {
      "text/html": [
       "<div>\n",
       "<style scoped>\n",
       "    .dataframe tbody tr th:only-of-type {\n",
       "        vertical-align: middle;\n",
       "    }\n",
       "\n",
       "    .dataframe tbody tr th {\n",
       "        vertical-align: top;\n",
       "    }\n",
       "\n",
       "    .dataframe thead th {\n",
       "        text-align: right;\n",
       "    }\n",
       "</style>\n",
       "<table border=\"1\" class=\"dataframe\">\n",
       "  <thead>\n",
       "    <tr style=\"text-align: right;\">\n",
       "      <th></th>\n",
       "      <th>기온</th>\n",
       "      <th>습도</th>\n",
       "      <th>co2</th>\n",
       "    </tr>\n",
       "    <tr>\n",
       "      <th>id</th>\n",
       "      <th></th>\n",
       "      <th></th>\n",
       "      <th></th>\n",
       "    </tr>\n",
       "  </thead>\n",
       "  <tbody>\n",
       "    <tr>\n",
       "      <th>0</th>\n",
       "      <td>1.400000</td>\n",
       "      <td>64.000000</td>\n",
       "      <td>750</td>\n",
       "    </tr>\n",
       "    <tr>\n",
       "      <th>1</th>\n",
       "      <td>-1.200000</td>\n",
       "      <td>46.000000</td>\n",
       "      <td>2248</td>\n",
       "    </tr>\n",
       "    <tr>\n",
       "      <th>2</th>\n",
       "      <td>-3.900000</td>\n",
       "      <td>51.000000</td>\n",
       "      <td>1346</td>\n",
       "    </tr>\n",
       "    <tr>\n",
       "      <th>3</th>\n",
       "      <td>-0.100000</td>\n",
       "      <td>74.000000</td>\n",
       "      <td>654</td>\n",
       "    </tr>\n",
       "    <tr>\n",
       "      <th>4</th>\n",
       "      <td>16.600000</td>\n",
       "      <td>71.000000</td>\n",
       "      <td>2001</td>\n",
       "    </tr>\n",
       "    <tr>\n",
       "      <th>...</th>\n",
       "      <td>...</td>\n",
       "      <td>...</td>\n",
       "      <td>...</td>\n",
       "    </tr>\n",
       "    <tr>\n",
       "      <th>625567</th>\n",
       "      <td>9.782768</td>\n",
       "      <td>50.551784</td>\n",
       "      <td>2421</td>\n",
       "    </tr>\n",
       "    <tr>\n",
       "      <th>625568</th>\n",
       "      <td>8.379210</td>\n",
       "      <td>52.000000</td>\n",
       "      <td>1650</td>\n",
       "    </tr>\n",
       "    <tr>\n",
       "      <th>625569</th>\n",
       "      <td>-0.305677</td>\n",
       "      <td>54.971615</td>\n",
       "      <td>2237</td>\n",
       "    </tr>\n",
       "    <tr>\n",
       "      <th>625570</th>\n",
       "      <td>-10.119927</td>\n",
       "      <td>50.700182</td>\n",
       "      <td>1406</td>\n",
       "    </tr>\n",
       "    <tr>\n",
       "      <th>625571</th>\n",
       "      <td>13.474215</td>\n",
       "      <td>55.628926</td>\n",
       "      <td>1639</td>\n",
       "    </tr>\n",
       "  </tbody>\n",
       "</table>\n",
       "<p>625572 rows × 3 columns</p>\n",
       "</div>"
      ],
      "text/plain": [
       "               기온         습도   co2\n",
       "id                                \n",
       "0        1.400000  64.000000   750\n",
       "1       -1.200000  46.000000  2248\n",
       "2       -3.900000  51.000000  1346\n",
       "3       -0.100000  74.000000   654\n",
       "4       16.600000  71.000000  2001\n",
       "...           ...        ...   ...\n",
       "625567   9.782768  50.551784  2421\n",
       "625568   8.379210  52.000000  1650\n",
       "625569  -0.305677  54.971615  2237\n",
       "625570 -10.119927  50.700182  1406\n",
       "625571  13.474215  55.628926  1639\n",
       "\n",
       "[625572 rows x 3 columns]"
      ]
     },
     "execution_count": 426,
     "metadata": {},
     "output_type": "execute_result"
    }
   ],
   "source": [
    "X_train_over.index.names = ['id']\n",
    "X_train_over"
   ]
  },
  {
   "cell_type": "code",
   "execution_count": 427,
   "id": "bc716e1e",
   "metadata": {},
   "outputs": [],
   "source": [
    "y_train_over = pd.DataFrame(y_train_over)"
   ]
  },
  {
   "cell_type": "code",
   "execution_count": 428,
   "id": "e999c2ad",
   "metadata": {},
   "outputs": [
    {
     "data": {
      "text/html": [
       "<div>\n",
       "<style scoped>\n",
       "    .dataframe tbody tr th:only-of-type {\n",
       "        vertical-align: middle;\n",
       "    }\n",
       "\n",
       "    .dataframe tbody tr th {\n",
       "        vertical-align: top;\n",
       "    }\n",
       "\n",
       "    .dataframe thead th {\n",
       "        text-align: right;\n",
       "    }\n",
       "</style>\n",
       "<table border=\"1\" class=\"dataframe\">\n",
       "  <thead>\n",
       "    <tr style=\"text-align: right;\">\n",
       "      <th></th>\n",
       "      <th>0</th>\n",
       "    </tr>\n",
       "    <tr>\n",
       "      <th>id</th>\n",
       "      <th></th>\n",
       "    </tr>\n",
       "  </thead>\n",
       "  <tbody>\n",
       "    <tr>\n",
       "      <th>0</th>\n",
       "      <td>1</td>\n",
       "    </tr>\n",
       "    <tr>\n",
       "      <th>1</th>\n",
       "      <td>1</td>\n",
       "    </tr>\n",
       "    <tr>\n",
       "      <th>2</th>\n",
       "      <td>0</td>\n",
       "    </tr>\n",
       "    <tr>\n",
       "      <th>3</th>\n",
       "      <td>1</td>\n",
       "    </tr>\n",
       "    <tr>\n",
       "      <th>4</th>\n",
       "      <td>1</td>\n",
       "    </tr>\n",
       "    <tr>\n",
       "      <th>...</th>\n",
       "      <td>...</td>\n",
       "    </tr>\n",
       "    <tr>\n",
       "      <th>625567</th>\n",
       "      <td>0</td>\n",
       "    </tr>\n",
       "    <tr>\n",
       "      <th>625568</th>\n",
       "      <td>0</td>\n",
       "    </tr>\n",
       "    <tr>\n",
       "      <th>625569</th>\n",
       "      <td>0</td>\n",
       "    </tr>\n",
       "    <tr>\n",
       "      <th>625570</th>\n",
       "      <td>0</td>\n",
       "    </tr>\n",
       "    <tr>\n",
       "      <th>625571</th>\n",
       "      <td>0</td>\n",
       "    </tr>\n",
       "  </tbody>\n",
       "</table>\n",
       "<p>625572 rows × 1 columns</p>\n",
       "</div>"
      ],
      "text/plain": [
       "        0\n",
       "id       \n",
       "0       1\n",
       "1       1\n",
       "2       0\n",
       "3       1\n",
       "4       1\n",
       "...    ..\n",
       "625567  0\n",
       "625568  0\n",
       "625569  0\n",
       "625570  0\n",
       "625571  0\n",
       "\n",
       "[625572 rows x 1 columns]"
      ]
     },
     "execution_count": 428,
     "metadata": {},
     "output_type": "execute_result"
    }
   ],
   "source": [
    "y_train_over.index.names = ['id']\n",
    "y_train_over"
   ]
  },
  {
   "cell_type": "code",
   "execution_count": 429,
   "id": "a1950b95",
   "metadata": {},
   "outputs": [],
   "source": [
    "df = pd.merge(X_train_over,y_train_over, how='inner', on='id')\n",
    "df.columns = ['기온', '습도', 'co2', 'label']\n",
    "df.to_csv(\"/home/crysis/Workspace/5th_ML_Project/Eyes detection-Django/team5_project_django/static/temp.csv\", index=False)\n"
   ]
  },
  {
   "cell_type": "code",
   "execution_count": 393,
   "id": "b8cd8799",
   "metadata": {},
   "outputs": [
    {
     "data": {
      "text/html": [
       "<div>\n",
       "<style scoped>\n",
       "    .dataframe tbody tr th:only-of-type {\n",
       "        vertical-align: middle;\n",
       "    }\n",
       "\n",
       "    .dataframe tbody tr th {\n",
       "        vertical-align: top;\n",
       "    }\n",
       "\n",
       "    .dataframe thead th {\n",
       "        text-align: right;\n",
       "    }\n",
       "</style>\n",
       "<table border=\"1\" class=\"dataframe\">\n",
       "  <thead>\n",
       "    <tr style=\"text-align: right;\">\n",
       "      <th></th>\n",
       "      <th>기온</th>\n",
       "      <th>습도</th>\n",
       "      <th>co2</th>\n",
       "      <th>label</th>\n",
       "    </tr>\n",
       "    <tr>\n",
       "      <th>id</th>\n",
       "      <th></th>\n",
       "      <th></th>\n",
       "      <th></th>\n",
       "      <th></th>\n",
       "    </tr>\n",
       "  </thead>\n",
       "  <tbody>\n",
       "    <tr>\n",
       "      <th>0</th>\n",
       "      <td>16.700000</td>\n",
       "      <td>57.000000</td>\n",
       "      <td>2519</td>\n",
       "      <td>0</td>\n",
       "    </tr>\n",
       "    <tr>\n",
       "      <th>1</th>\n",
       "      <td>23.200000</td>\n",
       "      <td>21.000000</td>\n",
       "      <td>1011</td>\n",
       "      <td>1</td>\n",
       "    </tr>\n",
       "    <tr>\n",
       "      <th>2</th>\n",
       "      <td>11.300000</td>\n",
       "      <td>49.000000</td>\n",
       "      <td>3276</td>\n",
       "      <td>1</td>\n",
       "    </tr>\n",
       "    <tr>\n",
       "      <th>3</th>\n",
       "      <td>5.300000</td>\n",
       "      <td>79.000000</td>\n",
       "      <td>516</td>\n",
       "      <td>1</td>\n",
       "    </tr>\n",
       "    <tr>\n",
       "      <th>4</th>\n",
       "      <td>9.700000</td>\n",
       "      <td>62.000000</td>\n",
       "      <td>1382</td>\n",
       "      <td>1</td>\n",
       "    </tr>\n",
       "    <tr>\n",
       "      <th>...</th>\n",
       "      <td>...</td>\n",
       "      <td>...</td>\n",
       "      <td>...</td>\n",
       "      <td>...</td>\n",
       "    </tr>\n",
       "    <tr>\n",
       "      <th>604861</th>\n",
       "      <td>13.489973</td>\n",
       "      <td>57.842819</td>\n",
       "      <td>3137</td>\n",
       "      <td>0</td>\n",
       "    </tr>\n",
       "    <tr>\n",
       "      <th>604862</th>\n",
       "      <td>10.101862</td>\n",
       "      <td>51.425912</td>\n",
       "      <td>2961</td>\n",
       "      <td>0</td>\n",
       "    </tr>\n",
       "    <tr>\n",
       "      <th>604863</th>\n",
       "      <td>12.146244</td>\n",
       "      <td>59.577074</td>\n",
       "      <td>2805</td>\n",
       "      <td>0</td>\n",
       "    </tr>\n",
       "    <tr>\n",
       "      <th>604864</th>\n",
       "      <td>13.953271</td>\n",
       "      <td>56.433411</td>\n",
       "      <td>2969</td>\n",
       "      <td>0</td>\n",
       "    </tr>\n",
       "    <tr>\n",
       "      <th>604865</th>\n",
       "      <td>11.969428</td>\n",
       "      <td>58.000000</td>\n",
       "      <td>1315</td>\n",
       "      <td>0</td>\n",
       "    </tr>\n",
       "  </tbody>\n",
       "</table>\n",
       "<p>604866 rows × 4 columns</p>\n",
       "</div>"
      ],
      "text/plain": [
       "               기온         습도   co2  label\n",
       "id                                       \n",
       "0       16.700000  57.000000  2519      0\n",
       "1       23.200000  21.000000  1011      1\n",
       "2       11.300000  49.000000  3276      1\n",
       "3        5.300000  79.000000   516      1\n",
       "4        9.700000  62.000000  1382      1\n",
       "...           ...        ...   ...    ...\n",
       "604861  13.489973  57.842819  3137      0\n",
       "604862  10.101862  51.425912  2961      0\n",
       "604863  12.146244  59.577074  2805      0\n",
       "604864  13.953271  56.433411  2969      0\n",
       "604865  11.969428  58.000000  1315      0\n",
       "\n",
       "[604866 rows x 4 columns]"
      ]
     },
     "execution_count": 393,
     "metadata": {},
     "output_type": "execute_result"
    }
   ],
   "source": [
    "df"
   ]
  },
  {
   "cell_type": "code",
   "execution_count": 397,
   "id": "e6e8fe16",
   "metadata": {},
   "outputs": [
    {
     "data": {
      "text/html": [
       "<div>\n",
       "<style scoped>\n",
       "    .dataframe tbody tr th:only-of-type {\n",
       "        vertical-align: middle;\n",
       "    }\n",
       "\n",
       "    .dataframe tbody tr th {\n",
       "        vertical-align: top;\n",
       "    }\n",
       "\n",
       "    .dataframe thead th {\n",
       "        text-align: right;\n",
       "    }\n",
       "</style>\n",
       "<table border=\"1\" class=\"dataframe\">\n",
       "  <thead>\n",
       "    <tr style=\"text-align: right;\">\n",
       "      <th></th>\n",
       "      <th>0</th>\n",
       "    </tr>\n",
       "    <tr>\n",
       "      <th>id</th>\n",
       "      <th></th>\n",
       "    </tr>\n",
       "  </thead>\n",
       "  <tbody>\n",
       "    <tr>\n",
       "      <th>0</th>\n",
       "      <td>0</td>\n",
       "    </tr>\n",
       "    <tr>\n",
       "      <th>1</th>\n",
       "      <td>1</td>\n",
       "    </tr>\n",
       "    <tr>\n",
       "      <th>2</th>\n",
       "      <td>1</td>\n",
       "    </tr>\n",
       "    <tr>\n",
       "      <th>3</th>\n",
       "      <td>1</td>\n",
       "    </tr>\n",
       "    <tr>\n",
       "      <th>4</th>\n",
       "      <td>1</td>\n",
       "    </tr>\n",
       "    <tr>\n",
       "      <th>...</th>\n",
       "      <td>...</td>\n",
       "    </tr>\n",
       "    <tr>\n",
       "      <th>604861</th>\n",
       "      <td>0</td>\n",
       "    </tr>\n",
       "    <tr>\n",
       "      <th>604862</th>\n",
       "      <td>0</td>\n",
       "    </tr>\n",
       "    <tr>\n",
       "      <th>604863</th>\n",
       "      <td>0</td>\n",
       "    </tr>\n",
       "    <tr>\n",
       "      <th>604864</th>\n",
       "      <td>0</td>\n",
       "    </tr>\n",
       "    <tr>\n",
       "      <th>604865</th>\n",
       "      <td>0</td>\n",
       "    </tr>\n",
       "  </tbody>\n",
       "</table>\n",
       "<p>604866 rows × 1 columns</p>\n",
       "</div>"
      ],
      "text/plain": [
       "        0\n",
       "id       \n",
       "0       0\n",
       "1       1\n",
       "2       1\n",
       "3       1\n",
       "4       1\n",
       "...    ..\n",
       "604861  0\n",
       "604862  0\n",
       "604863  0\n",
       "604864  0\n",
       "604865  0\n",
       "\n",
       "[604866 rows x 1 columns]"
      ]
     },
     "execution_count": 397,
     "metadata": {},
     "output_type": "execute_result"
    }
   ],
   "source": [
    "y_train_over"
   ]
  },
  {
   "cell_type": "code",
   "execution_count": 399,
   "id": "381c44f1",
   "metadata": {},
   "outputs": [
    {
     "data": {
      "text/plain": [
       "<AxesSubplot:ylabel='count'>"
      ]
     },
     "execution_count": 399,
     "metadata": {},
     "output_type": "execute_result"
    },
    {
     "data": {
      "image/png": "[encoded data removed]",
      "text/plain": [
       "<Figure size 432x288 with 1 Axes>"
      ]
     },
     "metadata": {
      "needs_background": "light"
     },
     "output_type": "display_data"
    }
   ],
   "source": [
    "sns.countplot(y_train_over, data=df)"
   ]
  },
  {
   "cell_type": "code",
   "execution_count": 400,
   "id": "31103fff",
   "metadata": {},
   "outputs": [
    {
     "data": {
      "text/html": [
       "<div>\n",
       "<style scoped>\n",
       "    .dataframe tbody tr th:only-of-type {\n",
       "        vertical-align: middle;\n",
       "    }\n",
       "\n",
       "    .dataframe tbody tr th {\n",
       "        vertical-align: top;\n",
       "    }\n",
       "\n",
       "    .dataframe thead th {\n",
       "        text-align: right;\n",
       "    }\n",
       "</style>\n",
       "<table border=\"1\" class=\"dataframe\">\n",
       "  <thead>\n",
       "    <tr style=\"text-align: right;\">\n",
       "      <th></th>\n",
       "      <th>기온</th>\n",
       "      <th>습도</th>\n",
       "      <th>co2</th>\n",
       "    </tr>\n",
       "  </thead>\n",
       "  <tbody>\n",
       "    <tr>\n",
       "      <th>0</th>\n",
       "      <td>16.700000</td>\n",
       "      <td>57.000000</td>\n",
       "      <td>2519</td>\n",
       "    </tr>\n",
       "    <tr>\n",
       "      <th>1</th>\n",
       "      <td>23.200000</td>\n",
       "      <td>21.000000</td>\n",
       "      <td>1011</td>\n",
       "    </tr>\n",
       "    <tr>\n",
       "      <th>2</th>\n",
       "      <td>11.300000</td>\n",
       "      <td>49.000000</td>\n",
       "      <td>3276</td>\n",
       "    </tr>\n",
       "    <tr>\n",
       "      <th>3</th>\n",
       "      <td>5.300000</td>\n",
       "      <td>79.000000</td>\n",
       "      <td>516</td>\n",
       "    </tr>\n",
       "    <tr>\n",
       "      <th>4</th>\n",
       "      <td>9.700000</td>\n",
       "      <td>62.000000</td>\n",
       "      <td>1382</td>\n",
       "    </tr>\n",
       "    <tr>\n",
       "      <th>...</th>\n",
       "      <td>...</td>\n",
       "      <td>...</td>\n",
       "      <td>...</td>\n",
       "    </tr>\n",
       "    <tr>\n",
       "      <th>604861</th>\n",
       "      <td>13.489973</td>\n",
       "      <td>57.842819</td>\n",
       "      <td>3137</td>\n",
       "    </tr>\n",
       "    <tr>\n",
       "      <th>604862</th>\n",
       "      <td>10.101862</td>\n",
       "      <td>51.425912</td>\n",
       "      <td>2961</td>\n",
       "    </tr>\n",
       "    <tr>\n",
       "      <th>604863</th>\n",
       "      <td>12.146244</td>\n",
       "      <td>59.577074</td>\n",
       "      <td>2805</td>\n",
       "    </tr>\n",
       "    <tr>\n",
       "      <th>604864</th>\n",
       "      <td>13.953271</td>\n",
       "      <td>56.433411</td>\n",
       "      <td>2969</td>\n",
       "    </tr>\n",
       "    <tr>\n",
       "      <th>604865</th>\n",
       "      <td>11.969428</td>\n",
       "      <td>58.000000</td>\n",
       "      <td>1315</td>\n",
       "    </tr>\n",
       "  </tbody>\n",
       "</table>\n",
       "<p>604866 rows × 3 columns</p>\n",
       "</div>"
      ],
      "text/plain": [
       "               기온         습도   co2\n",
       "0       16.700000  57.000000  2519\n",
       "1       23.200000  21.000000  1011\n",
       "2       11.300000  49.000000  3276\n",
       "3        5.300000  79.000000   516\n",
       "4        9.700000  62.000000  1382\n",
       "...           ...        ...   ...\n",
       "604861  13.489973  57.842819  3137\n",
       "604862  10.101862  51.425912  2961\n",
       "604863  12.146244  59.577074  2805\n",
       "604864  13.953271  56.433411  2969\n",
       "604865  11.969428  58.000000  1315\n",
       "\n",
       "[604866 rows x 3 columns]"
      ]
     },
     "execution_count": 400,
     "metadata": {},
     "output_type": "execute_result"
    }
   ],
   "source": [
    "X_train_over"
   ]
  },
  {
   "cell_type": "markdown",
   "id": "fa90835f",
   "metadata": {},
   "source": [
    "### Standardization"
   ]
  },
  {
   "cell_type": "code",
   "execution_count": 406,
   "id": "05a4c7c3",
   "metadata": {},
   "outputs": [],
   "source": [
    "scaler = StandardScaler()\n",
    "X_train_scaled = scaler.fit_transform(X_train_over)\n",
    "X_test_scaled = scaler.fit_transform(X_test)"
   ]
  },
  {
   "cell_type": "code",
   "execution_count": 407,
   "id": "5c7be43c",
   "metadata": {},
   "outputs": [],
   "source": [
    "scaler_min = MinMaxScaler()\n",
    "X_train_min_scaled = scaler_min.fit_transform(X_train_over)\n",
    "X_test_min_scaled = scaler_min.fit_transform(X_test)"
   ]
  },
  {
   "cell_type": "code",
   "execution_count": 408,
   "id": "362c42d7",
   "metadata": {},
   "outputs": [
    {
     "name": "stdout",
     "output_type": "stream",
     "text": [
      "(604866, 3) (604866,)\n"
     ]
    }
   ],
   "source": [
    "print(X_train_scaled.shape, y_train_over.shape)"
   ]
  },
  {
   "cell_type": "markdown",
   "id": "7f6c51bb",
   "metadata": {},
   "source": [
    "### logistic"
   ]
  },
  {
   "cell_type": "code",
   "execution_count": 409,
   "id": "fce10163",
   "metadata": {},
   "outputs": [],
   "source": [
    "from sklearn.metrics import confusion_matrix, accuracy_score, precision_score, recall_score, f1_score\n",
    "from sklearn.metrics import roc_auc_score\n",
    "\n",
    "def get_clf_eval(y_test, pred=None, pred_proba=None):\n",
    "    confusion = confusion_matrix( y_test, pred)\n",
    "    accuracy = accuracy_score(y_test , pred)\n",
    "    precision = precision_score(y_test , pred)\n",
    "    recall = recall_score(y_test , pred)\n",
    "    f1 = f1_score(y_test,pred)\n",
    "    # ROC-AUC 추가 \n",
    "    roc_auc = roc_auc_score(y_test, pred_proba)\n",
    "    print('오차 행렬')\n",
    "    print(confusion)\n",
    "    # ROC-AUC print 추가\n",
    "    print('정확도: {0:.4f}, 정밀도: {1:.4f}, 재현율: {2:.4f}, F1: {3:.4f}, AUC:{4:.4f}'.format(accuracy, precision, recall, f1, roc_auc))"
   ]
  },
  {
   "cell_type": "code",
   "execution_count": 410,
   "id": "643d4760",
   "metadata": {},
   "outputs": [],
   "source": [
    "from sklearn.linear_model import LogisticRegression\n",
    "\n",
    "# lr_clf = LogisticRegression(solver='liblinear', penalty='elasticnet', C=0.1)\n",
    "lr_clf = LogisticRegression(solver='liblinear', penalty='l1')\n",
    "lr_clf.fit(X_train_scaled, y_train_over)\n",
    "lr_pred = lr_clf.predict(X_test_scaled)\n",
    "lr_pred_proba = lr_clf.predict_proba(X_test_scaled)[:, 0]"
   ]
  },
  {
   "cell_type": "code",
   "execution_count": 411,
   "id": "492bc7f6",
   "metadata": {},
   "outputs": [
    {
     "data": {
      "text/plain": [
       "array([0.46616775, 0.33072811, 0.33565124, ..., 0.64888363, 0.3555563 ,\n",
       "       0.75432622])"
      ]
     },
     "execution_count": 411,
     "metadata": {},
     "output_type": "execute_result"
    }
   ],
   "source": [
    "lr_pred_proba"
   ]
  },
  {
   "cell_type": "code",
   "execution_count": 412,
   "id": "80bbd865",
   "metadata": {},
   "outputs": [
    {
     "name": "stdout",
     "output_type": "stream",
     "text": [
      "오차 행렬\n",
      "[[16097  6687]\n",
      " [59987 69627]]\n",
      "정확도: 0.5625, 정밀도: 0.9124, 재현율: 0.5372, F1: 0.6762, AUC:0.3283\n"
     ]
    }
   ],
   "source": [
    "get_clf_eval(y_test, lr_pred, lr_pred_proba)"
   ]
  },
  {
   "cell_type": "code",
   "execution_count": 413,
   "id": "fd13324f",
   "metadata": {},
   "outputs": [],
   "source": [
    "array2 = np.array([[26.6, 40, 800]])\n",
    "test_scaled2 = scaler.fit(X_train_over).transform(array2)\n",
    "test_pred2 = lr_clf.predict(test_scaled2)\n",
    "test_pred_proba2 = lr_clf.predict_proba(test_scaled2)[:, 0]"
   ]
  },
  {
   "cell_type": "code",
   "execution_count": 414,
   "id": "22100b39",
   "metadata": {},
   "outputs": [
    {
     "data": {
      "text/plain": [
       "array([0.29895523])"
      ]
     },
     "execution_count": 414,
     "metadata": {},
     "output_type": "execute_result"
    }
   ],
   "source": [
    "test_pred_proba2"
   ]
  },
  {
   "cell_type": "markdown",
   "id": "21c241a3",
   "metadata": {},
   "source": [
    "### minmax"
   ]
  },
  {
   "cell_type": "code",
   "execution_count": 84,
   "id": "d3e72db9",
   "metadata": {},
   "outputs": [],
   "source": [
    "from sklearn.linear_model import LogisticRegression\n",
    "\n",
    "# lr_clf = LogisticRegression(solver='liblinear', penalty='elasticnet', C=0.1)\n",
    "lr_clf1 = LogisticRegression(solver='liblinear', penalty='l1')\n",
    "lr_clf1.fit(X_train_min_scaled, y_train_over)\n",
    "lr_pred1 = lr_clf1.predict(X_test_min_scaled)\n",
    "lr_pred_proba1 = lr_clf1.predict_proba(X_test_min_scaled)[:, 0]"
   ]
  },
  {
   "cell_type": "code",
   "execution_count": 95,
   "id": "64f57c93",
   "metadata": {},
   "outputs": [],
   "source": [
    "array3 = np.array([[20, 50, 4500]])\n",
    "test_scaled3 = scaler_min.fit(X_train_over).transform(array3)\n",
    "test_pred3 = lr_clf1.predict(test_scaled3)\n",
    "test_pred_proba3 = lr_clf1.predict_proba(test_scaled3)[:, 0]"
   ]
  },
  {
   "cell_type": "code",
   "execution_count": 96,
   "id": "8f589f78",
   "metadata": {},
   "outputs": [
    {
     "name": "stdout",
     "output_type": "stream",
     "text": [
      "오차 행렬\n",
      "[[15101  9992]\n",
      " [55776 71529]]\n",
      "정확도: 0.5684, 정밀도: 0.8774, 재현율: 0.5619, F1: 0.6851, AUC:0.3668\n"
     ]
    }
   ],
   "source": [
    "get_clf_eval(y_test, lr_pred1, lr_pred_proba1)"
   ]
  },
  {
   "cell_type": "code",
   "execution_count": 97,
   "id": "572e7dee",
   "metadata": {},
   "outputs": [
    {
     "name": "stdout",
     "output_type": "stream",
     "text": [
      "[0] [0.58160972]\n"
     ]
    }
   ],
   "source": [
    "print(test_pred3, test_pred_proba3)"
   ]
  },
  {
   "cell_type": "markdown",
   "id": "c7ce6b01",
   "metadata": {},
   "source": [
    "### lightgbm"
   ]
  },
  {
   "cell_type": "code",
   "execution_count": 36,
   "id": "25f49937",
   "metadata": {},
   "outputs": [],
   "source": [
    "from lightgbm import LGBMClassifier\n",
    "\n",
    "lgbm_clf = LGBMClassifier(n_estimators=1000, num_leaves=64, n_jobs=-1, boost_from_average=False)\n",
    "lgbm_clf.fit(X_train_scaled, y_train_over)\n",
    "lgbm_pred = lgbm_clf.predict(X_test_scaled)\n",
    "lgbm_pred_proba = lgbm_clf.predict_proba(X_test_scaled)[:, 1]"
   ]
  },
  {
   "cell_type": "code",
   "execution_count": 37,
   "id": "2d8244d9",
   "metadata": {},
   "outputs": [
    {
     "name": "stdout",
     "output_type": "stream",
     "text": [
      "오차 행렬\n",
      "[[ 25092      1]\n",
      " [  9920 117385]]\n",
      "정확도: 0.9349, 정밀도: 1.0000, 재현율: 0.9221, F1: 0.9595, AUC:0.9751\n"
     ]
    }
   ],
   "source": [
    "get_clf_eval(y_test, lgbm_pred, lgbm_pred_proba)"
   ]
  },
  {
   "cell_type": "code",
   "execution_count": 42,
   "id": "4e6fa91a",
   "metadata": {},
   "outputs": [],
   "source": [
    "array = np.array([[26, 15, 400]])\n",
    "test_scaled = scaler.fit(X_train_over).transform(array)\n",
    "\n",
    "test_pred = lgbm_clf.predict(test_scaled)\n",
    "test_pred_proba = lgbm_clf.predict_proba(test_scaled)[:, 0]"
   ]
  },
  {
   "cell_type": "code",
   "execution_count": 43,
   "id": "953b71bb",
   "metadata": {},
   "outputs": [
    {
     "name": "stdout",
     "output_type": "stream",
     "text": [
      "[1] [4.88498131e-15]\n"
     ]
    }
   ],
   "source": [
    "print(test_pred, test_pred_proba)"
   ]
  },
  {
   "cell_type": "markdown",
   "id": "3f6a979a",
   "metadata": {},
   "source": [
    "### minmax"
   ]
  },
  {
   "cell_type": "code",
   "execution_count": 37,
   "id": "eae6a9ba",
   "metadata": {},
   "outputs": [],
   "source": [
    "lgbm_clf1 = LGBMClassifier(n_estimators=1000, num_leaves=64, n_jobs=-1, boost_from_average=False)\n",
    "lgbm_clf1.fit(X_train_min_scaled, y_train_over)\n",
    "lgbm_pred1 = lgbm_clf1.predict(X_test_min_scaled)\n",
    "lgbm_pred_proba1 = lgbm_clf1.predict_proba(X_test_min_scaled)[:, 1]"
   ]
  },
  {
   "cell_type": "code",
   "execution_count": 38,
   "id": "a46afea0",
   "metadata": {},
   "outputs": [
    {
     "name": "stdout",
     "output_type": "stream",
     "text": [
      "오차 행렬\n",
      "[[ 22526   2567]\n",
      " [   457 126848]]\n",
      "정확도: 0.9802, 정밀도: 0.9802, 재현율: 0.9964, F1: 0.9882, AUC:0.9545\n"
     ]
    }
   ],
   "source": [
    "get_clf_eval(y_test, lgbm_pred1, lgbm_pred_proba1)"
   ]
  },
  {
   "cell_type": "code",
   "execution_count": 97,
   "id": "47801806",
   "metadata": {},
   "outputs": [],
   "source": [
    "array1 = np.array([[26, 55, 1700]])\n",
    "test_scaled1 = scaler_min.fit(X_train_over).transform(array1)\n",
    "test_pred1 = lgbm_clf1.predict(test_scaled1)\n",
    "test_pred_proba1 = lgbm_clf1.predict_proba(test_scaled1)[:, 0]"
   ]
  },
  {
   "cell_type": "code",
   "execution_count": 98,
   "id": "b5f6654b",
   "metadata": {},
   "outputs": [
    {
     "name": "stdout",
     "output_type": "stream",
     "text": [
      "[0] [1.]\n"
     ]
    }
   ],
   "source": [
    "print(test_pred1, test_pred_proba1)"
   ]
  },
  {
   "cell_type": "markdown",
   "id": "9898beb8",
   "metadata": {},
   "source": [
    "### Model save"
   ]
  },
  {
   "cell_type": "code",
   "execution_count": 268,
   "id": "13183324",
   "metadata": {},
   "outputs": [],
   "source": [
    "import pickle"
   ]
  },
  {
   "cell_type": "code",
   "execution_count": 270,
   "id": "d6548135",
   "metadata": {},
   "outputs": [
    {
     "data": {
      "text/plain": [
       "array([0])"
      ]
     },
     "execution_count": 270,
     "metadata": {},
     "output_type": "execute_result"
    }
   ],
   "source": [
    "saved_model = pickle.dumps(lr_clf)\n",
    "clf_from_pickle = pickle.loads(saved_model)\n",
    "clf_from_pickle.predict(test_scaled2)\n"
   ]
  },
  {
   "cell_type": "code",
   "execution_count": 271,
   "id": "3b2e693e",
   "metadata": {},
   "outputs": [
    {
     "data": {
      "text/plain": [
       "['Temp_LinearRegression.pkl']"
      ]
     },
     "execution_count": 271,
     "metadata": {},
     "output_type": "execute_result"
    }
   ],
   "source": [
    "import joblib\n",
    "\n",
    "joblib.dump(lr_clf, 'Temp_LinearRegression.pkl') "
   ]
  },
  {
   "cell_type": "code",
   "execution_count": 274,
   "id": "5eb5aa59",
   "metadata": {},
   "outputs": [
    {
     "name": "stdout",
     "output_type": "stream",
     "text": [
      "[0] [0.62100804]\n"
     ]
    }
   ],
   "source": [
    "clf_from_joblib = joblib.load('Temp_LinearRegression.pkl') \n",
    "joblib_preb = clf_from_joblib.predict(test_scaled2)\n",
    "joblib_pred_proba = clf_from_joblib.predict_proba(test_scaled2)[:, 0]\n",
    "joblib_pred_proba = joblib_pred_proba \n",
    "print(joblib_preb, joblib_pred_proba)"
   ]
  },
  {
   "cell_type": "code",
   "execution_count": 277,
   "id": "6b3e3a22",
   "metadata": {},
   "outputs": [],
   "source": [
    "df.to_csv(\"/home/crysis/Workspace/5th_ML_Project/Eyes detection-Django/team5_project_django/static/temp.csv\", index=False)"
   ]
  },
  {
   "cell_type": "code",
   "execution_count": null,
   "id": "f95e56d7",
   "metadata": {},
   "outputs": [],
   "source": []
  }
 ],
 "metadata": {
  "kernelspec": {
   "display_name": "Python [conda env:machine_TF2] *",
   "language": "python",
   "name": "conda-env-machine_TF2-py"
  },
  "language_info": {
   "codemirror_mode": {
    "name": "ipython",
    "version": 3
   },
   "file_extension": ".py",
   "mimetype": "text/x-python",
   "name": "python",
   "nbconvert_exporter": "python",
   "pygments_lexer": "ipython3",
   "version": "3.8.13"
  }
 },
 "nbformat": 4,
 "nbformat_minor": 5
}
