{
 "cells": [
  {
   "cell_type": "code",
   "execution_count": 1,
   "id": "1f29a6e8",
   "metadata": {},
   "outputs": [
    {
     "data": {
      "text/html": [
       "<div>\n",
       "<style scoped>\n",
       "    .dataframe tbody tr th:only-of-type {\n",
       "        vertical-align: middle;\n",
       "    }\n",
       "\n",
       "    .dataframe tbody tr th {\n",
       "        vertical-align: top;\n",
       "    }\n",
       "\n",
       "    .dataframe thead th {\n",
       "        text-align: right;\n",
       "    }\n",
       "</style>\n",
       "<table border=\"1\" class=\"dataframe\">\n",
       "  <thead>\n",
       "    <tr style=\"text-align: right;\">\n",
       "      <th></th>\n",
       "      <th>기온(℃)</th>\n",
       "      <th>상대습도( %)</th>\n",
       "      <th>co2</th>\n",
       "      <th>label</th>\n",
       "    </tr>\n",
       "  </thead>\n",
       "  <tbody>\n",
       "    <tr>\n",
       "      <th>0</th>\n",
       "      <td>-11.3</td>\n",
       "      <td>47.0</td>\n",
       "      <td>6589</td>\n",
       "      <td>1</td>\n",
       "    </tr>\n",
       "    <tr>\n",
       "      <th>1</th>\n",
       "      <td>-10.2</td>\n",
       "      <td>44.0</td>\n",
       "      <td>1920</td>\n",
       "      <td>1</td>\n",
       "    </tr>\n",
       "    <tr>\n",
       "      <th>2</th>\n",
       "      <td>-10.1</td>\n",
       "      <td>42.0</td>\n",
       "      <td>1536</td>\n",
       "      <td>1</td>\n",
       "    </tr>\n",
       "    <tr>\n",
       "      <th>3</th>\n",
       "      <td>-10.2</td>\n",
       "      <td>42.0</td>\n",
       "      <td>5109</td>\n",
       "      <td>1</td>\n",
       "    </tr>\n",
       "    <tr>\n",
       "      <th>4</th>\n",
       "      <td>-10.6</td>\n",
       "      <td>44.0</td>\n",
       "      <td>184</td>\n",
       "      <td>1</td>\n",
       "    </tr>\n",
       "    <tr>\n",
       "      <th>...</th>\n",
       "      <td>...</td>\n",
       "      <td>...</td>\n",
       "      <td>...</td>\n",
       "      <td>...</td>\n",
       "    </tr>\n",
       "    <tr>\n",
       "      <th>508982</th>\n",
       "      <td>17.6</td>\n",
       "      <td>84.0</td>\n",
       "      <td>3987</td>\n",
       "      <td>1</td>\n",
       "    </tr>\n",
       "    <tr>\n",
       "      <th>508983</th>\n",
       "      <td>17.6</td>\n",
       "      <td>86.0</td>\n",
       "      <td>3109</td>\n",
       "      <td>1</td>\n",
       "    </tr>\n",
       "    <tr>\n",
       "      <th>508984</th>\n",
       "      <td>17.5</td>\n",
       "      <td>85.0</td>\n",
       "      <td>2622</td>\n",
       "      <td>1</td>\n",
       "    </tr>\n",
       "    <tr>\n",
       "      <th>508985</th>\n",
       "      <td>17.7</td>\n",
       "      <td>81.0</td>\n",
       "      <td>1311</td>\n",
       "      <td>1</td>\n",
       "    </tr>\n",
       "    <tr>\n",
       "      <th>508986</th>\n",
       "      <td>17.8</td>\n",
       "      <td>84.0</td>\n",
       "      <td>555</td>\n",
       "      <td>1</td>\n",
       "    </tr>\n",
       "  </tbody>\n",
       "</table>\n",
       "<p>508987 rows × 4 columns</p>\n",
       "</div>"
      ],
      "text/plain": [
       "        기온(℃)  상대습도( %)   co2  label\n",
       "0       -11.3      47.0  6589      1\n",
       "1       -10.2      44.0  1920      1\n",
       "2       -10.1      42.0  1536      1\n",
       "3       -10.2      42.0  5109      1\n",
       "4       -10.6      44.0   184      1\n",
       "...       ...       ...   ...    ...\n",
       "508982   17.6      84.0  3987      1\n",
       "508983   17.6      86.0  3109      1\n",
       "508984   17.5      85.0  2622      1\n",
       "508985   17.7      81.0  1311      1\n",
       "508986   17.8      84.0   555      1\n",
       "\n",
       "[508987 rows x 4 columns]"
      ]
     },
     "metadata": {},
     "output_type": "display_data"
    }
   ],
   "source": [
    "import numpy as np\n",
    "import pandas as pd\n",
    "import tensorflow as tf\n",
    "from sklearn import linear_model  # sklearn으로 logistic 구현\n",
    "from sklearn.preprocessing import MinMaxScaler  # 정규화 진행\n",
    "from sklearn.model_selection import train_test_split\n",
    "from scipy import stats   # 이상치 처리\n",
    "import matplotlib.pyplot as plt\n",
    "import warnings\n",
    "\n",
    "new = pd.read_csv('/jupyter_home/Machine_Learning/5th_ML_Project/온도, 습도, co2 data/nature_data.csv')\n",
    "\n",
    "new = new.drop(['Unnamed: 0'],axis=1)\n",
    "display(new)"
   ]
  },
  {
   "cell_type": "code",
   "execution_count": 2,
   "id": "63bb1175",
   "metadata": {},
   "outputs": [
    {
     "data": {
      "text/plain": [
       "1    423302\n",
       "0     85685\n",
       "Name: label, dtype: int64"
      ]
     },
     "execution_count": 2,
     "metadata": {},
     "output_type": "execute_result"
    }
   ],
   "source": [
    "new['label'].value_counts()"
   ]
  },
  {
   "cell_type": "code",
   "execution_count": 3,
   "id": "add026c5",
   "metadata": {},
   "outputs": [],
   "source": [
    "# 이상치\n",
    "#zscore_threshold = 2.0\n",
    "\n",
    "#for col in ['기온(℃)','상대습도( %)','co2']:\n",
    "#    outlier = new[col][np.abs(stats.zscore(new[col])) > zscore_threshold]\n",
    "#    new = new.loc[~new[col].isin(outlier)]"
   ]
  },
  {
   "cell_type": "code",
   "execution_count": 4,
   "id": "1d01b7ba",
   "metadata": {},
   "outputs": [],
   "source": [
    "new = new.drop(new.loc[new['기온(℃)'] < -20].index)"
   ]
  },
  {
   "cell_type": "code",
   "execution_count": 5,
   "id": "787dde09",
   "metadata": {},
   "outputs": [
    {
     "data": {
      "text/plain": [
       "<BarContainer object of 2 artists>"
      ]
     },
     "execution_count": 5,
     "metadata": {},
     "output_type": "execute_result"
    },
    {
     "data": {
      "image/png": "[encoded data removed]",
      "text/plain": [
       "<Figure size 432x288 with 1 Axes>"
      ]
     },
     "metadata": {
      "needs_background": "light"
     },
     "output_type": "display_data"
    }
   ],
   "source": [
    "x_data = new[['기온(℃)','상대습도( %)','co2']]\n",
    "t_data = new['label']\n",
    "\n",
    "from imblearn.over_sampling import RandomOverSampler\n",
    "\n",
    "ros = RandomOverSampler(random_state=42)\n",
    "\n",
    "x_data,t_data = ros.fit_resample(x_data,t_data)\n",
    "\n",
    "# plt.bar(x_data, t_data)\n",
    "plt.bar(['0','1'],t_data.value_counts())"
   ]
  },
  {
   "cell_type": "code",
   "execution_count": 6,
   "id": "b1cba3e1",
   "metadata": {},
   "outputs": [
    {
     "name": "stdout",
     "output_type": "stream",
     "text": [
      "[[0.15779817 0.43617021 0.94013725]\n",
      " [0.17798165 0.40425532 0.25843189]\n",
      " [0.17981651 0.38297872 0.20236531]\n",
      " ...\n",
      " [0.31192661 0.57446809 0.45904512]\n",
      " [0.60183486 0.5        0.73893999]\n",
      " [0.57614679 0.56382979 0.57220032]]\n"
     ]
    }
   ],
   "source": [
    "scaler = MinMaxScaler()\n",
    "scaler.fit(x_data)\n",
    "\n",
    "norm_x_data = scaler.transform(x_data)\n",
    "print(norm_x_data)"
   ]
  },
  {
   "cell_type": "code",
   "execution_count": 7,
   "id": "f012b065",
   "metadata": {},
   "outputs": [
    {
     "name": "stdout",
     "output_type": "stream",
     "text": [
      "(675856, 3) (675856,)\n"
     ]
    }
   ],
   "source": [
    "train_x_data, test_x_data, train_t_data, test_t_data = \\\n",
    "train_test_split(norm_x_data,\n",
    "                 t_data,\n",
    "                 test_size = 0.2,\n",
    "                 random_state=2,\n",
    "                 stratify=t_data)\n",
    "print(train_x_data.shape, train_t_data.shape) "
   ]
  },
  {
   "cell_type": "code",
   "execution_count": 8,
   "id": "9c7b0a77",
   "metadata": {},
   "outputs": [
    {
     "name": "stdout",
     "output_type": "stream",
     "text": [
      "0.5734180062025047\n"
     ]
    }
   ],
   "source": [
    "from sklearn import linear_model\n",
    "\n",
    "model = linear_model.LogisticRegression()\n",
    "\n",
    "model.fit(train_x_data, train_t_data)\n",
    "test_score = model.score(test_x_data, test_t_data)\n",
    "print(test_score) # accuracy"
   ]
  },
  {
   "cell_type": "code",
   "execution_count": 9,
   "id": "c1993c36",
   "metadata": {},
   "outputs": [],
   "source": [
    "# 이상치 제거x, 정규화x, train_test_split    0.579402436791656\n",
    "# 이상치 제거x, 정규화o, train_test_split    0.570909692241364\n",
    "# z-score 이상치 제거, 정규화o, train_test_split   0.5714089020177239\n",
    "# z-score 이상치 제거, 정규화x, train_test_split   0.5729797726931357"
   ]
  },
  {
   "cell_type": "code",
   "execution_count": 10,
   "id": "0d4587af",
   "metadata": {
    "scrolled": false
   },
   "outputs": [
    {
     "name": "stdout",
     "output_type": "stream",
     "text": [
      "Epoch 1/100\n",
      "21121/21121 [==============================] - 11s 520us/step - loss: 0.6766 - accuracy: 0.5685\n",
      "Epoch 2/100\n",
      "21121/21121 [==============================] - 11s 504us/step - loss: 0.6677 - accuracy: 0.5725\n",
      "Epoch 3/100\n",
      "21121/21121 [==============================] - 11s 508us/step - loss: 0.6677 - accuracy: 0.5724\n",
      "Epoch 4/100\n",
      "21121/21121 [==============================] - 11s 507us/step - loss: 0.6677 - accuracy: 0.5725\n",
      "Epoch 5/100\n",
      "21121/21121 [==============================] - 11s 508us/step - loss: 0.6676 - accuracy: 0.5726\n",
      "Epoch 6/100\n",
      "21121/21121 [==============================] - 11s 501us/step - loss: 0.6676 - accuracy: 0.5725\n",
      "Epoch 7/100\n",
      "21121/21121 [==============================] - 12s 551us/step - loss: 0.6676 - accuracy: 0.5721\n",
      "Epoch 8/100\n",
      "21121/21121 [==============================] - 11s 532us/step - loss: 0.6676 - accuracy: 0.5727\n",
      "Epoch 9/100\n",
      "21121/21121 [==============================] - 11s 535us/step - loss: 0.6676 - accuracy: 0.5725\n",
      "Epoch 10/100\n",
      "21121/21121 [==============================] - 12s 565us/step - loss: 0.6677 - accuracy: 0.5723\n",
      "Epoch 11/100\n",
      "21121/21121 [==============================] - 12s 578us/step - loss: 0.6677 - accuracy: 0.5723\n",
      "Epoch 12/100\n",
      "21121/21121 [==============================] - 12s 562us/step - loss: 0.6676 - accuracy: 0.5722\n",
      "Epoch 13/100\n",
      "21121/21121 [==============================] - 13s 599us/step - loss: 0.6677 - accuracy: 0.5723\n",
      "Epoch 14/100\n",
      "21121/21121 [==============================] - 13s 611us/step - loss: 0.6676 - accuracy: 0.5724\n",
      "Epoch 15/100\n",
      "21121/21121 [==============================] - 13s 629us/step - loss: 0.6677 - accuracy: 0.5722\n",
      "Epoch 16/100\n",
      "21121/21121 [==============================] - 12s 553us/step - loss: 0.6677 - accuracy: 0.5722s - loss: 0.6676 \n",
      "Epoch 17/100\n",
      "21121/21121 [==============================] - 10s 482us/step - loss: 0.6677 - accuracy: 0.5723\n",
      "Epoch 18/100\n",
      "21121/21121 [==============================] - 10s 489us/step - loss: 0.6676 - accuracy: 0.5722\n",
      "Epoch 19/100\n",
      "21121/21121 [==============================] - 11s 540us/step - loss: 0.6677 - accuracy: 0.5723s - loss: 0.6676 - \n",
      "Epoch 20/100\n",
      "21121/21121 [==============================] - 12s 553us/step - loss: 0.6676 - accuracy: 0.5724\n",
      "Epoch 21/100\n",
      "21121/21121 [==============================] - 12s 548us/step - loss: 0.6677 - accuracy: 0.5722s - loss: 0.6677 - accuracy: 0. - ETA: 0s - loss: 0.6677 - accuracy: \n",
      "Epoch 22/100\n",
      "21121/21121 [==============================] - 13s 597us/step - loss: 0.6677 - accuracy: 0.5723\n",
      "Epoch 23/100\n",
      "21121/21121 [==============================] - 12s 551us/step - loss: 0.6676 - accuracy: 0.5723\n",
      "Epoch 24/100\n",
      "21121/21121 [==============================] - 12s 568us/step - loss: 0.6676 - accuracy: 0.5724\n",
      "Epoch 25/100\n",
      "21121/21121 [==============================] - 11s 528us/step - loss: 0.6676 - accuracy: 0.5723\n",
      "Epoch 26/100\n",
      "21121/21121 [==============================] - 11s 513us/step - loss: 0.6677 - accuracy: 0.5724\n",
      "Epoch 27/100\n",
      "21121/21121 [==============================] - 12s 567us/step - loss: 0.6676 - accuracy: 0.5724\n",
      "Epoch 28/100\n",
      "21121/21121 [==============================] - 12s 561us/step - loss: 0.6676 - accuracy: 0.5725\n",
      "Epoch 29/100\n",
      "21121/21121 [==============================] - 11s 537us/step - loss: 0.6676 - accuracy: 0.5725\n",
      "Epoch 30/100\n",
      "21121/21121 [==============================] - 12s 553us/step - loss: 0.6676 - accuracy: 0.5724\n",
      "Epoch 31/100\n",
      "21121/21121 [==============================] - 12s 587us/step - loss: 0.6676 - accuracy: 0.5723\n",
      "Epoch 32/100\n",
      "21121/21121 [==============================] - 12s 560us/step - loss: 0.6676 - accuracy: 0.5723\n",
      "Epoch 33/100\n",
      "21121/21121 [==============================] - 12s 568us/step - loss: 0.6676 - accuracy: 0.5722\n",
      "Epoch 34/100\n",
      "21121/21121 [==============================] - 12s 555us/step - loss: 0.6676 - accuracy: 0.5722\n",
      "Epoch 35/100\n",
      "21121/21121 [==============================] - 13s 623us/step - loss: 0.6676 - accuracy: 0.5724\n",
      "Epoch 36/100\n",
      "21121/21121 [==============================] - 13s 608us/step - loss: 0.6676 - accuracy: 0.5724\n",
      "Epoch 37/100\n",
      "21121/21121 [==============================] - 14s 640us/step - loss: 0.6676 - accuracy: 0.5723\n",
      "Epoch 38/100\n",
      "21121/21121 [==============================] - 12s 578us/step - loss: 0.6676 - accuracy: 0.5725\n",
      "Epoch 39/100\n",
      "21121/21121 [==============================] - 13s 592us/step - loss: 0.6677 - accuracy: 0.5723\n",
      "Epoch 40/100\n",
      "21121/21121 [==============================] - 13s 598us/step - loss: 0.6676 - accuracy: 0.5725\n",
      "Epoch 41/100\n",
      "21121/21121 [==============================] - 12s 590us/step - loss: 0.6677 - accuracy: 0.5724\n",
      "Epoch 42/100\n",
      "21121/21121 [==============================] - 14s 644us/step - loss: 0.6676 - accuracy: 0.5725\n",
      "Epoch 43/100\n",
      "21121/21121 [==============================] - 11s 528us/step - loss: 0.6677 - accuracy: 0.5723\n",
      "Epoch 44/100\n",
      "21121/21121 [==============================] - 12s 546us/step - loss: 0.6677 - accuracy: 0.5724\n",
      "Epoch 45/100\n",
      "21121/21121 [==============================] - 12s 585us/step - loss: 0.6677 - accuracy: 0.5725s - loss: 0.6676 - accuracy: 0.57\n",
      "Epoch 46/100\n",
      "21121/21121 [==============================] - 12s 580us/step - loss: 0.6677 - accuracy: 0.5723\n",
      "Epoch 47/100\n",
      "21121/21121 [==============================] - 11s 541us/step - loss: 0.6676 - accuracy: 0.5725\n",
      "Epoch 48/100\n",
      "21121/21121 [==============================] - 12s 563us/step - loss: 0.6677 - accuracy: 0.5725\n",
      "Epoch 49/100\n",
      "21121/21121 [==============================] - 12s 585us/step - loss: 0.6677 - accuracy: 0.5723\n",
      "Epoch 50/100\n",
      "21121/21121 [==============================] - 13s 605us/step - loss: 0.6677 - accuracy: 0.5723\n",
      "Epoch 51/100\n",
      "21121/21121 [==============================] - 12s 583us/step - loss: 0.6677 - accuracy: 0.5724\n",
      "Epoch 52/100\n",
      "21121/21121 [==============================] - 11s 529us/step - loss: 0.6676 - accuracy: 0.5724\n",
      "Epoch 53/100\n",
      "21121/21121 [==============================] - 11s 504us/step - loss: 0.6676 - accuracy: 0.5724\n",
      "Epoch 54/100\n",
      "21121/21121 [==============================] - 11s 525us/step - loss: 0.6677 - accuracy: 0.5721\n",
      "Epoch 55/100\n",
      "21121/21121 [==============================] - 11s 528us/step - loss: 0.6677 - accuracy: 0.5722\n",
      "Epoch 56/100\n",
      "21121/21121 [==============================] - 12s 552us/step - loss: 0.6676 - accuracy: 0.5724\n",
      "Epoch 57/100\n",
      "21121/21121 [==============================] - 12s 555us/step - loss: 0.6676 - accuracy: 0.5723\n",
      "Epoch 58/100\n",
      "21121/21121 [==============================] - 10s 492us/step - loss: 0.6677 - accuracy: 0.5724\n",
      "Epoch 59/100\n",
      "21121/21121 [==============================] - 10s 495us/step - loss: 0.6676 - accuracy: 0.5723\n",
      "Epoch 60/100\n",
      "21121/21121 [==============================] - 11s 527us/step - loss: 0.6677 - accuracy: 0.5721\n",
      "Epoch 61/100\n",
      "21121/21121 [==============================] - 12s 546us/step - loss: 0.6676 - accuracy: 0.5724\n",
      "Epoch 62/100\n",
      "21121/21121 [==============================] - 11s 537us/step - loss: 0.6676 - accuracy: 0.5726\n",
      "Epoch 63/100\n",
      "21121/21121 [==============================] - 12s 566us/step - loss: 0.6677 - accuracy: 0.5725\n",
      "Epoch 64/100\n",
      "21121/21121 [==============================] - 12s 561us/step - loss: 0.6676 - accuracy: 0.5724\n",
      "Epoch 65/100\n",
      "21121/21121 [==============================] - 15s 717us/step - loss: 0.6676 - accuracy: 0.5723\n",
      "Epoch 66/100\n",
      "21121/21121 [==============================] - 13s 611us/step - loss: 0.6677 - accuracy: 0.5723\n",
      "Epoch 67/100\n",
      "21121/21121 [==============================] - 14s 683us/step - loss: 0.6676 - accuracy: 0.5723\n",
      "Epoch 68/100\n",
      "21121/21121 [==============================] - 12s 566us/step - loss: 0.6677 - accuracy: 0.5724\n",
      "Epoch 69/100\n",
      "21121/21121 [==============================] - ETA: 0s - loss: 0.6676 - accuracy: 0.57 - 14s 651us/step - loss: 0.6676 - accuracy: 0.5724\n",
      "Epoch 70/100\n",
      "21121/21121 [==============================] - 13s 622us/step - loss: 0.6676 - accuracy: 0.5723\n",
      "Epoch 71/100\n",
      "21121/21121 [==============================] - 13s 621us/step - loss: 0.6676 - accuracy: 0.5724\n",
      "Epoch 72/100\n",
      "21121/21121 [==============================] - 12s 546us/step - loss: 0.6676 - accuracy: 0.5723\n",
      "Epoch 73/100\n",
      "21121/21121 [==============================] - 12s 579us/step - loss: 0.6676 - accuracy: 0.5725\n",
      "Epoch 74/100\n"
     ]
    },
    {
     "name": "stdout",
     "output_type": "stream",
     "text": [
      "21121/21121 [==============================] - 14s 677us/step - loss: 0.6676 - accuracy: 0.5723\n",
      "Epoch 75/100\n",
      "21121/21121 [==============================] - 15s 693us/step - loss: 0.6676 - accuracy: 0.5722\n",
      "Epoch 76/100\n",
      "21121/21121 [==============================] - 13s 622us/step - loss: 0.6677 - accuracy: 0.5723\n",
      "Epoch 77/100\n",
      "21121/21121 [==============================] - 13s 617us/step - loss: 0.6676 - accuracy: 0.5724\n",
      "Epoch 78/100\n",
      "21121/21121 [==============================] - 14s 657us/step - loss: 0.6676 - accuracy: 0.5724\n",
      "Epoch 79/100\n",
      "21121/21121 [==============================] - 15s 695us/step - loss: 0.6677 - accuracy: 0.5724\n",
      "Epoch 80/100\n",
      "21121/21121 [==============================] - 14s 654us/step - loss: 0.6676 - accuracy: 0.5723\n",
      "Epoch 81/100\n",
      "21121/21121 [==============================] - 13s 609us/step - loss: 0.6676 - accuracy: 0.5724\n",
      "Epoch 82/100\n",
      "21121/21121 [==============================] - 14s 645us/step - loss: 0.6677 - accuracy: 0.5723\n",
      "Epoch 83/100\n",
      "21121/21121 [==============================] - 14s 650us/step - loss: 0.6676 - accuracy: 0.5725\n",
      "Epoch 84/100\n",
      "21121/21121 [==============================] - 12s 561us/step - loss: 0.6677 - accuracy: 0.5724s - loss: 0.6676 - accura\n",
      "Epoch 85/100\n",
      "21121/21121 [==============================] - 13s 592us/step - loss: 0.6676 - accuracy: 0.5724\n",
      "Epoch 86/100\n",
      "21121/21121 [==============================] - 9s 439us/step - loss: 0.6677 - accuracy: 0.5724\n",
      "Epoch 87/100\n",
      "21121/21121 [==============================] - 10s 489us/step - loss: 0.6676 - accuracy: 0.5723\n",
      "Epoch 88/100\n",
      "21121/21121 [==============================] - 10s 474us/step - loss: 0.6676 - accuracy: 0.5723\n",
      "Epoch 89/100\n",
      "21121/21121 [==============================] - 10s 477us/step - loss: 0.6677 - accuracy: 0.5723\n",
      "Epoch 90/100\n",
      "21121/21121 [==============================] - 9s 436us/step - loss: 0.6677 - accuracy: 0.5724\n",
      "Epoch 91/100\n",
      "21121/21121 [==============================] - 10s 452us/step - loss: 0.6676 - accuracy: 0.5725\n",
      "Epoch 92/100\n",
      "21121/21121 [==============================] - 10s 470us/step - loss: 0.6677 - accuracy: 0.5725\n",
      "Epoch 93/100\n",
      "21121/21121 [==============================] - 10s 466us/step - loss: 0.6676 - accuracy: 0.5726\n",
      "Epoch 94/100\n",
      "21121/21121 [==============================] - 10s 456us/step - loss: 0.6677 - accuracy: 0.5725\n",
      "Epoch 95/100\n",
      "21121/21121 [==============================] - 11s 516us/step - loss: 0.6676 - accuracy: 0.5725\n",
      "Epoch 96/100\n",
      "21121/21121 [==============================] - 11s 498us/step - loss: 0.6676 - accuracy: 0.5727\n",
      "Epoch 97/100\n",
      "21121/21121 [==============================] - 10s 458us/step - loss: 0.6676 - accuracy: 0.5723\n",
      "Epoch 98/100\n",
      "21121/21121 [==============================] - 10s 462us/step - loss: 0.6676 - accuracy: 0.5723\n",
      "Epoch 99/100\n",
      "21121/21121 [==============================] - 10s 466us/step - loss: 0.6677 - accuracy: 0.5722\n",
      "Epoch 100/100\n",
      "21121/21121 [==============================] - 9s 442us/step - loss: 0.6677 - accuracy: 0.5723\n",
      "5281/5281 [==============================] - 2s 458us/step - loss: 0.6673 - accuracy: 0.5735\n",
      "Tensorflow 2.x 정확도 : [0.6673204302787781, 0.5735422968864441]\n"
     ]
    }
   ],
   "source": [
    "from tensorflow.keras.models import Sequential\n",
    "from tensorflow.keras.layers import Flatten, Dense\n",
    "from tensorflow.keras.optimizers import SGD\n",
    "\n",
    "# tensorflow 구현\n",
    "\n",
    "keras_model = Sequential()\n",
    "keras_model.add(Flatten(input_shape=(3,)))\n",
    "keras_model.add(Dense(units=1,\n",
    "                      activation='sigmoid'))\n",
    "keras_model.compile(optimizer=SGD(learning_rate=1e-2),\n",
    "                    loss='binary_crossentropy',\n",
    "                    metrics=['accuracy'])\n",
    "keras_model.fit(train_x_data,\n",
    "                train_t_data,\n",
    "                epochs=100,\n",
    "                verbose=1)  # verbos=1은 학습하는걸 출력해서 보겠다는것\n",
    "                            # verbose=0은 출력하지 않음\n",
    "    \n",
    "keras_result = keras_model.evaluate(test_x_data,test_t_data)\n",
    "print('Tensorflow 2.x 정확도 : {}'.format(keras_result))"
   ]
  },
  {
   "cell_type": "code",
   "execution_count": 11,
   "id": "d804d90a",
   "metadata": {},
   "outputs": [
    {
     "name": "stdout",
     "output_type": "stream",
     "text": [
      "              precision    recall  f1-score   support\n",
      "\n",
      "           0       0.57      0.58      0.58     84482\n",
      "           1       0.58      0.56      0.57     84482\n",
      "\n",
      "    accuracy                           0.57    168964\n",
      "   macro avg       0.57      0.57      0.57    168964\n",
      "weighted avg       0.57      0.57      0.57    168964\n",
      "\n"
     ]
    }
   ],
   "source": [
    "from sklearn.metrics import classification_report\n",
    "\n",
    "# insert_data = scaler.transform(np.array([[10, 25, 1700]]))\n",
    "predict_val = keras_model.predict(test_x_data) \n",
    "bin_predict = tf.round(predict_val).numpy().flatten()\n",
    "print(classification_report(test_t_data, bin_predict))"
   ]
  },
  {
   "cell_type": "code",
   "execution_count": 45,
   "id": "5a1a949c",
   "metadata": {},
   "outputs": [
    {
     "name": "stderr",
     "output_type": "stream",
     "text": [
      "C:\\Users\\yeop\\.conda\\envs\\machine_TF2\\lib\\site-packages\\sklearn\\base.py:450: UserWarning: X does not have valid feature names, but MinMaxScaler was fitted with feature names\n",
      "  warnings.warn(\n"
     ]
    },
    {
     "name": "stdout",
     "output_type": "stream",
     "text": [
      "WARNING:tensorflow:From C:\\Users\\yeop\\AppData\\Local\\Temp\\ipykernel_20488\\2263128214.py:3: Sequential.predict_proba (from tensorflow.python.keras.engine.sequential) is deprecated and will be removed after 2021-01-01.\n",
      "Instructions for updating:\n",
      "Please use `model.predict()` instead.\n",
      "sklearn의 결과 : 합격여부 : [[0.6512024]], 확률 : [[0.6512024]]\n"
     ]
    }
   ],
   "source": [
    "insert_data = scaler.transform(np.array([[10, 25, 1700]]))\n",
    "predict_val = keras_model.predict(insert_data)    # 0 or 1로 결과 도출\n",
    "predict_proba = keras_model.predict_proba(insert_data) # 확률값으로 결과를 도출\n",
    "\n",
    "print('sklearn의 결과 : 합격여부 : {}, 확률 : {}'.format(predict_val, \n",
    "                                                         predict_proba))"
   ]
  },
  {
   "cell_type": "code",
   "execution_count": 44,
   "id": "c2d02a88",
   "metadata": {
    "scrolled": true
   },
   "outputs": [
    {
     "name": "stdout",
     "output_type": "stream",
     "text": [
      "KNN의 accuracy : 0.998397837080058\n",
      "sklearn의 결과 : 합격여부 : [1], 확률 : [[0. 1.]]\n"
     ]
    },
    {
     "name": "stderr",
     "output_type": "stream",
     "text": [
      "C:\\Users\\yeop\\.conda\\envs\\machine_TF2\\lib\\site-packages\\sklearn\\base.py:450: UserWarning: X does not have valid feature names, but MinMaxScaler was fitted with feature names\n",
      "  warnings.warn(\n"
     ]
    },
    {
     "name": "stdout",
     "output_type": "stream",
     "text": [
      "              precision    recall  f1-score   support\n",
      "\n",
      "           0       1.00      1.00      1.00     80116\n",
      "           1       1.00      1.00      1.00     79668\n",
      "\n",
      "    accuracy                           1.00    159784\n",
      "   macro avg       1.00      1.00      1.00    159784\n",
      "weighted avg       1.00      1.00      1.00    159784\n",
      "\n"
     ]
    }
   ],
   "source": [
    "# KNN\n",
    "from sklearn.neighbors import KNeighborsClassifier\n",
    "\n",
    "knn_classifier = KNeighborsClassifier(n_neighbors=3)\n",
    "knn_classifier.fit(train_x_data, train_t_data)\n",
    "acc = knn_classifier.score(test_x_data, test_t_data)\n",
    "print('KNN의 accuracy : {}'.format(acc))\n",
    "\n",
    "\n",
    "insert_data = scaler.transform(np.array([[10, 25, 1700]]))\n",
    "predict_val = knn_classifier.predict(insert_data)    # 0 or 1로 결과 도출\n",
    "predict_proba = knn_classifier.predict_proba(insert_data) # 확률값으로 결과를 도출\n",
    "\n",
    "print('sklearn의 결과 : 합격여부 : {}, 확률 : {}'.format(predict_val, \n",
    "                                                         predict_proba))\n",
    "\n",
    "from sklearn.metrics import classification_report\n",
    "pred = knn_classifier.predict(test_x_data)\n",
    "print(classification_report(pred, test_t_data))\n",
    "      \n",
    "      "
   ]
  },
  {
   "cell_type": "code",
   "execution_count": 42,
   "id": "5a8b484f",
   "metadata": {},
   "outputs": [
    {
     "data": {
      "text/plain": [
       "array([[0.85555556, 0.35526316, 0.12410571]])"
      ]
     },
     "execution_count": 42,
     "metadata": {},
     "output_type": "execute_result"
    }
   ],
   "source": [
    "insert_data"
   ]
  },
  {
   "cell_type": "code",
   "execution_count": 40,
   "id": "8a1e65b5",
   "metadata": {},
   "outputs": [
    {
     "name": "stdout",
     "output_type": "stream",
     "text": [
      "훈련 세트 정확도: 0.998\n",
      "테스트 세트 정확도: 0.998\n",
      "sklearn의 결과 : 합격여부 : [0], 확률 : [[0.99612544 0.00387456]]\n",
      "              precision    recall  f1-score   support\n",
      "\n",
      "           0       1.00      1.00      1.00     80227\n",
      "           1       1.00      1.00      1.00     79557\n",
      "\n",
      "    accuracy                           1.00    159784\n",
      "   macro avg       1.00      1.00      1.00    159784\n",
      "weighted avg       1.00      1.00      1.00    159784\n",
      "\n"
     ]
    },
    {
     "name": "stderr",
     "output_type": "stream",
     "text": [
      "C:\\Users\\yeop\\.conda\\envs\\machine_TF2\\lib\\site-packages\\sklearn\\base.py:450: UserWarning: X does not have valid feature names, but MinMaxScaler was fitted with feature names\n",
      "  warnings.warn(\n"
     ]
    }
   ],
   "source": [
    "# decision tree\n",
    "from sklearn.tree import DecisionTreeClassifier\n",
    "\n",
    "tree = DecisionTreeClassifier(max_depth=3, random_state=0)\n",
    "tree.fit(train_x_data, train_t_data)\n",
    "\n",
    "print(\"훈련 세트 정확도: {:.3f}\".format(tree.score(train_x_data, train_t_data)))\n",
    "print(\"테스트 세트 정확도: {:.3f}\".format(tree.score(test_x_data, test_t_data)))\n",
    "\n",
    "insert_data = scaler.transform(np.array([[19, 58, 6000]]))\n",
    "predict_val = tree.predict(insert_data)    # 0 or 1로 결과 도출\n",
    "predict_proba = tree.predict_proba(insert_data) # 확률값으로 결과를 도출\n",
    "\n",
    "print('sklearn의 결과 : 합격여부 : {}, 확률 : {}'.format(predict_val, \n",
    "                                                         predict_proba))\n",
    "\n",
    "from sklearn.metrics import classification_report\n",
    "pred = tree.predict(test_x_data)\n",
    "print(classification_report(pred, test_t_data))"
   ]
  },
  {
   "cell_type": "code",
   "execution_count": null,
   "id": "282770fd",
   "metadata": {},
   "outputs": [],
   "source": []
  }
 ],
 "metadata": {
  "kernelspec": {
   "display_name": "Python [conda env:.conda-machine_TF2] *",
   "language": "python",
   "name": "conda-env-.conda-machine_TF2-py"
  },
  "language_info": {
   "codemirror_mode": {
    "name": "ipython",
    "version": 3
   },
   "file_extension": ".py",
   "mimetype": "text/x-python",
   "name": "python",
   "nbconvert_exporter": "python",
   "pygments_lexer": "ipython3",
   "version": "3.8.13"
  }
 },
 "nbformat": 4,
 "nbformat_minor": 5
}
