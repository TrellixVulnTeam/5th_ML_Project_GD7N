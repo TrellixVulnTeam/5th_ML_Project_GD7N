{
 "cells": [
  {
   "cell_type": "code",
   "execution_count": 1,
   "id": "afdacd61",
   "metadata": {},
   "outputs": [],
   "source": [
    "import numpy as np\n",
    "import pandas as pd\n",
    "\n",
    "df1 = pd.read_csv('/jupyter_home/data/S-DoT_NATURE_2021.12.27-01.02.csv')\n",
    "df2 = pd.read_csv('/jupyter_home/data/S-DoT_NATURE_2022.03.14-03.20.csv')\n",
    "df3 = pd.read_csv('/jupyter_home/data/S-DoT_NATURE_2022.04.18-04.24.csv')\n"
   ]
  },
  {
   "cell_type": "code",
   "execution_count": 2,
   "id": "fbcfa9ad",
   "metadata": {},
   "outputs": [
    {
     "name": "stdout",
     "output_type": "stream",
     "text": [
      "<class 'pandas.core.frame.DataFrame'>\n",
      "Int64Index: 509394 entries, 0 to 168930\n",
      "Data columns (total 26 columns):\n",
      " #   Column         Non-Null Count   Dtype  \n",
      "---  ------         --------------   -----  \n",
      " 0   기관 명           509394 non-null  object \n",
      " 1   모델명            509394 non-null  object \n",
      " 2   시리얼            509394 non-null  object \n",
      " 3   구분             509394 non-null  int64  \n",
      " 4   초미세먼지(㎍/㎥)     509394 non-null  int64  \n",
      " 5   미세먼지(㎍/㎥)      509394 non-null  int64  \n",
      " 6   기온(℃)          508987 non-null  float64\n",
      " 7   상대습도( %)       508987 non-null  float64\n",
      " 8   풍향(°)          27298 non-null   float64\n",
      " 9   풍속(m/s)        27298 non-null   float64\n",
      " 10  돌풍 풍향(°)       27298 non-null   float64\n",
      " 11  돌풍 풍속(m/s)     27298 non-null   float64\n",
      " 12  조도(lux)        418707 non-null  float64\n",
      " 13  자외선(UVI)       418564 non-null  float64\n",
      " 14  소음(dB)         506902 non-null  float64\n",
      " 15  진동_x(g)        416988 non-null  float64\n",
      " 16  진동_y(g)        416988 non-null  float64\n",
      " 17  진동_z(g)        416988 non-null  float64\n",
      " 18  진동_x 최대(g)     416988 non-null  float64\n",
      " 19  진동_y 최대(g)     416988 non-null  float64\n",
      " 20  진동_z 최대(g)     416988 non-null  float64\n",
      " 21  흑구 운도(℃)       17661 non-null   float64\n",
      " 22  초미세먼지 보정(㎍/㎥)  509394 non-null  int64  \n",
      " 23  미세먼지 보정(㎍/㎥)   509394 non-null  int64  \n",
      " 24  전송시간           509394 non-null  float64\n",
      " 25  등록일자           509394 non-null  object \n",
      "dtypes: float64(17), int64(5), object(4)\n",
      "memory usage: 104.9+ MB\n"
     ]
    }
   ],
   "source": [
    "nature = pd.concat([df1,df2,df3])\n",
    "# display(nature)\n",
    "nature.info()\n",
    "nature.reset_index(drop=False,inplace=True)\n",
    "# display(nature)"
   ]
  },
  {
   "cell_type": "code",
   "execution_count": 3,
   "id": "d2c02d78",
   "metadata": {},
   "outputs": [
    {
     "data": {
      "text/html": [
       "<div>\n",
       "<style scoped>\n",
       "    .dataframe tbody tr th:only-of-type {\n",
       "        vertical-align: middle;\n",
       "    }\n",
       "\n",
       "    .dataframe tbody tr th {\n",
       "        vertical-align: top;\n",
       "    }\n",
       "\n",
       "    .dataframe thead th {\n",
       "        text-align: right;\n",
       "    }\n",
       "</style>\n",
       "<table border=\"1\" class=\"dataframe\">\n",
       "  <thead>\n",
       "    <tr style=\"text-align: right;\">\n",
       "      <th></th>\n",
       "      <th>co2</th>\n",
       "    </tr>\n",
       "  </thead>\n",
       "  <tbody>\n",
       "    <tr>\n",
       "      <th>0</th>\n",
       "      <td>6589</td>\n",
       "    </tr>\n",
       "    <tr>\n",
       "      <th>1</th>\n",
       "      <td>1920</td>\n",
       "    </tr>\n",
       "    <tr>\n",
       "      <th>2</th>\n",
       "      <td>1536</td>\n",
       "    </tr>\n",
       "    <tr>\n",
       "      <th>3</th>\n",
       "      <td>5109</td>\n",
       "    </tr>\n",
       "    <tr>\n",
       "      <th>4</th>\n",
       "      <td>184</td>\n",
       "    </tr>\n",
       "    <tr>\n",
       "      <th>...</th>\n",
       "      <td>...</td>\n",
       "    </tr>\n",
       "    <tr>\n",
       "      <th>509389</th>\n",
       "      <td>3987</td>\n",
       "    </tr>\n",
       "    <tr>\n",
       "      <th>509390</th>\n",
       "      <td>3109</td>\n",
       "    </tr>\n",
       "    <tr>\n",
       "      <th>509391</th>\n",
       "      <td>2622</td>\n",
       "    </tr>\n",
       "    <tr>\n",
       "      <th>509392</th>\n",
       "      <td>1311</td>\n",
       "    </tr>\n",
       "    <tr>\n",
       "      <th>509393</th>\n",
       "      <td>555</td>\n",
       "    </tr>\n",
       "  </tbody>\n",
       "</table>\n",
       "<p>509394 rows × 1 columns</p>\n",
       "</div>"
      ],
      "text/plain": [
       "         co2\n",
       "0       6589\n",
       "1       1920\n",
       "2       1536\n",
       "3       5109\n",
       "4        184\n",
       "...      ...\n",
       "509389  3987\n",
       "509390  3109\n",
       "509391  2622\n",
       "509392  1311\n",
       "509393   555\n",
       "\n",
       "[509394 rows x 1 columns]"
      ]
     },
     "metadata": {},
     "output_type": "display_data"
    }
   ],
   "source": [
    "df = pd.DataFrame(np.random.randint(150,7000,size=(509394,1)),columns=['co2'])\n",
    "display(df)"
   ]
  },
  {
   "cell_type": "code",
   "execution_count": 4,
   "id": "2f1eaa3c",
   "metadata": {},
   "outputs": [
    {
     "data": {
      "text/html": [
       "<div>\n",
       "<style scoped>\n",
       "    .dataframe tbody tr th:only-of-type {\n",
       "        vertical-align: middle;\n",
       "    }\n",
       "\n",
       "    .dataframe tbody tr th {\n",
       "        vertical-align: top;\n",
       "    }\n",
       "\n",
       "    .dataframe thead th {\n",
       "        text-align: right;\n",
       "    }\n",
       "</style>\n",
       "<table border=\"1\" class=\"dataframe\">\n",
       "  <thead>\n",
       "    <tr style=\"text-align: right;\">\n",
       "      <th></th>\n",
       "      <th>기온(℃)</th>\n",
       "      <th>상대습도( %)</th>\n",
       "      <th>co2</th>\n",
       "    </tr>\n",
       "  </thead>\n",
       "  <tbody>\n",
       "    <tr>\n",
       "      <th>0</th>\n",
       "      <td>-11.3</td>\n",
       "      <td>47.0</td>\n",
       "      <td>6589</td>\n",
       "    </tr>\n",
       "    <tr>\n",
       "      <th>1</th>\n",
       "      <td>-10.2</td>\n",
       "      <td>44.0</td>\n",
       "      <td>1920</td>\n",
       "    </tr>\n",
       "    <tr>\n",
       "      <th>2</th>\n",
       "      <td>-10.1</td>\n",
       "      <td>42.0</td>\n",
       "      <td>1536</td>\n",
       "    </tr>\n",
       "    <tr>\n",
       "      <th>3</th>\n",
       "      <td>-10.2</td>\n",
       "      <td>42.0</td>\n",
       "      <td>5109</td>\n",
       "    </tr>\n",
       "    <tr>\n",
       "      <th>4</th>\n",
       "      <td>-10.6</td>\n",
       "      <td>44.0</td>\n",
       "      <td>184</td>\n",
       "    </tr>\n",
       "    <tr>\n",
       "      <th>...</th>\n",
       "      <td>...</td>\n",
       "      <td>...</td>\n",
       "      <td>...</td>\n",
       "    </tr>\n",
       "    <tr>\n",
       "      <th>509389</th>\n",
       "      <td>17.6</td>\n",
       "      <td>84.0</td>\n",
       "      <td>3987</td>\n",
       "    </tr>\n",
       "    <tr>\n",
       "      <th>509390</th>\n",
       "      <td>17.6</td>\n",
       "      <td>86.0</td>\n",
       "      <td>3109</td>\n",
       "    </tr>\n",
       "    <tr>\n",
       "      <th>509391</th>\n",
       "      <td>17.5</td>\n",
       "      <td>85.0</td>\n",
       "      <td>2622</td>\n",
       "    </tr>\n",
       "    <tr>\n",
       "      <th>509392</th>\n",
       "      <td>17.7</td>\n",
       "      <td>81.0</td>\n",
       "      <td>1311</td>\n",
       "    </tr>\n",
       "    <tr>\n",
       "      <th>509393</th>\n",
       "      <td>17.8</td>\n",
       "      <td>84.0</td>\n",
       "      <td>555</td>\n",
       "    </tr>\n",
       "  </tbody>\n",
       "</table>\n",
       "<p>509394 rows × 3 columns</p>\n",
       "</div>"
      ],
      "text/plain": [
       "        기온(℃)  상대습도( %)   co2\n",
       "0       -11.3      47.0  6589\n",
       "1       -10.2      44.0  1920\n",
       "2       -10.1      42.0  1536\n",
       "3       -10.2      42.0  5109\n",
       "4       -10.6      44.0   184\n",
       "...       ...       ...   ...\n",
       "509389   17.6      84.0  3987\n",
       "509390   17.6      86.0  3109\n",
       "509391   17.5      85.0  2622\n",
       "509392   17.7      81.0  1311\n",
       "509393   17.8      84.0   555\n",
       "\n",
       "[509394 rows x 3 columns]"
      ]
     },
     "metadata": {},
     "output_type": "display_data"
    }
   ],
   "source": [
    "result = pd.concat([nature,df],axis=1)\n",
    "# display(result)\n",
    "new = result[['기온(℃)','상대습도( %)','co2']]\n",
    "new.dropna(axis=0)\n",
    "display(new)"
   ]
  },
  {
   "cell_type": "code",
   "execution_count": 5,
   "id": "e43271c4",
   "metadata": {},
   "outputs": [
    {
     "data": {
      "text/plain": [
       "기온(℃)       0\n",
       "상대습도( %)    0\n",
       "co2         0\n",
       "dtype: int64"
      ]
     },
     "execution_count": 5,
     "metadata": {},
     "output_type": "execute_result"
    }
   ],
   "source": [
    "# new.isnull().sum()\n",
    "# new.describe()\n",
    "new = new.dropna(axis=0)\n",
    "new.isnull().sum()"
   ]
  },
  {
   "cell_type": "code",
   "execution_count": 6,
   "id": "75748e2c",
   "metadata": {},
   "outputs": [
    {
     "data": {
      "text/html": [
       "<div>\n",
       "<style scoped>\n",
       "    .dataframe tbody tr th:only-of-type {\n",
       "        vertical-align: middle;\n",
       "    }\n",
       "\n",
       "    .dataframe tbody tr th {\n",
       "        vertical-align: top;\n",
       "    }\n",
       "\n",
       "    .dataframe thead th {\n",
       "        text-align: right;\n",
       "    }\n",
       "</style>\n",
       "<table border=\"1\" class=\"dataframe\">\n",
       "  <thead>\n",
       "    <tr style=\"text-align: right;\">\n",
       "      <th></th>\n",
       "      <th>기온(℃)</th>\n",
       "      <th>상대습도( %)</th>\n",
       "      <th>co2</th>\n",
       "    </tr>\n",
       "  </thead>\n",
       "  <tbody>\n",
       "    <tr>\n",
       "      <th>count</th>\n",
       "      <td>508987.000000</td>\n",
       "      <td>508987.000000</td>\n",
       "      <td>508987.000000</td>\n",
       "    </tr>\n",
       "    <tr>\n",
       "      <th>mean</th>\n",
       "      <td>8.189722</td>\n",
       "      <td>56.013607</td>\n",
       "      <td>3579.637828</td>\n",
       "    </tr>\n",
       "    <tr>\n",
       "      <th>std</th>\n",
       "      <td>9.018041</td>\n",
       "      <td>19.180803</td>\n",
       "      <td>1978.681564</td>\n",
       "    </tr>\n",
       "    <tr>\n",
       "      <th>min</th>\n",
       "      <td>-40.000000</td>\n",
       "      <td>6.000000</td>\n",
       "      <td>150.000000</td>\n",
       "    </tr>\n",
       "    <tr>\n",
       "      <th>25%</th>\n",
       "      <td>0.900000</td>\n",
       "      <td>42.000000</td>\n",
       "      <td>1866.000000</td>\n",
       "    </tr>\n",
       "    <tr>\n",
       "      <th>50%</th>\n",
       "      <td>8.800000</td>\n",
       "      <td>55.000000</td>\n",
       "      <td>3587.000000</td>\n",
       "    </tr>\n",
       "    <tr>\n",
       "      <th>75%</th>\n",
       "      <td>15.200000</td>\n",
       "      <td>70.000000</td>\n",
       "      <td>5295.000000</td>\n",
       "    </tr>\n",
       "    <tr>\n",
       "      <th>max</th>\n",
       "      <td>34.600000</td>\n",
       "      <td>100.000000</td>\n",
       "      <td>6999.000000</td>\n",
       "    </tr>\n",
       "  </tbody>\n",
       "</table>\n",
       "</div>"
      ],
      "text/plain": [
       "               기온(℃)       상대습도( %)            co2\n",
       "count  508987.000000  508987.000000  508987.000000\n",
       "mean        8.189722      56.013607    3579.637828\n",
       "std         9.018041      19.180803    1978.681564\n",
       "min       -40.000000       6.000000     150.000000\n",
       "25%         0.900000      42.000000    1866.000000\n",
       "50%         8.800000      55.000000    3587.000000\n",
       "75%        15.200000      70.000000    5295.000000\n",
       "max        34.600000     100.000000    6999.000000"
      ]
     },
     "execution_count": 6,
     "metadata": {},
     "output_type": "execute_result"
    }
   ],
   "source": [
    "new.describe()"
   ]
  },
  {
   "cell_type": "code",
   "execution_count": 7,
   "id": "4d7d6de6",
   "metadata": {
    "scrolled": false
   },
   "outputs": [],
   "source": [
    "# 0 : 잔다, 1 : 안잔다\n",
    "# 습도 50~60 -> 0\n",
    "# co2 : 1500이상 -> 0\n",
    "# 기온 : 20~23 -> 1\n",
    "\n",
    "# if (new['기온(℃)']<20) | (new['기온(℃)'] > 23):\n",
    "#     if (new['co2'] >= 1500):\n",
    "#         if ((new['상대습도( %)']>=50) & (new['상대습도( %)']<=60)):\n",
    "#             new['label'] = 0\n",
    "# else :\n",
    "#     new['label'] = 1\n",
    "    \n",
    "# display(new)\n",
    "\n",
    "new['label'] = np.where(((new['기온(℃)']<20) | (new['기온(℃)']>23)) & (new['co2'] >= 1500) & ((new['상대습도( %)']>=50) & (new['상대습도( %)']<=60)), 0, 1)\n"
   ]
  },
  {
   "cell_type": "code",
   "execution_count": 8,
   "id": "0ac2863b",
   "metadata": {},
   "outputs": [
    {
     "data": {
      "text/html": [
       "<div>\n",
       "<style scoped>\n",
       "    .dataframe tbody tr th:only-of-type {\n",
       "        vertical-align: middle;\n",
       "    }\n",
       "\n",
       "    .dataframe tbody tr th {\n",
       "        vertical-align: top;\n",
       "    }\n",
       "\n",
       "    .dataframe thead th {\n",
       "        text-align: right;\n",
       "    }\n",
       "</style>\n",
       "<table border=\"1\" class=\"dataframe\">\n",
       "  <thead>\n",
       "    <tr style=\"text-align: right;\">\n",
       "      <th></th>\n",
       "      <th>기온(℃)</th>\n",
       "      <th>상대습도( %)</th>\n",
       "      <th>co2</th>\n",
       "      <th>label</th>\n",
       "    </tr>\n",
       "  </thead>\n",
       "  <tbody>\n",
       "    <tr>\n",
       "      <th>0</th>\n",
       "      <td>-11.3</td>\n",
       "      <td>47.0</td>\n",
       "      <td>6589</td>\n",
       "      <td>1</td>\n",
       "    </tr>\n",
       "    <tr>\n",
       "      <th>1</th>\n",
       "      <td>-10.2</td>\n",
       "      <td>44.0</td>\n",
       "      <td>1920</td>\n",
       "      <td>1</td>\n",
       "    </tr>\n",
       "    <tr>\n",
       "      <th>2</th>\n",
       "      <td>-10.1</td>\n",
       "      <td>42.0</td>\n",
       "      <td>1536</td>\n",
       "      <td>1</td>\n",
       "    </tr>\n",
       "    <tr>\n",
       "      <th>3</th>\n",
       "      <td>-10.2</td>\n",
       "      <td>42.0</td>\n",
       "      <td>5109</td>\n",
       "      <td>1</td>\n",
       "    </tr>\n",
       "    <tr>\n",
       "      <th>4</th>\n",
       "      <td>-10.6</td>\n",
       "      <td>44.0</td>\n",
       "      <td>184</td>\n",
       "      <td>1</td>\n",
       "    </tr>\n",
       "    <tr>\n",
       "      <th>...</th>\n",
       "      <td>...</td>\n",
       "      <td>...</td>\n",
       "      <td>...</td>\n",
       "      <td>...</td>\n",
       "    </tr>\n",
       "    <tr>\n",
       "      <th>509389</th>\n",
       "      <td>17.6</td>\n",
       "      <td>84.0</td>\n",
       "      <td>3987</td>\n",
       "      <td>1</td>\n",
       "    </tr>\n",
       "    <tr>\n",
       "      <th>509390</th>\n",
       "      <td>17.6</td>\n",
       "      <td>86.0</td>\n",
       "      <td>3109</td>\n",
       "      <td>1</td>\n",
       "    </tr>\n",
       "    <tr>\n",
       "      <th>509391</th>\n",
       "      <td>17.5</td>\n",
       "      <td>85.0</td>\n",
       "      <td>2622</td>\n",
       "      <td>1</td>\n",
       "    </tr>\n",
       "    <tr>\n",
       "      <th>509392</th>\n",
       "      <td>17.7</td>\n",
       "      <td>81.0</td>\n",
       "      <td>1311</td>\n",
       "      <td>1</td>\n",
       "    </tr>\n",
       "    <tr>\n",
       "      <th>509393</th>\n",
       "      <td>17.8</td>\n",
       "      <td>84.0</td>\n",
       "      <td>555</td>\n",
       "      <td>1</td>\n",
       "    </tr>\n",
       "  </tbody>\n",
       "</table>\n",
       "<p>508987 rows × 4 columns</p>\n",
       "</div>"
      ],
      "text/plain": [
       "        기온(℃)  상대습도( %)   co2  label\n",
       "0       -11.3      47.0  6589      1\n",
       "1       -10.2      44.0  1920      1\n",
       "2       -10.1      42.0  1536      1\n",
       "3       -10.2      42.0  5109      1\n",
       "4       -10.6      44.0   184      1\n",
       "...       ...       ...   ...    ...\n",
       "509389   17.6      84.0  3987      1\n",
       "509390   17.6      86.0  3109      1\n",
       "509391   17.5      85.0  2622      1\n",
       "509392   17.7      81.0  1311      1\n",
       "509393   17.8      84.0   555      1\n",
       "\n",
       "[508987 rows x 4 columns]"
      ]
     },
     "metadata": {},
     "output_type": "display_data"
    }
   ],
   "source": [
    "display(new)\n",
    "new.to_csv('nature_data.csv')"
   ]
  },
  {
   "cell_type": "code",
   "execution_count": 9,
   "id": "c57403d2",
   "metadata": {},
   "outputs": [
    {
     "data": {
      "text/plain": [
       "1    423302\n",
       "0     85685\n",
       "Name: label, dtype: int64"
      ]
     },
     "execution_count": 9,
     "metadata": {},
     "output_type": "execute_result"
    }
   ],
   "source": [
    "import matplotlib.pyplot as plt\n",
    "\n",
    "new['label'].value_counts()"
   ]
  },
  {
   "cell_type": "code",
   "execution_count": null,
   "id": "7a2c29bb",
   "metadata": {},
   "outputs": [],
   "source": [
    "# zscore_threshold = 2.0\n",
    "\n",
    "# for col in ['기온(℃)','상대습도( %)','co2']:\n",
    "#     outlier = new[col][np.abs(stats.zscore(new[col])) > zscore_threshold]\n",
    "#     new = new.loc[~new[col].isin(outlier)]"
   ]
  },
  {
   "cell_type": "code",
   "execution_count": 10,
   "id": "16ce91f5",
   "metadata": {},
   "outputs": [],
   "source": [
    "new = new.drop(new.loc[new['기온(℃)'] < -20].index)"
   ]
  },
  {
   "cell_type": "code",
   "execution_count": 11,
   "id": "1fdf7525",
   "metadata": {},
   "outputs": [
    {
     "data": {
      "text/html": [
       "<div>\n",
       "<style scoped>\n",
       "    .dataframe tbody tr th:only-of-type {\n",
       "        vertical-align: middle;\n",
       "    }\n",
       "\n",
       "    .dataframe tbody tr th {\n",
       "        vertical-align: top;\n",
       "    }\n",
       "\n",
       "    .dataframe thead th {\n",
       "        text-align: right;\n",
       "    }\n",
       "</style>\n",
       "<table border=\"1\" class=\"dataframe\">\n",
       "  <thead>\n",
       "    <tr style=\"text-align: right;\">\n",
       "      <th></th>\n",
       "      <th>기온(℃)</th>\n",
       "      <th>상대습도( %)</th>\n",
       "      <th>co2</th>\n",
       "      <th>label</th>\n",
       "    </tr>\n",
       "  </thead>\n",
       "  <tbody>\n",
       "    <tr>\n",
       "      <th>count</th>\n",
       "      <td>507992.000000</td>\n",
       "      <td>507992.000000</td>\n",
       "      <td>507992.000000</td>\n",
       "      <td>507992.000000</td>\n",
       "    </tr>\n",
       "    <tr>\n",
       "      <th>mean</th>\n",
       "      <td>8.282168</td>\n",
       "      <td>55.996262</td>\n",
       "      <td>3579.630658</td>\n",
       "      <td>0.831529</td>\n",
       "    </tr>\n",
       "    <tr>\n",
       "      <th>std</th>\n",
       "      <td>8.779559</td>\n",
       "      <td>19.168782</td>\n",
       "      <td>1978.644076</td>\n",
       "      <td>0.374285</td>\n",
       "    </tr>\n",
       "    <tr>\n",
       "      <th>min</th>\n",
       "      <td>-19.900000</td>\n",
       "      <td>6.000000</td>\n",
       "      <td>150.000000</td>\n",
       "      <td>0.000000</td>\n",
       "    </tr>\n",
       "    <tr>\n",
       "      <th>25%</th>\n",
       "      <td>0.900000</td>\n",
       "      <td>42.000000</td>\n",
       "      <td>1866.000000</td>\n",
       "      <td>1.000000</td>\n",
       "    </tr>\n",
       "    <tr>\n",
       "      <th>50%</th>\n",
       "      <td>8.800000</td>\n",
       "      <td>55.000000</td>\n",
       "      <td>3587.000000</td>\n",
       "      <td>1.000000</td>\n",
       "    </tr>\n",
       "    <tr>\n",
       "      <th>75%</th>\n",
       "      <td>15.200000</td>\n",
       "      <td>70.000000</td>\n",
       "      <td>5295.000000</td>\n",
       "      <td>1.000000</td>\n",
       "    </tr>\n",
       "    <tr>\n",
       "      <th>max</th>\n",
       "      <td>34.600000</td>\n",
       "      <td>100.000000</td>\n",
       "      <td>6999.000000</td>\n",
       "      <td>1.000000</td>\n",
       "    </tr>\n",
       "  </tbody>\n",
       "</table>\n",
       "</div>"
      ],
      "text/plain": [
       "               기온(℃)       상대습도( %)            co2          label\n",
       "count  507992.000000  507992.000000  507992.000000  507992.000000\n",
       "mean        8.282168      55.996262    3579.630658       0.831529\n",
       "std         8.779559      19.168782    1978.644076       0.374285\n",
       "min       -19.900000       6.000000     150.000000       0.000000\n",
       "25%         0.900000      42.000000    1866.000000       1.000000\n",
       "50%         8.800000      55.000000    3587.000000       1.000000\n",
       "75%        15.200000      70.000000    5295.000000       1.000000\n",
       "max        34.600000     100.000000    6999.000000       1.000000"
      ]
     },
     "execution_count": 11,
     "metadata": {},
     "output_type": "execute_result"
    }
   ],
   "source": [
    "new.describe()"
   ]
  },
  {
   "cell_type": "code",
   "execution_count": 12,
   "id": "286a82ce",
   "metadata": {},
   "outputs": [],
   "source": [
    "x_data = new[['기온(℃)','상대습도( %)','co2']]\n",
    "t_data = new['label']"
   ]
  },
  {
   "cell_type": "code",
   "execution_count": 13,
   "id": "ef1ba13b",
   "metadata": {},
   "outputs": [
    {
     "data": {
      "text/plain": [
       "<BarContainer object of 2 artists>"
      ]
     },
     "execution_count": 13,
     "metadata": {},
     "output_type": "execute_result"
    },
    {
     "data": {
      "image/png": "[encoded data removed]",
      "text/plain": [
       "<Figure size 432x288 with 1 Axes>"
      ]
     },
     "metadata": {
      "needs_background": "light"
     },
     "output_type": "display_data"
    }
   ],
   "source": [
    "from imblearn.over_sampling import RandomOverSampler\n",
    "\n",
    "ros = RandomOverSampler(random_state=42)\n",
    "\n",
    "x_data,t_data = ros.fit_resample(x_data,t_data)\n",
    "\n",
    "# plt.bar(x_data, t_data)\n",
    "plt.bar(['0','1'],t_data.value_counts())"
   ]
  },
  {
   "cell_type": "code",
   "execution_count": 14,
   "id": "8cf5433f",
   "metadata": {},
   "outputs": [
    {
     "name": "stdout",
     "output_type": "stream",
     "text": [
      "[[0.15779817 0.43617021 0.94013725]\n",
      " [0.17798165 0.40425532 0.25843189]\n",
      " [0.17981651 0.38297872 0.20236531]\n",
      " ...\n",
      " [0.31192661 0.57446809 0.45904512]\n",
      " [0.60183486 0.5        0.73893999]\n",
      " [0.57614679 0.56382979 0.57220032]]\n"
     ]
    }
   ],
   "source": [
    "from sklearn.preprocessing import MinMaxScaler\n",
    "\n",
    "scaler = MinMaxScaler()\n",
    "scaler.fit(x_data)\n",
    "\n",
    "norm_x_data = scaler.transform(x_data)\n",
    "print(norm_x_data)"
   ]
  },
  {
   "cell_type": "code",
   "execution_count": 31,
   "id": "cd8ff982",
   "metadata": {},
   "outputs": [
    {
     "name": "stdout",
     "output_type": "stream",
     "text": [
      "(675856, 3) (675856,)\n"
     ]
    }
   ],
   "source": [
    "from sklearn.model_selection import train_test_split\n",
    "\n",
    "train_x_data, test_x_data, train_t_data, test_t_data = \\\n",
    "train_test_split(x_data,\n",
    "                 t_data,\n",
    "                 test_size = 0.2,\n",
    "                 random_state=2,\n",
    "                 stratify=t_data)\n",
    "print(train_x_data.shape, train_t_data.shape) "
   ]
  },
  {
   "cell_type": "code",
   "execution_count": 32,
   "id": "d1371f3d",
   "metadata": {},
   "outputs": [
    {
     "name": "stdout",
     "output_type": "stream",
     "text": [
      "0.5734180062025047\n"
     ]
    }
   ],
   "source": [
    "from sklearn import linear_model\n",
    "\n",
    "model = linear_model.LogisticRegression()\n",
    "\n",
    "model.fit(train_x_data, train_t_data)\n",
    "test_score = model.score(test_x_data, test_t_data)\n",
    "print(test_score) # accuracy\n",
    "\n",
    "# my_score = np.array([[25,60,4000]])\n",
    "# predict_val = model.predict(my_score)    # 0 or 1로 결과 도출\n",
    "# predict_proba = model.predict_proba(my_score) # 확률값으로 결과를 도출\n",
    "\n",
    "# print('sklearn의 결과 : 합격여부 : {}, 확률 : {}'.format(predict_val, \n",
    "#                                                         predict_proba))"
   ]
  },
  {
   "cell_type": "code",
   "execution_count": null,
   "id": "19c37f9c",
   "metadata": {},
   "outputs": [],
   "source": []
  }
 ],
 "metadata": {
  "kernelspec": {
   "display_name": "Python [conda env:.conda-machine_TF2] *",
   "language": "python",
   "name": "conda-env-.conda-machine_TF2-py"
  },
  "language_info": {
   "codemirror_mode": {
    "name": "ipython",
    "version": 3
   },
   "file_extension": ".py",
   "mimetype": "text/x-python",
   "name": "python",
   "nbconvert_exporter": "python",
   "pygments_lexer": "ipython3",
   "version": "3.8.13"
  }
 },
 "nbformat": 4,
 "nbformat_minor": 5
}
