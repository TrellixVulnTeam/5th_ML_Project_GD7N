{
 "cells": [
  {
   "cell_type": "code",
   "execution_count": 1,
   "id": "a975c885",
   "metadata": {},
   "outputs": [
    {
     "name": "stdout",
     "output_type": "stream",
     "text": [
      "Once deleted, variables cannot be recovered. Proceed (y/[n])? y\n"
     ]
    }
   ],
   "source": [
    "%reset"
   ]
  },
  {
   "cell_type": "code",
   "execution_count": 11,
   "id": "a2ae67b0",
   "metadata": {},
   "outputs": [
    {
     "name": "stdout",
     "output_type": "stream",
     "text": [
      "c:\\jupyter_home\\Machine_Learning\\ML_Project_5th\\5th_ML_Project\\Code\n"
     ]
    }
   ],
   "source": [
    "import os\n",
    "print(os.getcwd())"
   ]
  },
  {
   "cell_type": "code",
   "execution_count": 12,
   "id": "505d5c4c",
   "metadata": {},
   "outputs": [],
   "source": [
    "import warnings\n",
    "warnings.filterwarnings(action='ignore')"
   ]
  },
  {
   "cell_type": "code",
   "execution_count": 13,
   "id": "e126cd43",
   "metadata": {},
   "outputs": [],
   "source": [
    "import pandas as pd\n",
    "import numpy as np"
   ]
  },
  {
   "cell_type": "code",
   "execution_count": 4,
   "id": "2244ae7f",
   "metadata": {},
   "outputs": [],
   "source": [
    "nature1 = pd.read_csv('../Data/NATURE/NATURE1.csv', encoding='utf-8')\n",
    "nature2 = pd.read_csv('../Data/NATURE/NATURE2.csv', encoding='utf-8')\n",
    "nature3 = pd.read_csv('../Data/NATURE/NATURE3.csv', encoding='utf-8')"
   ]
  },
  {
   "cell_type": "code",
   "execution_count": 5,
   "id": "aa8302ef",
   "metadata": {},
   "outputs": [
    {
     "data": {
      "text/html": [
       "<div>\n",
       "<style scoped>\n",
       "    .dataframe tbody tr th:only-of-type {\n",
       "        vertical-align: middle;\n",
       "    }\n",
       "\n",
       "    .dataframe tbody tr th {\n",
       "        vertical-align: top;\n",
       "    }\n",
       "\n",
       "    .dataframe thead th {\n",
       "        text-align: right;\n",
       "    }\n",
       "</style>\n",
       "<table border=\"1\" class=\"dataframe\">\n",
       "  <thead>\n",
       "    <tr style=\"text-align: right;\">\n",
       "      <th></th>\n",
       "      <th>기관 명</th>\n",
       "      <th>모델명</th>\n",
       "      <th>시리얼</th>\n",
       "      <th>구분</th>\n",
       "      <th>초미세먼지(㎍/㎥)</th>\n",
       "      <th>미세먼지(㎍/㎥)</th>\n",
       "      <th>기온(℃)</th>\n",
       "      <th>상대습도( %)</th>\n",
       "      <th>풍향(°)</th>\n",
       "      <th>풍속(m/s)</th>\n",
       "      <th>...</th>\n",
       "      <th>진동_y(g)</th>\n",
       "      <th>진동_z(g)</th>\n",
       "      <th>진동_x 최대(g)</th>\n",
       "      <th>진동_y 최대(g)</th>\n",
       "      <th>진동_z 최대(g)</th>\n",
       "      <th>흑구 운도(℃)</th>\n",
       "      <th>초미세먼지 보정(㎍/㎥)</th>\n",
       "      <th>미세먼지 보정(㎍/㎥)</th>\n",
       "      <th>전송시간</th>\n",
       "      <th>등록일자</th>\n",
       "    </tr>\n",
       "  </thead>\n",
       "  <tbody>\n",
       "    <tr>\n",
       "      <th>0</th>\n",
       "      <td>서울시</td>\n",
       "      <td>SDOT001</td>\n",
       "      <td>OC3CL200025</td>\n",
       "      <td>1</td>\n",
       "      <td>7</td>\n",
       "      <td>10</td>\n",
       "      <td>-11.3</td>\n",
       "      <td>47</td>\n",
       "      <td>NaN</td>\n",
       "      <td>NaN</td>\n",
       "      <td>...</td>\n",
       "      <td>NaN</td>\n",
       "      <td>NaN</td>\n",
       "      <td>NaN</td>\n",
       "      <td>NaN</td>\n",
       "      <td>NaN</td>\n",
       "      <td>NaN</td>\n",
       "      <td>8</td>\n",
       "      <td>14</td>\n",
       "      <td>2.021120e+11</td>\n",
       "      <td>2021-12-27 0:07</td>\n",
       "    </tr>\n",
       "    <tr>\n",
       "      <th>1</th>\n",
       "      <td>서울시</td>\n",
       "      <td>SDOT001</td>\n",
       "      <td>OC3CL200014</td>\n",
       "      <td>1</td>\n",
       "      <td>5</td>\n",
       "      <td>8</td>\n",
       "      <td>-10.2</td>\n",
       "      <td>44</td>\n",
       "      <td>NaN</td>\n",
       "      <td>NaN</td>\n",
       "      <td>...</td>\n",
       "      <td>NaN</td>\n",
       "      <td>NaN</td>\n",
       "      <td>NaN</td>\n",
       "      <td>NaN</td>\n",
       "      <td>NaN</td>\n",
       "      <td>-11.1</td>\n",
       "      <td>7</td>\n",
       "      <td>12</td>\n",
       "      <td>2.021120e+11</td>\n",
       "      <td>2021-12-27 0:07</td>\n",
       "    </tr>\n",
       "    <tr>\n",
       "      <th>2</th>\n",
       "      <td>서울시</td>\n",
       "      <td>SDOT001</td>\n",
       "      <td>OC3CL200023</td>\n",
       "      <td>1</td>\n",
       "      <td>7</td>\n",
       "      <td>10</td>\n",
       "      <td>-10.1</td>\n",
       "      <td>42</td>\n",
       "      <td>NaN</td>\n",
       "      <td>NaN</td>\n",
       "      <td>...</td>\n",
       "      <td>NaN</td>\n",
       "      <td>NaN</td>\n",
       "      <td>NaN</td>\n",
       "      <td>NaN</td>\n",
       "      <td>NaN</td>\n",
       "      <td>NaN</td>\n",
       "      <td>8</td>\n",
       "      <td>12</td>\n",
       "      <td>2.021120e+11</td>\n",
       "      <td>2021-12-27 0:07</td>\n",
       "    </tr>\n",
       "    <tr>\n",
       "      <th>3</th>\n",
       "      <td>서울시</td>\n",
       "      <td>SDOT001</td>\n",
       "      <td>OC3CL200017</td>\n",
       "      <td>1</td>\n",
       "      <td>11</td>\n",
       "      <td>16</td>\n",
       "      <td>-10.2</td>\n",
       "      <td>42</td>\n",
       "      <td>NaN</td>\n",
       "      <td>NaN</td>\n",
       "      <td>...</td>\n",
       "      <td>NaN</td>\n",
       "      <td>NaN</td>\n",
       "      <td>NaN</td>\n",
       "      <td>NaN</td>\n",
       "      <td>NaN</td>\n",
       "      <td>-11.5</td>\n",
       "      <td>16</td>\n",
       "      <td>23</td>\n",
       "      <td>2.021120e+11</td>\n",
       "      <td>2021-12-27 0:07</td>\n",
       "    </tr>\n",
       "    <tr>\n",
       "      <th>4</th>\n",
       "      <td>서울시</td>\n",
       "      <td>SDOT001</td>\n",
       "      <td>OC3CL200021</td>\n",
       "      <td>1</td>\n",
       "      <td>8</td>\n",
       "      <td>13</td>\n",
       "      <td>-10.6</td>\n",
       "      <td>44</td>\n",
       "      <td>NaN</td>\n",
       "      <td>NaN</td>\n",
       "      <td>...</td>\n",
       "      <td>NaN</td>\n",
       "      <td>NaN</td>\n",
       "      <td>NaN</td>\n",
       "      <td>NaN</td>\n",
       "      <td>NaN</td>\n",
       "      <td>NaN</td>\n",
       "      <td>8</td>\n",
       "      <td>15</td>\n",
       "      <td>2.021120e+11</td>\n",
       "      <td>2021-12-27 0:07</td>\n",
       "    </tr>\n",
       "  </tbody>\n",
       "</table>\n",
       "<p>5 rows × 26 columns</p>\n",
       "</div>"
      ],
      "text/plain": [
       "  기관 명      모델명          시리얼  구분  초미세먼지(㎍/㎥)  미세먼지(㎍/㎥)  기온(℃)  상대습도( %)  \\\n",
       "0  서울시  SDOT001  OC3CL200025   1           7         10  -11.3        47   \n",
       "1  서울시  SDOT001  OC3CL200014   1           5          8  -10.2        44   \n",
       "2  서울시  SDOT001  OC3CL200023   1           7         10  -10.1        42   \n",
       "3  서울시  SDOT001  OC3CL200017   1          11         16  -10.2        42   \n",
       "4  서울시  SDOT001  OC3CL200021   1           8         13  -10.6        44   \n",
       "\n",
       "   풍향(°)  풍속(m/s)  ...  진동_y(g)  진동_z(g)  진동_x 최대(g)  진동_y 최대(g)  진동_z 최대(g)  \\\n",
       "0    NaN      NaN  ...      NaN      NaN         NaN         NaN         NaN   \n",
       "1    NaN      NaN  ...      NaN      NaN         NaN         NaN         NaN   \n",
       "2    NaN      NaN  ...      NaN      NaN         NaN         NaN         NaN   \n",
       "3    NaN      NaN  ...      NaN      NaN         NaN         NaN         NaN   \n",
       "4    NaN      NaN  ...      NaN      NaN         NaN         NaN         NaN   \n",
       "\n",
       "   흑구 운도(℃)  초미세먼지 보정(㎍/㎥)  미세먼지 보정(㎍/㎥)          전송시간             등록일자  \n",
       "0       NaN              8            14  2.021120e+11  2021-12-27 0:07  \n",
       "1     -11.1              7            12  2.021120e+11  2021-12-27 0:07  \n",
       "2       NaN              8            12  2.021120e+11  2021-12-27 0:07  \n",
       "3     -11.5             16            23  2.021120e+11  2021-12-27 0:07  \n",
       "4       NaN              8            15  2.021120e+11  2021-12-27 0:07  \n",
       "\n",
       "[5 rows x 26 columns]"
      ]
     },
     "metadata": {},
     "output_type": "display_data"
    }
   ],
   "source": [
    "display(nature1.head())"
   ]
  },
  {
   "cell_type": "code",
   "execution_count": 6,
   "id": "c5e4fa78",
   "metadata": {},
   "outputs": [
    {
     "name": "stdout",
     "output_type": "stream",
     "text": [
      "(168509, 26)\n",
      "(171954, 26)\n",
      "(168931, 26)\n"
     ]
    }
   ],
   "source": [
    "print(nature1.shape)\n",
    "print(nature2.shape)\n",
    "print(nature3.shape)"
   ]
  },
  {
   "cell_type": "code",
   "execution_count": 7,
   "id": "586deedc",
   "metadata": {
    "scrolled": false
   },
   "outputs": [
    {
     "data": {
      "text/html": [
       "<div>\n",
       "<style scoped>\n",
       "    .dataframe tbody tr th:only-of-type {\n",
       "        vertical-align: middle;\n",
       "    }\n",
       "\n",
       "    .dataframe tbody tr th {\n",
       "        vertical-align: top;\n",
       "    }\n",
       "\n",
       "    .dataframe thead th {\n",
       "        text-align: right;\n",
       "    }\n",
       "</style>\n",
       "<table border=\"1\" class=\"dataframe\">\n",
       "  <thead>\n",
       "    <tr style=\"text-align: right;\">\n",
       "      <th></th>\n",
       "      <th>기관 명</th>\n",
       "      <th>모델명</th>\n",
       "      <th>시리얼</th>\n",
       "      <th>구분</th>\n",
       "      <th>초미세먼지(㎍/㎥)</th>\n",
       "      <th>미세먼지(㎍/㎥)</th>\n",
       "      <th>기온(℃)</th>\n",
       "      <th>상대습도( %)</th>\n",
       "      <th>풍향(°)</th>\n",
       "      <th>풍속(m/s)</th>\n",
       "      <th>...</th>\n",
       "      <th>진동_y(g)</th>\n",
       "      <th>진동_z(g)</th>\n",
       "      <th>진동_x 최대(g)</th>\n",
       "      <th>진동_y 최대(g)</th>\n",
       "      <th>진동_z 최대(g)</th>\n",
       "      <th>흑구 운도(℃)</th>\n",
       "      <th>초미세먼지 보정(㎍/㎥)</th>\n",
       "      <th>미세먼지 보정(㎍/㎥)</th>\n",
       "      <th>전송시간</th>\n",
       "      <th>등록일자</th>\n",
       "    </tr>\n",
       "  </thead>\n",
       "  <tbody>\n",
       "    <tr>\n",
       "      <th>0</th>\n",
       "      <td>서울시</td>\n",
       "      <td>SDOT001</td>\n",
       "      <td>OC3CL200025</td>\n",
       "      <td>1</td>\n",
       "      <td>7</td>\n",
       "      <td>10</td>\n",
       "      <td>-11.3</td>\n",
       "      <td>47.0</td>\n",
       "      <td>NaN</td>\n",
       "      <td>NaN</td>\n",
       "      <td>...</td>\n",
       "      <td>NaN</td>\n",
       "      <td>NaN</td>\n",
       "      <td>NaN</td>\n",
       "      <td>NaN</td>\n",
       "      <td>NaN</td>\n",
       "      <td>NaN</td>\n",
       "      <td>8</td>\n",
       "      <td>14</td>\n",
       "      <td>2.021120e+11</td>\n",
       "      <td>2021-12-27 0:07</td>\n",
       "    </tr>\n",
       "    <tr>\n",
       "      <th>1</th>\n",
       "      <td>서울시</td>\n",
       "      <td>SDOT001</td>\n",
       "      <td>OC3CL200014</td>\n",
       "      <td>1</td>\n",
       "      <td>5</td>\n",
       "      <td>8</td>\n",
       "      <td>-10.2</td>\n",
       "      <td>44.0</td>\n",
       "      <td>NaN</td>\n",
       "      <td>NaN</td>\n",
       "      <td>...</td>\n",
       "      <td>NaN</td>\n",
       "      <td>NaN</td>\n",
       "      <td>NaN</td>\n",
       "      <td>NaN</td>\n",
       "      <td>NaN</td>\n",
       "      <td>-11.1</td>\n",
       "      <td>7</td>\n",
       "      <td>12</td>\n",
       "      <td>2.021120e+11</td>\n",
       "      <td>2021-12-27 0:07</td>\n",
       "    </tr>\n",
       "    <tr>\n",
       "      <th>2</th>\n",
       "      <td>서울시</td>\n",
       "      <td>SDOT001</td>\n",
       "      <td>OC3CL200023</td>\n",
       "      <td>1</td>\n",
       "      <td>7</td>\n",
       "      <td>10</td>\n",
       "      <td>-10.1</td>\n",
       "      <td>42.0</td>\n",
       "      <td>NaN</td>\n",
       "      <td>NaN</td>\n",
       "      <td>...</td>\n",
       "      <td>NaN</td>\n",
       "      <td>NaN</td>\n",
       "      <td>NaN</td>\n",
       "      <td>NaN</td>\n",
       "      <td>NaN</td>\n",
       "      <td>NaN</td>\n",
       "      <td>8</td>\n",
       "      <td>12</td>\n",
       "      <td>2.021120e+11</td>\n",
       "      <td>2021-12-27 0:07</td>\n",
       "    </tr>\n",
       "    <tr>\n",
       "      <th>3</th>\n",
       "      <td>서울시</td>\n",
       "      <td>SDOT001</td>\n",
       "      <td>OC3CL200017</td>\n",
       "      <td>1</td>\n",
       "      <td>11</td>\n",
       "      <td>16</td>\n",
       "      <td>-10.2</td>\n",
       "      <td>42.0</td>\n",
       "      <td>NaN</td>\n",
       "      <td>NaN</td>\n",
       "      <td>...</td>\n",
       "      <td>NaN</td>\n",
       "      <td>NaN</td>\n",
       "      <td>NaN</td>\n",
       "      <td>NaN</td>\n",
       "      <td>NaN</td>\n",
       "      <td>-11.5</td>\n",
       "      <td>16</td>\n",
       "      <td>23</td>\n",
       "      <td>2.021120e+11</td>\n",
       "      <td>2021-12-27 0:07</td>\n",
       "    </tr>\n",
       "    <tr>\n",
       "      <th>4</th>\n",
       "      <td>서울시</td>\n",
       "      <td>SDOT001</td>\n",
       "      <td>OC3CL200021</td>\n",
       "      <td>1</td>\n",
       "      <td>8</td>\n",
       "      <td>13</td>\n",
       "      <td>-10.6</td>\n",
       "      <td>44.0</td>\n",
       "      <td>NaN</td>\n",
       "      <td>NaN</td>\n",
       "      <td>...</td>\n",
       "      <td>NaN</td>\n",
       "      <td>NaN</td>\n",
       "      <td>NaN</td>\n",
       "      <td>NaN</td>\n",
       "      <td>NaN</td>\n",
       "      <td>NaN</td>\n",
       "      <td>8</td>\n",
       "      <td>15</td>\n",
       "      <td>2.021120e+11</td>\n",
       "      <td>2021-12-27 0:07</td>\n",
       "    </tr>\n",
       "    <tr>\n",
       "      <th>...</th>\n",
       "      <td>...</td>\n",
       "      <td>...</td>\n",
       "      <td>...</td>\n",
       "      <td>...</td>\n",
       "      <td>...</td>\n",
       "      <td>...</td>\n",
       "      <td>...</td>\n",
       "      <td>...</td>\n",
       "      <td>...</td>\n",
       "      <td>...</td>\n",
       "      <td>...</td>\n",
       "      <td>...</td>\n",
       "      <td>...</td>\n",
       "      <td>...</td>\n",
       "      <td>...</td>\n",
       "      <td>...</td>\n",
       "      <td>...</td>\n",
       "      <td>...</td>\n",
       "      <td>...</td>\n",
       "      <td>...</td>\n",
       "      <td>...</td>\n",
       "    </tr>\n",
       "    <tr>\n",
       "      <th>168926</th>\n",
       "      <td>서울시</td>\n",
       "      <td>SDOT001</td>\n",
       "      <td>V02Q1941015</td>\n",
       "      <td>1</td>\n",
       "      <td>35</td>\n",
       "      <td>35</td>\n",
       "      <td>17.6</td>\n",
       "      <td>84.0</td>\n",
       "      <td>NaN</td>\n",
       "      <td>NaN</td>\n",
       "      <td>...</td>\n",
       "      <td>NaN</td>\n",
       "      <td>NaN</td>\n",
       "      <td>NaN</td>\n",
       "      <td>NaN</td>\n",
       "      <td>NaN</td>\n",
       "      <td>NaN</td>\n",
       "      <td>23</td>\n",
       "      <td>30</td>\n",
       "      <td>2.022040e+11</td>\n",
       "      <td>2022-04-24 23:08</td>\n",
       "    </tr>\n",
       "    <tr>\n",
       "      <th>168927</th>\n",
       "      <td>서울시</td>\n",
       "      <td>SDOT001</td>\n",
       "      <td>V02Q1941000</td>\n",
       "      <td>1</td>\n",
       "      <td>12</td>\n",
       "      <td>12</td>\n",
       "      <td>17.6</td>\n",
       "      <td>86.0</td>\n",
       "      <td>NaN</td>\n",
       "      <td>NaN</td>\n",
       "      <td>...</td>\n",
       "      <td>NaN</td>\n",
       "      <td>NaN</td>\n",
       "      <td>NaN</td>\n",
       "      <td>NaN</td>\n",
       "      <td>NaN</td>\n",
       "      <td>NaN</td>\n",
       "      <td>16</td>\n",
       "      <td>16</td>\n",
       "      <td>2.022040e+11</td>\n",
       "      <td>2022-04-24 23:08</td>\n",
       "    </tr>\n",
       "    <tr>\n",
       "      <th>168928</th>\n",
       "      <td>서울시</td>\n",
       "      <td>SDOT001</td>\n",
       "      <td>V02Q1941006</td>\n",
       "      <td>1</td>\n",
       "      <td>2</td>\n",
       "      <td>3</td>\n",
       "      <td>17.5</td>\n",
       "      <td>85.0</td>\n",
       "      <td>NaN</td>\n",
       "      <td>NaN</td>\n",
       "      <td>...</td>\n",
       "      <td>NaN</td>\n",
       "      <td>NaN</td>\n",
       "      <td>NaN</td>\n",
       "      <td>NaN</td>\n",
       "      <td>NaN</td>\n",
       "      <td>NaN</td>\n",
       "      <td>3</td>\n",
       "      <td>5</td>\n",
       "      <td>2.022040e+11</td>\n",
       "      <td>2022-04-24 23:08</td>\n",
       "    </tr>\n",
       "    <tr>\n",
       "      <th>168929</th>\n",
       "      <td>서울시</td>\n",
       "      <td>SDOT001</td>\n",
       "      <td>V02Q1940955</td>\n",
       "      <td>1</td>\n",
       "      <td>19</td>\n",
       "      <td>19</td>\n",
       "      <td>17.7</td>\n",
       "      <td>81.0</td>\n",
       "      <td>NaN</td>\n",
       "      <td>NaN</td>\n",
       "      <td>...</td>\n",
       "      <td>0.07</td>\n",
       "      <td>1.03</td>\n",
       "      <td>0.05</td>\n",
       "      <td>0.13</td>\n",
       "      <td>1.11</td>\n",
       "      <td>NaN</td>\n",
       "      <td>17</td>\n",
       "      <td>18</td>\n",
       "      <td>2.022040e+11</td>\n",
       "      <td>2022-04-24 23:08</td>\n",
       "    </tr>\n",
       "    <tr>\n",
       "      <th>168930</th>\n",
       "      <td>서울시</td>\n",
       "      <td>SDOT001</td>\n",
       "      <td>V02Q1941013</td>\n",
       "      <td>1</td>\n",
       "      <td>5</td>\n",
       "      <td>5</td>\n",
       "      <td>17.8</td>\n",
       "      <td>84.0</td>\n",
       "      <td>NaN</td>\n",
       "      <td>NaN</td>\n",
       "      <td>...</td>\n",
       "      <td>NaN</td>\n",
       "      <td>NaN</td>\n",
       "      <td>NaN</td>\n",
       "      <td>NaN</td>\n",
       "      <td>NaN</td>\n",
       "      <td>NaN</td>\n",
       "      <td>10</td>\n",
       "      <td>9</td>\n",
       "      <td>2.022040e+11</td>\n",
       "      <td>2022-04-24 23:08</td>\n",
       "    </tr>\n",
       "  </tbody>\n",
       "</table>\n",
       "<p>509394 rows × 26 columns</p>\n",
       "</div>"
      ],
      "text/plain": [
       "       기관 명      모델명          시리얼  구분  초미세먼지(㎍/㎥)  미세먼지(㎍/㎥)  기온(℃)  상대습도( %)  \\\n",
       "0       서울시  SDOT001  OC3CL200025   1           7         10  -11.3      47.0   \n",
       "1       서울시  SDOT001  OC3CL200014   1           5          8  -10.2      44.0   \n",
       "2       서울시  SDOT001  OC3CL200023   1           7         10  -10.1      42.0   \n",
       "3       서울시  SDOT001  OC3CL200017   1          11         16  -10.2      42.0   \n",
       "4       서울시  SDOT001  OC3CL200021   1           8         13  -10.6      44.0   \n",
       "...     ...      ...          ...  ..         ...        ...    ...       ...   \n",
       "168926  서울시  SDOT001  V02Q1941015   1          35         35   17.6      84.0   \n",
       "168927  서울시  SDOT001  V02Q1941000   1          12         12   17.6      86.0   \n",
       "168928  서울시  SDOT001  V02Q1941006   1           2          3   17.5      85.0   \n",
       "168929  서울시  SDOT001  V02Q1940955   1          19         19   17.7      81.0   \n",
       "168930  서울시  SDOT001  V02Q1941013   1           5          5   17.8      84.0   \n",
       "\n",
       "        풍향(°)  풍속(m/s)  ...  진동_y(g)  진동_z(g)  진동_x 최대(g)  진동_y 최대(g)  \\\n",
       "0         NaN      NaN  ...      NaN      NaN         NaN         NaN   \n",
       "1         NaN      NaN  ...      NaN      NaN         NaN         NaN   \n",
       "2         NaN      NaN  ...      NaN      NaN         NaN         NaN   \n",
       "3         NaN      NaN  ...      NaN      NaN         NaN         NaN   \n",
       "4         NaN      NaN  ...      NaN      NaN         NaN         NaN   \n",
       "...       ...      ...  ...      ...      ...         ...         ...   \n",
       "168926    NaN      NaN  ...      NaN      NaN         NaN         NaN   \n",
       "168927    NaN      NaN  ...      NaN      NaN         NaN         NaN   \n",
       "168928    NaN      NaN  ...      NaN      NaN         NaN         NaN   \n",
       "168929    NaN      NaN  ...     0.07     1.03        0.05        0.13   \n",
       "168930    NaN      NaN  ...      NaN      NaN         NaN         NaN   \n",
       "\n",
       "        진동_z 최대(g)  흑구 운도(℃)  초미세먼지 보정(㎍/㎥)  미세먼지 보정(㎍/㎥)          전송시간  \\\n",
       "0              NaN       NaN              8            14  2.021120e+11   \n",
       "1              NaN     -11.1              7            12  2.021120e+11   \n",
       "2              NaN       NaN              8            12  2.021120e+11   \n",
       "3              NaN     -11.5             16            23  2.021120e+11   \n",
       "4              NaN       NaN              8            15  2.021120e+11   \n",
       "...            ...       ...            ...           ...           ...   \n",
       "168926         NaN       NaN             23            30  2.022040e+11   \n",
       "168927         NaN       NaN             16            16  2.022040e+11   \n",
       "168928         NaN       NaN              3             5  2.022040e+11   \n",
       "168929        1.11       NaN             17            18  2.022040e+11   \n",
       "168930         NaN       NaN             10             9  2.022040e+11   \n",
       "\n",
       "                    등록일자  \n",
       "0        2021-12-27 0:07  \n",
       "1        2021-12-27 0:07  \n",
       "2        2021-12-27 0:07  \n",
       "3        2021-12-27 0:07  \n",
       "4        2021-12-27 0:07  \n",
       "...                  ...  \n",
       "168926  2022-04-24 23:08  \n",
       "168927  2022-04-24 23:08  \n",
       "168928  2022-04-24 23:08  \n",
       "168929  2022-04-24 23:08  \n",
       "168930  2022-04-24 23:08  \n",
       "\n",
       "[509394 rows x 26 columns]"
      ]
     },
     "metadata": {},
     "output_type": "display_data"
    }
   ],
   "source": [
    "nature = pd.concat([nature1,nature2,nature3])\n",
    "display(nature)"
   ]
  },
  {
   "cell_type": "code",
   "execution_count": 8,
   "id": "03a793c0",
   "metadata": {},
   "outputs": [
    {
     "data": {
      "text/html": [
       "<div>\n",
       "<style scoped>\n",
       "    .dataframe tbody tr th:only-of-type {\n",
       "        vertical-align: middle;\n",
       "    }\n",
       "\n",
       "    .dataframe tbody tr th {\n",
       "        vertical-align: top;\n",
       "    }\n",
       "\n",
       "    .dataframe thead th {\n",
       "        text-align: right;\n",
       "    }\n",
       "</style>\n",
       "<table border=\"1\" class=\"dataframe\">\n",
       "  <thead>\n",
       "    <tr style=\"text-align: right;\">\n",
       "      <th></th>\n",
       "      <th>기온(℃)</th>\n",
       "      <th>상대습도( %)</th>\n",
       "    </tr>\n",
       "  </thead>\n",
       "  <tbody>\n",
       "    <tr>\n",
       "      <th>0</th>\n",
       "      <td>-11.3</td>\n",
       "      <td>47.0</td>\n",
       "    </tr>\n",
       "    <tr>\n",
       "      <th>1</th>\n",
       "      <td>-10.2</td>\n",
       "      <td>44.0</td>\n",
       "    </tr>\n",
       "    <tr>\n",
       "      <th>2</th>\n",
       "      <td>-10.1</td>\n",
       "      <td>42.0</td>\n",
       "    </tr>\n",
       "    <tr>\n",
       "      <th>3</th>\n",
       "      <td>-10.2</td>\n",
       "      <td>42.0</td>\n",
       "    </tr>\n",
       "    <tr>\n",
       "      <th>4</th>\n",
       "      <td>-10.6</td>\n",
       "      <td>44.0</td>\n",
       "    </tr>\n",
       "    <tr>\n",
       "      <th>...</th>\n",
       "      <td>...</td>\n",
       "      <td>...</td>\n",
       "    </tr>\n",
       "    <tr>\n",
       "      <th>168926</th>\n",
       "      <td>17.6</td>\n",
       "      <td>84.0</td>\n",
       "    </tr>\n",
       "    <tr>\n",
       "      <th>168927</th>\n",
       "      <td>17.6</td>\n",
       "      <td>86.0</td>\n",
       "    </tr>\n",
       "    <tr>\n",
       "      <th>168928</th>\n",
       "      <td>17.5</td>\n",
       "      <td>85.0</td>\n",
       "    </tr>\n",
       "    <tr>\n",
       "      <th>168929</th>\n",
       "      <td>17.7</td>\n",
       "      <td>81.0</td>\n",
       "    </tr>\n",
       "    <tr>\n",
       "      <th>168930</th>\n",
       "      <td>17.8</td>\n",
       "      <td>84.0</td>\n",
       "    </tr>\n",
       "  </tbody>\n",
       "</table>\n",
       "<p>509394 rows × 2 columns</p>\n",
       "</div>"
      ],
      "text/plain": [
       "        기온(℃)  상대습도( %)\n",
       "0       -11.3      47.0\n",
       "1       -10.2      44.0\n",
       "2       -10.1      42.0\n",
       "3       -10.2      42.0\n",
       "4       -10.6      44.0\n",
       "...       ...       ...\n",
       "168926   17.6      84.0\n",
       "168927   17.6      86.0\n",
       "168928   17.5      85.0\n",
       "168929   17.7      81.0\n",
       "168930   17.8      84.0\n",
       "\n",
       "[509394 rows x 2 columns]"
      ]
     },
     "metadata": {},
     "output_type": "display_data"
    }
   ],
   "source": [
    "tempa = nature[['기온(℃)','상대습도( %)']]\n",
    "display(tempa)"
   ]
  },
  {
   "cell_type": "code",
   "execution_count": 9,
   "id": "8a7e0f68",
   "metadata": {},
   "outputs": [
    {
     "name": "stdout",
     "output_type": "stream",
     "text": [
      "<class 'pandas.core.frame.DataFrame'>\n",
      "Int64Index: 509394 entries, 0 to 168930\n",
      "Data columns (total 2 columns):\n",
      " #   Column    Non-Null Count   Dtype  \n",
      "---  ------    --------------   -----  \n",
      " 0   기온(℃)     508987 non-null  float64\n",
      " 1   상대습도( %)  508987 non-null  float64\n",
      "dtypes: float64(2)\n",
      "memory usage: 11.7 MB\n"
     ]
    }
   ],
   "source": [
    "tempa.info()"
   ]
  },
  {
   "cell_type": "code",
   "execution_count": 10,
   "id": "64640287",
   "metadata": {},
   "outputs": [
    {
     "data": {
      "text/html": [
       "<div>\n",
       "<style scoped>\n",
       "    .dataframe tbody tr th:only-of-type {\n",
       "        vertical-align: middle;\n",
       "    }\n",
       "\n",
       "    .dataframe tbody tr th {\n",
       "        vertical-align: top;\n",
       "    }\n",
       "\n",
       "    .dataframe thead th {\n",
       "        text-align: right;\n",
       "    }\n",
       "</style>\n",
       "<table border=\"1\" class=\"dataframe\">\n",
       "  <thead>\n",
       "    <tr style=\"text-align: right;\">\n",
       "      <th></th>\n",
       "      <th>이산화탄소</th>\n",
       "    </tr>\n",
       "  </thead>\n",
       "  <tbody>\n",
       "    <tr>\n",
       "      <th>0</th>\n",
       "      <td>3702</td>\n",
       "    </tr>\n",
       "    <tr>\n",
       "      <th>1</th>\n",
       "      <td>2697</td>\n",
       "    </tr>\n",
       "    <tr>\n",
       "      <th>2</th>\n",
       "      <td>5792</td>\n",
       "    </tr>\n",
       "    <tr>\n",
       "      <th>3</th>\n",
       "      <td>4437</td>\n",
       "    </tr>\n",
       "    <tr>\n",
       "      <th>4</th>\n",
       "      <td>6934</td>\n",
       "    </tr>\n",
       "    <tr>\n",
       "      <th>...</th>\n",
       "      <td>...</td>\n",
       "    </tr>\n",
       "    <tr>\n",
       "      <th>509389</th>\n",
       "      <td>3526</td>\n",
       "    </tr>\n",
       "    <tr>\n",
       "      <th>509390</th>\n",
       "      <td>6355</td>\n",
       "    </tr>\n",
       "    <tr>\n",
       "      <th>509391</th>\n",
       "      <td>2503</td>\n",
       "    </tr>\n",
       "    <tr>\n",
       "      <th>509392</th>\n",
       "      <td>568</td>\n",
       "    </tr>\n",
       "    <tr>\n",
       "      <th>509393</th>\n",
       "      <td>4146</td>\n",
       "    </tr>\n",
       "  </tbody>\n",
       "</table>\n",
       "<p>509394 rows × 1 columns</p>\n",
       "</div>"
      ],
      "text/plain": [
       "        이산화탄소\n",
       "0        3702\n",
       "1        2697\n",
       "2        5792\n",
       "3        4437\n",
       "4        6934\n",
       "...       ...\n",
       "509389   3526\n",
       "509390   6355\n",
       "509391   2503\n",
       "509392    568\n",
       "509393   4146\n",
       "\n",
       "[509394 rows x 1 columns]"
      ]
     },
     "metadata": {},
     "output_type": "display_data"
    }
   ],
   "source": [
    "df = pd.DataFrame(np.random.randint(300,3000,size=(509394,1)),columns=['이산화탄소'])\n",
    "display(df)"
   ]
  },
  {
   "cell_type": "code",
   "execution_count": 11,
   "id": "5fe66af9",
   "metadata": {},
   "outputs": [],
   "source": [
    "tempa.reset_index(drop=False,inplace=True)"
   ]
  },
  {
   "cell_type": "code",
   "execution_count": 12,
   "id": "e2f3a02d",
   "metadata": {
    "collapsed": true
   },
   "outputs": [
    {
     "data": {
      "text/html": [
       "<div>\n",
       "<style scoped>\n",
       "    .dataframe tbody tr th:only-of-type {\n",
       "        vertical-align: middle;\n",
       "    }\n",
       "\n",
       "    .dataframe tbody tr th {\n",
       "        vertical-align: top;\n",
       "    }\n",
       "\n",
       "    .dataframe thead th {\n",
       "        text-align: right;\n",
       "    }\n",
       "</style>\n",
       "<table border=\"1\" class=\"dataframe\">\n",
       "  <thead>\n",
       "    <tr style=\"text-align: right;\">\n",
       "      <th></th>\n",
       "      <th>기온(℃)</th>\n",
       "      <th>상대습도( %)</th>\n",
       "      <th>이산화탄소</th>\n",
       "    </tr>\n",
       "  </thead>\n",
       "  <tbody>\n",
       "    <tr>\n",
       "      <th>0</th>\n",
       "      <td>-11.3</td>\n",
       "      <td>47.0</td>\n",
       "      <td>3702</td>\n",
       "    </tr>\n",
       "    <tr>\n",
       "      <th>1</th>\n",
       "      <td>-10.2</td>\n",
       "      <td>44.0</td>\n",
       "      <td>2697</td>\n",
       "    </tr>\n",
       "    <tr>\n",
       "      <th>2</th>\n",
       "      <td>-10.1</td>\n",
       "      <td>42.0</td>\n",
       "      <td>5792</td>\n",
       "    </tr>\n",
       "    <tr>\n",
       "      <th>3</th>\n",
       "      <td>-10.2</td>\n",
       "      <td>42.0</td>\n",
       "      <td>4437</td>\n",
       "    </tr>\n",
       "    <tr>\n",
       "      <th>4</th>\n",
       "      <td>-10.6</td>\n",
       "      <td>44.0</td>\n",
       "      <td>6934</td>\n",
       "    </tr>\n",
       "    <tr>\n",
       "      <th>...</th>\n",
       "      <td>...</td>\n",
       "      <td>...</td>\n",
       "      <td>...</td>\n",
       "    </tr>\n",
       "    <tr>\n",
       "      <th>509389</th>\n",
       "      <td>17.6</td>\n",
       "      <td>84.0</td>\n",
       "      <td>3526</td>\n",
       "    </tr>\n",
       "    <tr>\n",
       "      <th>509390</th>\n",
       "      <td>17.6</td>\n",
       "      <td>86.0</td>\n",
       "      <td>6355</td>\n",
       "    </tr>\n",
       "    <tr>\n",
       "      <th>509391</th>\n",
       "      <td>17.5</td>\n",
       "      <td>85.0</td>\n",
       "      <td>2503</td>\n",
       "    </tr>\n",
       "    <tr>\n",
       "      <th>509392</th>\n",
       "      <td>17.7</td>\n",
       "      <td>81.0</td>\n",
       "      <td>568</td>\n",
       "    </tr>\n",
       "    <tr>\n",
       "      <th>509393</th>\n",
       "      <td>17.8</td>\n",
       "      <td>84.0</td>\n",
       "      <td>4146</td>\n",
       "    </tr>\n",
       "  </tbody>\n",
       "</table>\n",
       "<p>509394 rows × 3 columns</p>\n",
       "</div>"
      ],
      "text/plain": [
       "        기온(℃)  상대습도( %)  이산화탄소\n",
       "0       -11.3      47.0   3702\n",
       "1       -10.2      44.0   2697\n",
       "2       -10.1      42.0   5792\n",
       "3       -10.2      42.0   4437\n",
       "4       -10.6      44.0   6934\n",
       "...       ...       ...    ...\n",
       "509389   17.6      84.0   3526\n",
       "509390   17.6      86.0   6355\n",
       "509391   17.5      85.0   2503\n",
       "509392   17.7      81.0    568\n",
       "509393   17.8      84.0   4146\n",
       "\n",
       "[509394 rows x 3 columns]"
      ]
     },
     "metadata": {},
     "output_type": "display_data"
    }
   ],
   "source": [
    "df1 = pd.concat([tempa,df],axis=1)\n",
    "df1 = df1.drop('index', axis=1)\n",
    "display(df1)"
   ]
  },
  {
   "cell_type": "code",
   "execution_count": 13,
   "id": "813fe857",
   "metadata": {},
   "outputs": [
    {
     "data": {
      "text/plain": [
       "기온(℃)       407\n",
       "상대습도( %)    407\n",
       "이산화탄소         0\n",
       "dtype: int64"
      ]
     },
     "execution_count": 13,
     "metadata": {},
     "output_type": "execute_result"
    }
   ],
   "source": [
    "df1.isna().sum()"
   ]
  },
  {
   "cell_type": "code",
   "execution_count": 14,
   "id": "40b84739",
   "metadata": {},
   "outputs": [
    {
     "data": {
      "text/html": [
       "<div>\n",
       "<style scoped>\n",
       "    .dataframe tbody tr th:only-of-type {\n",
       "        vertical-align: middle;\n",
       "    }\n",
       "\n",
       "    .dataframe tbody tr th {\n",
       "        vertical-align: top;\n",
       "    }\n",
       "\n",
       "    .dataframe thead th {\n",
       "        text-align: right;\n",
       "    }\n",
       "</style>\n",
       "<table border=\"1\" class=\"dataframe\">\n",
       "  <thead>\n",
       "    <tr style=\"text-align: right;\">\n",
       "      <th></th>\n",
       "      <th>기온(℃)</th>\n",
       "      <th>상대습도( %)</th>\n",
       "      <th>이산화탄소</th>\n",
       "    </tr>\n",
       "  </thead>\n",
       "  <tbody>\n",
       "    <tr>\n",
       "      <th>0</th>\n",
       "      <td>-11.3</td>\n",
       "      <td>47.0</td>\n",
       "      <td>3702</td>\n",
       "    </tr>\n",
       "    <tr>\n",
       "      <th>1</th>\n",
       "      <td>-10.2</td>\n",
       "      <td>44.0</td>\n",
       "      <td>2697</td>\n",
       "    </tr>\n",
       "    <tr>\n",
       "      <th>2</th>\n",
       "      <td>-10.1</td>\n",
       "      <td>42.0</td>\n",
       "      <td>5792</td>\n",
       "    </tr>\n",
       "    <tr>\n",
       "      <th>3</th>\n",
       "      <td>-10.2</td>\n",
       "      <td>42.0</td>\n",
       "      <td>4437</td>\n",
       "    </tr>\n",
       "    <tr>\n",
       "      <th>4</th>\n",
       "      <td>-10.6</td>\n",
       "      <td>44.0</td>\n",
       "      <td>6934</td>\n",
       "    </tr>\n",
       "    <tr>\n",
       "      <th>...</th>\n",
       "      <td>...</td>\n",
       "      <td>...</td>\n",
       "      <td>...</td>\n",
       "    </tr>\n",
       "    <tr>\n",
       "      <th>509389</th>\n",
       "      <td>17.6</td>\n",
       "      <td>84.0</td>\n",
       "      <td>3526</td>\n",
       "    </tr>\n",
       "    <tr>\n",
       "      <th>509390</th>\n",
       "      <td>17.6</td>\n",
       "      <td>86.0</td>\n",
       "      <td>6355</td>\n",
       "    </tr>\n",
       "    <tr>\n",
       "      <th>509391</th>\n",
       "      <td>17.5</td>\n",
       "      <td>85.0</td>\n",
       "      <td>2503</td>\n",
       "    </tr>\n",
       "    <tr>\n",
       "      <th>509392</th>\n",
       "      <td>17.7</td>\n",
       "      <td>81.0</td>\n",
       "      <td>568</td>\n",
       "    </tr>\n",
       "    <tr>\n",
       "      <th>509393</th>\n",
       "      <td>17.8</td>\n",
       "      <td>84.0</td>\n",
       "      <td>4146</td>\n",
       "    </tr>\n",
       "  </tbody>\n",
       "</table>\n",
       "<p>508987 rows × 3 columns</p>\n",
       "</div>"
      ],
      "text/plain": [
       "        기온(℃)  상대습도( %)  이산화탄소\n",
       "0       -11.3      47.0   3702\n",
       "1       -10.2      44.0   2697\n",
       "2       -10.1      42.0   5792\n",
       "3       -10.2      42.0   4437\n",
       "4       -10.6      44.0   6934\n",
       "...       ...       ...    ...\n",
       "509389   17.6      84.0   3526\n",
       "509390   17.6      86.0   6355\n",
       "509391   17.5      85.0   2503\n",
       "509392   17.7      81.0    568\n",
       "509393   17.8      84.0   4146\n",
       "\n",
       "[508987 rows x 3 columns]"
      ]
     },
     "metadata": {},
     "output_type": "display_data"
    }
   ],
   "source": [
    "# dropna\n",
    "df2 = df1.dropna(axis=0)\n",
    "display(df2)"
   ]
  },
  {
   "cell_type": "markdown",
   "id": "aa200a78",
   "metadata": {},
   "source": [
    "0 = 잔다  \n",
    "1 = 안잔다"
   ]
  },
  {
   "cell_type": "code",
   "execution_count": 15,
   "id": "9f03f83a",
   "metadata": {},
   "outputs": [
    {
     "name": "stderr",
     "output_type": "stream",
     "text": [
      "C:\\Users\\leeby\\AppData\\Local\\Temp\\ipykernel_1316\\2580690332.py:1: SettingWithCopyWarning: \n",
      "A value is trying to be set on a copy of a slice from a DataFrame.\n",
      "Try using .loc[row_indexer,col_indexer] = value instead\n",
      "\n",
      "See the caveats in the documentation: https://pandas.pydata.org/pandas-docs/stable/user_guide/indexing.html#returning-a-view-versus-a-copy\n",
      "  df2['label'] = np.where(((df2['기온(℃)']<20) | (df2['기온(℃)']>23)) &\n"
     ]
    },
    {
     "data": {
      "text/html": [
       "<div>\n",
       "<style scoped>\n",
       "    .dataframe tbody tr th:only-of-type {\n",
       "        vertical-align: middle;\n",
       "    }\n",
       "\n",
       "    .dataframe tbody tr th {\n",
       "        vertical-align: top;\n",
       "    }\n",
       "\n",
       "    .dataframe thead th {\n",
       "        text-align: right;\n",
       "    }\n",
       "</style>\n",
       "<table border=\"1\" class=\"dataframe\">\n",
       "  <thead>\n",
       "    <tr style=\"text-align: right;\">\n",
       "      <th></th>\n",
       "      <th>기온(℃)</th>\n",
       "      <th>상대습도( %)</th>\n",
       "      <th>이산화탄소</th>\n",
       "      <th>label</th>\n",
       "    </tr>\n",
       "  </thead>\n",
       "  <tbody>\n",
       "    <tr>\n",
       "      <th>0</th>\n",
       "      <td>-11.3</td>\n",
       "      <td>47.0</td>\n",
       "      <td>3702</td>\n",
       "      <td>1</td>\n",
       "    </tr>\n",
       "    <tr>\n",
       "      <th>1</th>\n",
       "      <td>-10.2</td>\n",
       "      <td>44.0</td>\n",
       "      <td>2697</td>\n",
       "      <td>1</td>\n",
       "    </tr>\n",
       "    <tr>\n",
       "      <th>2</th>\n",
       "      <td>-10.1</td>\n",
       "      <td>42.0</td>\n",
       "      <td>5792</td>\n",
       "      <td>1</td>\n",
       "    </tr>\n",
       "    <tr>\n",
       "      <th>3</th>\n",
       "      <td>-10.2</td>\n",
       "      <td>42.0</td>\n",
       "      <td>4437</td>\n",
       "      <td>1</td>\n",
       "    </tr>\n",
       "    <tr>\n",
       "      <th>4</th>\n",
       "      <td>-10.6</td>\n",
       "      <td>44.0</td>\n",
       "      <td>6934</td>\n",
       "      <td>1</td>\n",
       "    </tr>\n",
       "    <tr>\n",
       "      <th>...</th>\n",
       "      <td>...</td>\n",
       "      <td>...</td>\n",
       "      <td>...</td>\n",
       "      <td>...</td>\n",
       "    </tr>\n",
       "    <tr>\n",
       "      <th>509389</th>\n",
       "      <td>17.6</td>\n",
       "      <td>84.0</td>\n",
       "      <td>3526</td>\n",
       "      <td>1</td>\n",
       "    </tr>\n",
       "    <tr>\n",
       "      <th>509390</th>\n",
       "      <td>17.6</td>\n",
       "      <td>86.0</td>\n",
       "      <td>6355</td>\n",
       "      <td>1</td>\n",
       "    </tr>\n",
       "    <tr>\n",
       "      <th>509391</th>\n",
       "      <td>17.5</td>\n",
       "      <td>85.0</td>\n",
       "      <td>2503</td>\n",
       "      <td>1</td>\n",
       "    </tr>\n",
       "    <tr>\n",
       "      <th>509392</th>\n",
       "      <td>17.7</td>\n",
       "      <td>81.0</td>\n",
       "      <td>568</td>\n",
       "      <td>1</td>\n",
       "    </tr>\n",
       "    <tr>\n",
       "      <th>509393</th>\n",
       "      <td>17.8</td>\n",
       "      <td>84.0</td>\n",
       "      <td>4146</td>\n",
       "      <td>1</td>\n",
       "    </tr>\n",
       "  </tbody>\n",
       "</table>\n",
       "<p>508987 rows × 4 columns</p>\n",
       "</div>"
      ],
      "text/plain": [
       "        기온(℃)  상대습도( %)  이산화탄소  label\n",
       "0       -11.3      47.0   3702      1\n",
       "1       -10.2      44.0   2697      1\n",
       "2       -10.1      42.0   5792      1\n",
       "3       -10.2      42.0   4437      1\n",
       "4       -10.6      44.0   6934      1\n",
       "...       ...       ...    ...    ...\n",
       "509389   17.6      84.0   3526      1\n",
       "509390   17.6      86.0   6355      1\n",
       "509391   17.5      85.0   2503      1\n",
       "509392   17.7      81.0    568      1\n",
       "509393   17.8      84.0   4146      1\n",
       "\n",
       "[508987 rows x 4 columns]"
      ]
     },
     "metadata": {},
     "output_type": "display_data"
    }
   ],
   "source": [
    "df2['label'] = np.where(((df2['기온(℃)']<20) | (df2['기온(℃)']>23)) & \n",
    "                        (df2['이산화탄소'] >= 1500) & \n",
    "                        ((df2['상대습도( %)']>=50) & (df2['상대습도( %)']<=60)), 0, 1)\n",
    "display(df2)"
   ]
  },
  {
   "cell_type": "code",
   "execution_count": 63,
   "id": "643238fc",
   "metadata": {
    "scrolled": true
   },
   "outputs": [
    {
     "name": "stdout",
     "output_type": "stream",
     "text": [
      "-40.0\n",
      "34.6\n",
      "100.0\n"
     ]
    }
   ],
   "source": [
    "print(df2['기온(℃)'].min())\n",
    "print(df2['기온(℃)'].max())\n",
    "print(df2['상대습도( %)'].max())"
   ]
  },
  {
   "cell_type": "code",
   "execution_count": 62,
   "id": "e5829397",
   "metadata": {},
   "outputs": [],
   "source": [
    "#df2.to_csv(\"nature_final.csv\", mode='w')"
   ]
  },
  {
   "cell_type": "code",
   "execution_count": 16,
   "id": "0c87d56b",
   "metadata": {
    "scrolled": false
   },
   "outputs": [
    {
     "data": {
      "text/plain": [
       "1    425244\n",
       "0     83743\n",
       "Name: label, dtype: int64"
      ]
     },
     "execution_count": 16,
     "metadata": {},
     "output_type": "execute_result"
    }
   ],
   "source": [
    "df2['label'].value_counts()"
   ]
  },
  {
   "cell_type": "code",
   "execution_count": 20,
   "id": "4684bcaa",
   "metadata": {},
   "outputs": [
    {
     "data": {
      "text/plain": [
       "<BarContainer object of 2 artists>"
      ]
     },
     "execution_count": 20,
     "metadata": {},
     "output_type": "execute_result"
    },
    {
     "data": {
      "image/png": "[encoded data removed]",
      "text/plain": [
       "<Figure size 432x288 with 1 Axes>"
      ]
     },
     "metadata": {
      "needs_background": "light"
     },
     "output_type": "display_data"
    }
   ],
   "source": [
    "x_data = df2[['기온(℃)','상대습도( %)','이산화탄소']]\n",
    "t_data = df2['label']\n",
    "\n",
    "from imblearn.over_sampling import RandomOverSampler\n",
    "from matplotlib import pyplot as plt\n",
    "\n",
    "ros = RandomOverSampler(random_state=42)\n",
    "# label_s = new['label'].value_counts()\n",
    "# label_s_x = np.reshape([0,1],(-1,1))\n",
    "\n",
    "x_data,t_data = ros.fit_resample(x_data,t_data)\n",
    "\n",
    "# plt.bar(x_data, t_data)\n",
    "plt.bar(['0','1'],t_data.value_counts())"
   ]
  },
  {
   "cell_type": "code",
   "execution_count": 64,
   "id": "f03f1324",
   "metadata": {},
   "outputs": [
    {
     "data": {
      "text/plain": [
       "<AxesSubplot:>"
      ]
     },
     "execution_count": 64,
     "metadata": {},
     "output_type": "execute_result"
    },
    {
     "data": {
      "image/png": "[encoded data removed]",
      "text/plain": [
       "<Figure size 432x288 with 1 Axes>"
      ]
     },
     "metadata": {
      "needs_background": "light"
     },
     "output_type": "display_data"
    }
   ],
   "source": [
    "sns.boxplot(data = df2)"
   ]
  },
  {
   "cell_type": "markdown",
   "id": "0a316998",
   "metadata": {},
   "source": [
    "***"
   ]
  },
  {
   "cell_type": "markdown",
   "id": "7d4262d4",
   "metadata": {},
   "source": [
    "***"
   ]
  },
  {
   "cell_type": "code",
   "execution_count": 14,
   "id": "289e94ae",
   "metadata": {
    "scrolled": true
   },
   "outputs": [
    {
     "data": {
      "text/html": [
       "<div>\n",
       "<style scoped>\n",
       "    .dataframe tbody tr th:only-of-type {\n",
       "        vertical-align: middle;\n",
       "    }\n",
       "\n",
       "    .dataframe tbody tr th {\n",
       "        vertical-align: top;\n",
       "    }\n",
       "\n",
       "    .dataframe thead th {\n",
       "        text-align: right;\n",
       "    }\n",
       "</style>\n",
       "<table border=\"1\" class=\"dataframe\">\n",
       "  <thead>\n",
       "    <tr style=\"text-align: right;\">\n",
       "      <th></th>\n",
       "      <th>기온</th>\n",
       "      <th>습도</th>\n",
       "      <th>co2</th>\n",
       "      <th>label</th>\n",
       "    </tr>\n",
       "  </thead>\n",
       "  <tbody>\n",
       "    <tr>\n",
       "      <th>0</th>\n",
       "      <td>-11.3</td>\n",
       "      <td>47.0</td>\n",
       "      <td>3702</td>\n",
       "      <td>1</td>\n",
       "    </tr>\n",
       "    <tr>\n",
       "      <th>1</th>\n",
       "      <td>-10.2</td>\n",
       "      <td>44.0</td>\n",
       "      <td>2697</td>\n",
       "      <td>1</td>\n",
       "    </tr>\n",
       "    <tr>\n",
       "      <th>2</th>\n",
       "      <td>-10.1</td>\n",
       "      <td>42.0</td>\n",
       "      <td>5792</td>\n",
       "      <td>1</td>\n",
       "    </tr>\n",
       "    <tr>\n",
       "      <th>3</th>\n",
       "      <td>-10.2</td>\n",
       "      <td>42.0</td>\n",
       "      <td>4437</td>\n",
       "      <td>1</td>\n",
       "    </tr>\n",
       "    <tr>\n",
       "      <th>4</th>\n",
       "      <td>-10.6</td>\n",
       "      <td>44.0</td>\n",
       "      <td>6934</td>\n",
       "      <td>1</td>\n",
       "    </tr>\n",
       "  </tbody>\n",
       "</table>\n",
       "</div>"
      ],
      "text/plain": [
       "     기온    습도   co2  label\n",
       "0 -11.3  47.0  3702      1\n",
       "1 -10.2  44.0  2697      1\n",
       "2 -10.1  42.0  5792      1\n",
       "3 -10.2  42.0  4437      1\n",
       "4 -10.6  44.0  6934      1"
      ]
     },
     "metadata": {},
     "output_type": "display_data"
    }
   ],
   "source": [
    "df = pd.read_csv('./nature_final.csv', encoding='utf-8')\n",
    "df = df.drop('Unnamed: 0', axis=1)\n",
    "df.columns=['기온', '습도', 'co2', 'label']\n",
    "display(df.head())"
   ]
  },
  {
   "cell_type": "code",
   "execution_count": 15,
   "id": "b78c42ad",
   "metadata": {},
   "outputs": [
    {
     "data": {
      "text/html": [
       "<div>\n",
       "<style scoped>\n",
       "    .dataframe tbody tr th:only-of-type {\n",
       "        vertical-align: middle;\n",
       "    }\n",
       "\n",
       "    .dataframe tbody tr th {\n",
       "        vertical-align: top;\n",
       "    }\n",
       "\n",
       "    .dataframe thead th {\n",
       "        text-align: right;\n",
       "    }\n",
       "</style>\n",
       "<table border=\"1\" class=\"dataframe\">\n",
       "  <thead>\n",
       "    <tr style=\"text-align: right;\">\n",
       "      <th></th>\n",
       "      <th>기온</th>\n",
       "      <th>습도</th>\n",
       "      <th>co2</th>\n",
       "      <th>label</th>\n",
       "    </tr>\n",
       "  </thead>\n",
       "  <tbody>\n",
       "    <tr>\n",
       "      <th>0</th>\n",
       "      <td>-11.3</td>\n",
       "      <td>47.0</td>\n",
       "      <td>3702</td>\n",
       "      <td>1</td>\n",
       "    </tr>\n",
       "    <tr>\n",
       "      <th>1</th>\n",
       "      <td>-10.2</td>\n",
       "      <td>44.0</td>\n",
       "      <td>2697</td>\n",
       "      <td>1</td>\n",
       "    </tr>\n",
       "    <tr>\n",
       "      <th>2</th>\n",
       "      <td>-10.1</td>\n",
       "      <td>42.0</td>\n",
       "      <td>5792</td>\n",
       "      <td>1</td>\n",
       "    </tr>\n",
       "    <tr>\n",
       "      <th>3</th>\n",
       "      <td>-10.2</td>\n",
       "      <td>42.0</td>\n",
       "      <td>4437</td>\n",
       "      <td>1</td>\n",
       "    </tr>\n",
       "    <tr>\n",
       "      <th>4</th>\n",
       "      <td>-10.6</td>\n",
       "      <td>44.0</td>\n",
       "      <td>6934</td>\n",
       "      <td>1</td>\n",
       "    </tr>\n",
       "  </tbody>\n",
       "</table>\n",
       "</div>"
      ],
      "text/plain": [
       "     기온    습도   co2  label\n",
       "0 -11.3  47.0  3702      1\n",
       "1 -10.2  44.0  2697      1\n",
       "2 -10.1  42.0  5792      1\n",
       "3 -10.2  42.0  4437      1\n",
       "4 -10.6  44.0  6934      1"
      ]
     },
     "metadata": {},
     "output_type": "display_data"
    }
   ],
   "source": [
    "df = df.drop(df.loc[df['기온'] < -20].index)\n",
    "display(df.head())"
   ]
  },
  {
   "cell_type": "code",
   "execution_count": 16,
   "id": "601144ef",
   "metadata": {},
   "outputs": [
    {
     "data": {
      "text/plain": [
       "1    424350\n",
       "0     83642\n",
       "Name: label, dtype: int64"
      ]
     },
     "execution_count": 16,
     "metadata": {},
     "output_type": "execute_result"
    }
   ],
   "source": [
    "df['label'].value_counts()"
   ]
  },
  {
   "cell_type": "code",
   "execution_count": 2,
   "id": "21052788",
   "metadata": {},
   "outputs": [],
   "source": [
    "x_data = df[['기온','습도','co2']]\n",
    "t_data = df['label']\n",
    "\n",
    "from imblearn.over_sampling import RandomOverSampler\n",
    "#from matplotlib import pyplot as plt\n",
    "\n",
    "ros = RandomOverSampler(random_state=42)\n",
    "# label_s = new['label'].value_counts()\n",
    "# label_s_x = np.reshape([0,1],(-1,1))\n",
    "\n",
    "x_data,t_data = ros.fit_resample(x_data,t_data)\n",
    "\n",
    "# plt.bar(x_data, t_data)\n",
    "#plt.bar(['0','1'],t_data.value_counts())"
   ]
  },
  {
   "cell_type": "code",
   "execution_count": 20,
   "id": "3f776616",
   "metadata": {},
   "outputs": [],
   "source": [
    "import sklearn"
   ]
  },
  {
   "cell_type": "markdown",
   "id": "1e3e99f9",
   "metadata": {},
   "source": [
    "***\n",
    "***"
   ]
  },
  {
   "cell_type": "code",
   "execution_count": 2,
   "id": "9a2ebfed",
   "metadata": {},
   "outputs": [
    {
     "name": "stdout",
     "output_type": "stream",
     "text": [
      "c:\\jupyter_home\\Machine_Learning\\ML_Project_5th\\5th_ML_Project\\Code\n"
     ]
    }
   ],
   "source": [
    "import os\n",
    "print(os.getcwd())\n",
    "\n",
    "import warnings\n",
    "warnings.filterwarnings(action='ignore')\n",
    "\n",
    "import pandas as pd\n",
    "import numpy as np\n",
    "\n",
    "df = pd.read_csv('./nature_final.csv', encoding='utf-8')\n",
    "df = df.drop('Unnamed: 0', axis=1)\n",
    "df.columns=['기온', '습도', 'co2', 'label']\n",
    "#display(df.head())\n",
    "\n",
    "df = df.drop(df.loc[df['기온'] < -20].index)\n",
    "#display(df.head())\n",
    "\n",
    "df['label'].value_counts()\n",
    "\n",
    "x_data = df[['기온','습도','co2']]\n",
    "t_data = df['label']\n",
    "\n",
    "from imblearn.over_sampling import RandomOverSampler\n",
    "#from matplotlib import pyplot as plt\n",
    "\n",
    "ros = RandomOverSampler(random_state=42)\n",
    "# label_s = new['label'].value_counts()\n",
    "# label_s_x = np.reshape([0,1],(-1,1))\n",
    "\n",
    "x_data,t_data = ros.fit_resample(x_data,t_data)\n",
    "\n",
    "# plt.bar(x_data, t_data)\n",
    "#plt.bar(['0','1'],t_data.value_counts())"
   ]
  },
  {
   "cell_type": "markdown",
   "id": "bdd2ef05",
   "metadata": {},
   "source": [
    "***\n",
    "***"
   ]
  },
  {
   "cell_type": "code",
   "execution_count": 9,
   "id": "e7865bc0",
   "metadata": {},
   "outputs": [
    {
     "name": "stdout",
     "output_type": "stream",
     "text": [
      "Model: \"model\"\n",
      "_________________________________________________________________\n",
      " Layer (type)                Output Shape              Param #   \n",
      "=================================================================\n",
      " input_1 (InputLayer)        [(None, 3)]               0         \n",
      "                                                                 \n",
      " dense (Dense)               (None, 50)                200       \n",
      "                                                                 \n",
      " dense_1 (Dense)             (None, 25)                1275      \n",
      "                                                                 \n",
      " dense_2 (Dense)             (None, 10)                260       \n",
      "                                                                 \n",
      " dense_3 (Dense)             (None, 1)                 11        \n",
      "                                                                 \n",
      "=================================================================\n",
      "Total params: 1,746\n",
      "Trainable params: 1,746\n",
      "Non-trainable params: 0\n",
      "_________________________________________________________________\n"
     ]
    }
   ],
   "source": [
    "################ tensorflow\n",
    "import tensorflow as tf\n",
    "from tensorflow.keras.optimizers import Adam\n",
    "\n",
    "'''\n",
    "x_data = df[['기온','습도','co2']]\n",
    "t_data = df['label']\n",
    "'''\n",
    "\n",
    "input_size = tf.keras.layers.Input(shape=(3,))\n",
    "X = tf.keras.layers.Dense(50, activation='swish')(input_size)\n",
    "X = tf.keras.layers.Dense(25, activation='swish')(X)\n",
    "X = tf.keras.layers.Dense(10, activation='swish')(X)\n",
    "y = tf.keras.layers.Dense(1)(X)\n",
    "model = tf.keras.models.Model(input_size, y)\n",
    "model.summary()"
   ]
  },
  {
   "cell_type": "code",
   "execution_count": 10,
   "id": "4beadfab",
   "metadata": {},
   "outputs": [],
   "source": [
    "model.compile(optimizer=Adam(learning_rate=0.001), loss='binary_crossentropy', metrics=['acc'])"
   ]
  },
  {
   "cell_type": "code",
   "execution_count": 11,
   "id": "5eea393a",
   "metadata": {},
   "outputs": [
    {
     "name": "stdout",
     "output_type": "stream",
     "text": [
      "Epoch 1/20\n",
      "26522/26522 [==============================] - 127s 5ms/step - loss: 7.6236 - acc: 0.5000\n",
      "Epoch 2/20\n",
      "26522/26522 [==============================] - 124s 5ms/step - loss: 7.6236 - acc: 0.5000\n",
      "Epoch 3/20\n",
      "26522/26522 [==============================] - 129s 5ms/step - loss: 7.6236 - acc: 0.5000\n",
      "Epoch 4/20\n",
      "26522/26522 [==============================] - 125s 5ms/step - loss: 7.6236 - acc: 0.5000\n",
      "Epoch 5/20\n",
      "26522/26522 [==============================] - 125s 5ms/step - loss: 7.6236 - acc: 0.5000\n",
      "Epoch 6/20\n",
      "26522/26522 [==============================] - 124s 5ms/step - loss: 7.6236 - acc: 0.5000\n",
      "Epoch 7/20\n",
      "26522/26522 [==============================] - 125s 5ms/step - loss: 7.6236 - acc: 0.5000\n",
      "Epoch 8/20\n",
      "26522/26522 [==============================] - 124s 5ms/step - loss: 7.6236 - acc: 0.5000\n",
      "Epoch 9/20\n",
      "26522/26522 [==============================] - 124s 5ms/step - loss: 7.6236 - acc: 0.5000\n",
      "Epoch 10/20\n",
      "26522/26522 [==============================] - 124s 5ms/step - loss: 7.6236 - acc: 0.5000\n",
      "Epoch 11/20\n",
      "26522/26522 [==============================] - 124s 5ms/step - loss: 7.6236 - acc: 0.5000\n",
      "Epoch 12/20\n",
      "26522/26522 [==============================] - 125s 5ms/step - loss: 7.6236 - acc: 0.5000\n",
      "Epoch 13/20\n",
      "26522/26522 [==============================] - 124s 5ms/step - loss: 7.6236 - acc: 0.5000\n",
      "Epoch 14/20\n",
      "26522/26522 [==============================] - 124s 5ms/step - loss: 7.6236 - acc: 0.5000\n",
      "Epoch 15/20\n",
      "26522/26522 [==============================] - 124s 5ms/step - loss: 7.6236 - acc: 0.5000\n",
      "Epoch 16/20\n",
      "26522/26522 [==============================] - 124s 5ms/step - loss: 7.6236 - acc: 0.5000\n",
      "Epoch 17/20\n",
      "26522/26522 [==============================] - 124s 5ms/step - loss: 7.6236 - acc: 0.5000\n",
      "Epoch 18/20\n",
      "26522/26522 [==============================] - 127s 5ms/step - loss: 7.6236 - acc: 0.5000\n",
      "Epoch 19/20\n",
      "26522/26522 [==============================] - 126s 5ms/step - loss: 7.6236 - acc: 0.5000\n",
      "Epoch 20/20\n",
      "26522/26522 [==============================] - 126s 5ms/step - loss: 7.6236 - acc: 0.5000\n"
     ]
    },
    {
     "data": {
      "text/plain": [
       "<keras.callbacks.History at 0x25f806c1b50>"
      ]
     },
     "execution_count": 11,
     "metadata": {},
     "output_type": "execute_result"
    }
   ],
   "source": [
    "#model.fit(x_data,t_data,epochs=20,verbose=1)"
   ]
  },
  {
   "cell_type": "code",
   "execution_count": 12,
   "id": "67308e77",
   "metadata": {},
   "outputs": [],
   "source": [
    "model.save('./tf_model_ch.h5')"
   ]
  },
  {
   "cell_type": "code",
   "execution_count": 4,
   "id": "70d21e3c",
   "metadata": {},
   "outputs": [],
   "source": [
    "import tensorflow as tf\n",
    "model_load = tf.keras.models.load_model('./tf_model_ch.h5')"
   ]
  },
  {
   "cell_type": "code",
   "execution_count": 5,
   "id": "6ec2941b",
   "metadata": {},
   "outputs": [
    {
     "data": {
      "text/plain": [
       "array([[ 692.2444 ],\n",
       "       [ 504.87122],\n",
       "       [1081.1276 ],\n",
       "       ...,\n",
       "       [ 686.9201 ],\n",
       "       [ 587.52106],\n",
       "       [1249.0491 ]], dtype=float32)"
      ]
     },
     "execution_count": 5,
     "metadata": {},
     "output_type": "execute_result"
    }
   ],
   "source": [
    "model_load.predict(x_data)"
   ]
  },
  {
   "cell_type": "code",
   "execution_count": 8,
   "id": "9f39b43e",
   "metadata": {},
   "outputs": [
    {
     "name": "stdout",
     "output_type": "stream",
     "text": [
      "26522/26522 [==============================] - 65s 2ms/step - loss: 7.6250 - acc: 0.5000\n"
     ]
    },
    {
     "data": {
      "text/plain": [
       "[7.6249823570251465, 0.5]"
      ]
     },
     "execution_count": 8,
     "metadata": {},
     "output_type": "execute_result"
    }
   ],
   "source": [
    "model_load.evaluate(x_data, t_data)\n",
    "#print(\"테스트 세트 정확도: {}\".format(model_load.score(x_data, t_data)))"
   ]
  },
  {
   "cell_type": "code",
   "execution_count": null,
   "id": "be6b5340",
   "metadata": {},
   "outputs": [],
   "source": [
    "print('학습 데이터 점수: {}'.format(model.score(X_train, y_train)))\n",
    "print('평가 데이터 점수: {}'.format(model.score(X_test, y_test)))"
   ]
  },
  {
   "cell_type": "code",
   "execution_count": null,
   "id": "ee7e117d",
   "metadata": {},
   "outputs": [],
   "source": [
    "################ tensorflow predict\n",
    "model.predict(x_data)"
   ]
  },
  {
   "cell_type": "code",
   "execution_count": 18,
   "id": "23170e1a",
   "metadata": {},
   "outputs": [
    {
     "name": "stdout",
     "output_type": "stream",
     "text": [
      "Model: \"model_11\"\n",
      "_________________________________________________________________\n",
      " Layer (type)                Output Shape              Param #   \n",
      "=================================================================\n",
      " input_12 (InputLayer)       [(None, 3)]               0         \n",
      "                                                                 \n",
      " dense_32 (Dense)            (None, 1)                 4         \n",
      "                                                                 \n",
      "=================================================================\n",
      "Total params: 4\n",
      "Trainable params: 4\n",
      "Non-trainable params: 0\n",
      "_________________________________________________________________\n"
     ]
    }
   ],
   "source": [
    "################ \n",
    "import tensorflow as tf\n",
    "from tensorflow.keras.layers import Dense\n",
    "\n",
    "x_data = df[['기온','습도','co2']]\n",
    "t_data = df['label']\n",
    "\n",
    "x = tf.keras.layers.Input(shape=[3])\n",
    "t = tf.keras.layers.Dense(1)(x)\n",
    "model = tf.keras.models.Model(x, t)\n",
    "model.summary()"
   ]
  },
  {
   "cell_type": "code",
   "execution_count": 19,
   "id": "df8d3112",
   "metadata": {
    "collapsed": true
   },
   "outputs": [
    {
     "name": "stdout",
     "output_type": "stream",
     "text": [
      "Epoch 1/50\n",
      "15875/15875 [==============================] - 39s 2ms/step - loss: 86605.8594\n",
      "Epoch 2/50\n",
      "15875/15875 [==============================] - 38s 2ms/step - loss: 4.1525\n",
      "Epoch 3/50\n",
      "15875/15875 [==============================] - 37s 2ms/step - loss: 4.1626\n",
      "Epoch 4/50\n",
      "15875/15875 [==============================] - 38s 2ms/step - loss: 4.1579\n",
      "Epoch 5/50\n",
      "15875/15875 [==============================] - 38s 2ms/step - loss: 4.1508\n",
      "Epoch 6/50\n",
      "15875/15875 [==============================] - 41s 3ms/step - loss: 4.1558\n",
      "Epoch 7/50\n",
      "15875/15875 [==============================] - 39s 2ms/step - loss: 4.1555\n",
      "Epoch 8/50\n",
      "15875/15875 [==============================] - 40s 3ms/step - loss: 4.1562\n",
      "Epoch 9/50\n",
      "15875/15875 [==============================] - 41s 3ms/step - loss: 4.1586\n",
      "Epoch 10/50\n",
      "15875/15875 [==============================] - 40s 3ms/step - loss: 4.1566\n",
      "Epoch 11/50\n",
      "15875/15875 [==============================] - 37s 2ms/step - loss: 4.1427\n",
      "Epoch 12/50\n",
      "15875/15875 [==============================] - 37s 2ms/step - loss: 4.1558\n",
      "Epoch 13/50\n",
      "15875/15875 [==============================] - 38s 2ms/step - loss: 4.1519\n",
      "Epoch 14/50\n",
      "15875/15875 [==============================] - 39s 2ms/step - loss: 4.1565\n",
      "Epoch 15/50\n",
      "15875/15875 [==============================] - 42s 3ms/step - loss: 4.1487\n",
      "Epoch 16/50\n",
      "15875/15875 [==============================] - 39s 2ms/step - loss: 4.1543\n",
      "Epoch 17/50\n",
      "15875/15875 [==============================] - 40s 3ms/step - loss: 4.1601\n",
      "Epoch 18/50\n",
      "15875/15875 [==============================] - 40s 3ms/step - loss: 4.1559\n",
      "Epoch 19/50\n",
      "15875/15875 [==============================] - 39s 2ms/step - loss: 4.1554\n",
      "Epoch 20/50\n",
      "15875/15875 [==============================] - 38s 2ms/step - loss: 4.1529\n",
      "Epoch 21/50\n",
      "15875/15875 [==============================] - 39s 2ms/step - loss: 4.1560\n",
      "Epoch 22/50\n",
      "15875/15875 [==============================] - 41s 3ms/step - loss: 4.1521\n",
      "Epoch 23/50\n",
      "15875/15875 [==============================] - 39s 2ms/step - loss: 4.1562: 0s - \n",
      "Epoch 24/50\n",
      "15875/15875 [==============================] - 38s 2ms/step - loss: 4.1558\n",
      "Epoch 25/50\n",
      "15875/15875 [==============================] - 39s 2ms/step - loss: 4.1513\n",
      "Epoch 26/50\n",
      "15875/15875 [==============================] - 40s 3ms/step - loss: 4.1563\n",
      "Epoch 27/50\n",
      "15875/15875 [==============================] - 40s 3ms/step - loss: 4.1606\n",
      "Epoch 28/50\n",
      "15875/15875 [==============================] - 41s 3ms/step - loss: 4.1620\n",
      "Epoch 29/50\n",
      "15875/15875 [==============================] - 38s 2ms/step - loss: 4.1526\n",
      "Epoch 30/50\n",
      "15875/15875 [==============================] - 41s 3ms/step - loss: 4.1542\n",
      "Epoch 31/50\n",
      "15875/15875 [==============================] - 39s 2ms/step - loss: 4.1550\n",
      "Epoch 32/50\n",
      "15875/15875 [==============================] - 38s 2ms/step - loss: 4.1533\n",
      "Epoch 33/50\n",
      "15875/15875 [==============================] - 40s 3ms/step - loss: 4.1579\n",
      "Epoch 34/50\n",
      "15875/15875 [==============================] - 40s 2ms/step - loss: 4.1522\n",
      "Epoch 35/50\n",
      "15875/15875 [==============================] - 39s 2ms/step - loss: 4.1541\n",
      "Epoch 36/50\n",
      "15875/15875 [==============================] - 44s 3ms/step - loss: 4.1520\n",
      "Epoch 37/50\n",
      "15875/15875 [==============================] - 42s 3ms/step - loss: 4.1551\n",
      "Epoch 38/50\n",
      "15875/15875 [==============================] - 42s 3ms/step - loss: 4.1524\n",
      "Epoch 39/50\n",
      "15875/15875 [==============================] - 41s 3ms/step - loss: 4.1532\n",
      "Epoch 40/50\n",
      "15875/15875 [==============================] - 42s 3ms/step - loss: 4.1448\n",
      "Epoch 41/50\n",
      "15875/15875 [==============================] - 39s 2ms/step - loss: 4.1565\n",
      "Epoch 42/50\n",
      "15875/15875 [==============================] - 38s 2ms/step - loss: 4.1484\n",
      "Epoch 43/50\n",
      "15875/15875 [==============================] - 38s 2ms/step - loss: 4.1512\n",
      "Epoch 44/50\n",
      "15875/15875 [==============================] - 39s 2ms/step - loss: 4.1591\n",
      "Epoch 45/50\n",
      "15875/15875 [==============================] - 41s 3ms/step - loss: 4.1534\n",
      "Epoch 46/50\n",
      "15875/15875 [==============================] - 38s 2ms/step - loss: 4.1579\n",
      "Epoch 47/50\n",
      "15875/15875 [==============================] - 37s 2ms/step - loss: 4.1466\n",
      "Epoch 48/50\n",
      "15875/15875 [==============================] - 38s 2ms/step - loss: 4.1435\n",
      "Epoch 49/50\n",
      "15875/15875 [==============================] - 39s 2ms/step - loss: 4.1481\n",
      "Epoch 50/50\n",
      "15875/15875 [==============================] - 38s 2ms/step - loss: 4.1546\n"
     ]
    },
    {
     "data": {
      "text/plain": [
       "<keras.callbacks.History at 0x2900fdb6790>"
      ]
     },
     "execution_count": 19,
     "metadata": {},
     "output_type": "execute_result"
    }
   ],
   "source": [
    "model.compile(loss='mse')\n",
    "\n",
    "model.fit(x_data, t_data, epochs=50, verbose=1)"
   ]
  },
  {
   "cell_type": "code",
   "execution_count": 20,
   "id": "3d813022",
   "metadata": {},
   "outputs": [],
   "source": [
    "model.save('./tf_model.h5')"
   ]
  },
  {
   "cell_type": "code",
   "execution_count": 42,
   "id": "0b1d54ba",
   "metadata": {},
   "outputs": [
    {
     "data": {
      "text/plain": [
       "array([0.84765388, 0.87543031, 0.78102303, ..., 0.86742791, 0.92387146,\n",
       "       0.81705577])"
      ]
     },
     "execution_count": 42,
     "metadata": {},
     "output_type": "execute_result"
    }
   ],
   "source": [
    "model.predict(x_data)"
   ]
  },
  {
   "cell_type": "code",
   "execution_count": 19,
   "id": "fb7faab1",
   "metadata": {},
   "outputs": [
    {
     "ename": "AttributeError",
     "evalue": "'Functional' object has no attribute 'score'",
     "output_type": "error",
     "traceback": [
      "\u001b[1;31m---------------------------------------------------------------------------\u001b[0m",
      "\u001b[1;31mAttributeError\u001b[0m                            Traceback (most recent call last)",
      "Input \u001b[1;32mIn [19]\u001b[0m, in \u001b[0;36m<cell line: 1>\u001b[1;34m()\u001b[0m\n\u001b[1;32m----> 1\u001b[0m \u001b[43mmodel\u001b[49m\u001b[38;5;241;43m.\u001b[39;49m\u001b[43mscore\u001b[49m(X_test, y_test)\n",
      "\u001b[1;31mAttributeError\u001b[0m: 'Functional' object has no attribute 'score'"
     ]
    }
   ],
   "source": [
    "model.score(X_test, y_test)"
   ]
  },
  {
   "cell_type": "code",
   "execution_count": null,
   "id": "f91fb1ca",
   "metadata": {},
   "outputs": [],
   "source": [
    "print('평가 데이터 점수: {}'.format((X_test, y_test)))"
   ]
  },
  {
   "cell_type": "code",
   "execution_count": 44,
   "id": "8a9e3b89",
   "metadata": {
    "scrolled": false
   },
   "outputs": [
    {
     "name": "stdout",
     "output_type": "stream",
     "text": [
      "테스트 세트 정확도: 0.03\n"
     ]
    }
   ],
   "source": [
    "print(\"테스트 세트 정확도: {:.2f}\".format(model.score(x_data, t_data)))"
   ]
  },
  {
   "cell_type": "code",
   "execution_count": 2,
   "id": "47358535",
   "metadata": {},
   "outputs": [],
   "source": [
    "################ SVM\n",
    "import multiprocessing\n",
    "from sklearn.svm import SVR, SVC\n",
    "#import matplotlib.pyplot as plt\n",
    "from sklearn.pipeline import make_pipeline, Pipeline\n",
    "from sklearn.model_selection import train_test_split, cross_validate, GridSearchCV"
   ]
  },
  {
   "cell_type": "code",
   "execution_count": 3,
   "id": "17ef80c4",
   "metadata": {},
   "outputs": [],
   "source": [
    "from sklearn.model_selection import train_test_split\n",
    "X_train, X_test, y_train, y_test = train_test_split(x_data, t_data, test_size=0.3, random_state=1, stratify=t_data)"
   ]
  },
  {
   "cell_type": "code",
   "execution_count": 4,
   "id": "280c7f71",
   "metadata": {},
   "outputs": [
    {
     "data": {
      "text/plain": [
       "'\\nmodel = SVR()\\nmodel.fit(X_train, y_train)\\n\\nprint(\"학습 데이터 점수: {}\".model.score(X_train, y_train))\\nprint(\"평가 데이터 점수: {}\".model.score(X_test, y_test))\\n'"
      ]
     },
     "execution_count": 4,
     "metadata": {},
     "output_type": "execute_result"
    }
   ],
   "source": [
    "'''\n",
    "model = SVR()\n",
    "model.fit(X_train, y_train)\n",
    "\n",
    "print(\"학습 데이터 점수: {}\".model.score(X_train, y_train))\n",
    "print(\"평가 데이터 점수: {}\".model.score(X_test, y_test))\n",
    "'''"
   ]
  },
  {
   "cell_type": "code",
   "execution_count": 6,
   "id": "23111b17",
   "metadata": {},
   "outputs": [
    {
     "data": {
      "text/html": [
       "<div>\n",
       "<style scoped>\n",
       "    .dataframe tbody tr th:only-of-type {\n",
       "        vertical-align: middle;\n",
       "    }\n",
       "\n",
       "    .dataframe tbody tr th {\n",
       "        vertical-align: top;\n",
       "    }\n",
       "\n",
       "    .dataframe thead th {\n",
       "        text-align: right;\n",
       "    }\n",
       "</style>\n",
       "<table border=\"1\" class=\"dataframe\">\n",
       "  <thead>\n",
       "    <tr style=\"text-align: right;\">\n",
       "      <th></th>\n",
       "      <th>기온</th>\n",
       "      <th>습도</th>\n",
       "      <th>co2</th>\n",
       "    </tr>\n",
       "  </thead>\n",
       "  <tbody>\n",
       "    <tr>\n",
       "      <th>79514</th>\n",
       "      <td>-3.6</td>\n",
       "      <td>53.0</td>\n",
       "      <td>6545</td>\n",
       "    </tr>\n",
       "    <tr>\n",
       "      <th>307533</th>\n",
       "      <td>6.4</td>\n",
       "      <td>76.0</td>\n",
       "      <td>6981</td>\n",
       "    </tr>\n",
       "    <tr>\n",
       "      <th>461234</th>\n",
       "      <td>14.3</td>\n",
       "      <td>100.0</td>\n",
       "      <td>6852</td>\n",
       "    </tr>\n",
       "    <tr>\n",
       "      <th>112346</th>\n",
       "      <td>-1.8</td>\n",
       "      <td>23.0</td>\n",
       "      <td>3575</td>\n",
       "    </tr>\n",
       "    <tr>\n",
       "      <th>205272</th>\n",
       "      <td>9.6</td>\n",
       "      <td>77.0</td>\n",
       "      <td>4096</td>\n",
       "    </tr>\n",
       "    <tr>\n",
       "      <th>...</th>\n",
       "      <td>...</td>\n",
       "      <td>...</td>\n",
       "      <td>...</td>\n",
       "    </tr>\n",
       "    <tr>\n",
       "      <th>286356</th>\n",
       "      <td>10.3</td>\n",
       "      <td>48.0</td>\n",
       "      <td>953</td>\n",
       "    </tr>\n",
       "    <tr>\n",
       "      <th>801380</th>\n",
       "      <td>10.4</td>\n",
       "      <td>60.0</td>\n",
       "      <td>3416</td>\n",
       "    </tr>\n",
       "    <tr>\n",
       "      <th>595838</th>\n",
       "      <td>15.1</td>\n",
       "      <td>51.0</td>\n",
       "      <td>4579</td>\n",
       "    </tr>\n",
       "    <tr>\n",
       "      <th>76034</th>\n",
       "      <td>-2.4</td>\n",
       "      <td>50.0</td>\n",
       "      <td>555</td>\n",
       "    </tr>\n",
       "    <tr>\n",
       "      <th>512650</th>\n",
       "      <td>8.8</td>\n",
       "      <td>52.0</td>\n",
       "      <td>3278</td>\n",
       "    </tr>\n",
       "  </tbody>\n",
       "</table>\n",
       "<p>10000 rows × 3 columns</p>\n",
       "</div>"
      ],
      "text/plain": [
       "          기온     습도   co2\n",
       "79514   -3.6   53.0  6545\n",
       "307533   6.4   76.0  6981\n",
       "461234  14.3  100.0  6852\n",
       "112346  -1.8   23.0  3575\n",
       "205272   9.6   77.0  4096\n",
       "...      ...    ...   ...\n",
       "286356  10.3   48.0   953\n",
       "801380  10.4   60.0  3416\n",
       "595838  15.1   51.0  4579\n",
       "76034   -2.4   50.0   555\n",
       "512650   8.8   52.0  3278\n",
       "\n",
       "[10000 rows x 3 columns]"
      ]
     },
     "execution_count": 6,
     "metadata": {},
     "output_type": "execute_result"
    }
   ],
   "source": [
    "X_train[:10000]"
   ]
  },
  {
   "cell_type": "code",
   "execution_count": 5,
   "id": "4295eede",
   "metadata": {},
   "outputs": [
    {
     "data": {
      "text/plain": [
       "SVC()"
      ]
     },
     "execution_count": 5,
     "metadata": {},
     "output_type": "execute_result"
    }
   ],
   "source": [
    "model = SVC()\n",
    "model.fit(X_train[:10000], y_train[:10000])"
   ]
  },
  {
   "cell_type": "code",
   "execution_count": 8,
   "id": "e573e7d6",
   "metadata": {},
   "outputs": [
    {
     "data": {
      "text/plain": [
       "0.6182"
      ]
     },
     "execution_count": 8,
     "metadata": {},
     "output_type": "execute_result"
    }
   ],
   "source": [
    "acc = model.score(X_train[:10000], y_train[:10000])\n",
    "acc"
   ]
  },
  {
   "cell_type": "code",
   "execution_count": null,
   "id": "5793bb0f",
   "metadata": {},
   "outputs": [],
   "source": [
    "print(\"학습 데이터 점수: {:.4f}\".format(model.score(X_train, y_train)))\n",
    "print(\"평가 데이터 점수: {:.4f}\".format(model.score(X_test, y_test)))"
   ]
  },
  {
   "cell_type": "code",
   "execution_count": null,
   "id": "6a8ab1f9",
   "metadata": {},
   "outputs": [],
   "source": []
  },
  {
   "cell_type": "code",
   "execution_count": 1,
   "id": "8f4471bc",
   "metadata": {},
   "outputs": [
    {
     "name": "stdout",
     "output_type": "stream",
     "text": [
      "Once deleted, variables cannot be recovered. Proceed (y/[n])? y\n"
     ]
    }
   ],
   "source": [
    "%reset"
   ]
  },
  {
   "cell_type": "code",
   "execution_count": 12,
   "id": "100677db",
   "metadata": {},
   "outputs": [
    {
     "name": "stdout",
     "output_type": "stream",
     "text": [
      "c:\\jupyter_home\\Machine_Learning\\ML_Project_5th\\5th_ML_Project\\Code\n"
     ]
    }
   ],
   "source": [
    "import os\n",
    "print(os.getcwd())\n",
    "\n",
    "import warnings\n",
    "warnings.filterwarnings(action='ignore')\n",
    "\n",
    "import pandas as pd\n",
    "import numpy as np\n",
    "\n",
    "df = pd.read_csv('./nature_final.csv', encoding='utf-8')\n",
    "df = df.drop('Unnamed: 0', axis=1)\n",
    "df.columns=['기온', '습도', 'co2', 'label']\n",
    "#display(df.head())\n",
    "\n",
    "df = df.drop(df.loc[df['기온'] < -20].index)\n",
    "#display(df.head())\n",
    "\n",
    "df['label'].value_counts()\n",
    "\n",
    "x_data = df[['기온','습도','co2']]\n",
    "t_data = df['label']\n",
    "\n",
    "from imblearn.over_sampling import RandomOverSampler\n",
    "#from matplotlib import pyplot as plt\n",
    "\n",
    "ros = RandomOverSampler(random_state=42)\n",
    "# label_s = new['label'].value_counts()\n",
    "# label_s_x = np.reshape([0,1],(-1,1))\n",
    "\n",
    "x_data,t_data = ros.fit_resample(x_data,t_data)\n",
    "\n",
    "# plt.bar(x_data, t_data)\n",
    "#plt.bar(['0','1'],t_data.value_counts())"
   ]
  },
  {
   "cell_type": "code",
   "execution_count": 52,
   "id": "4bb018ca",
   "metadata": {},
   "outputs": [
    {
     "name": "stdout",
     "output_type": "stream",
     "text": [
      "[0.82980675 0.8800695  0.90002664 ... 0.81528004 0.75304389 0.7672897 ]\n"
     ]
    }
   ],
   "source": [
    "################ ridge regression\n",
    "from sklearn.linear_model import Ridge\n",
    "from sklearn.model_selection import train_test_split\n",
    "\n",
    "X_train, X_test, y_train, y_test = train_test_split(x_data,t_data, random_state=0)\n",
    "\n",
    "model = Ridge(random_state=0).fit(X_train, y_train)\n",
    "pred = model.predict(X_test)\n",
    "print(pred)"
   ]
  },
  {
   "cell_type": "code",
   "execution_count": 53,
   "id": "820a0a7f",
   "metadata": {},
   "outputs": [
    {
     "name": "stdout",
     "output_type": "stream",
     "text": [
      "테스트 세트 정확도: 0.03\n"
     ]
    }
   ],
   "source": [
    "print(\"테스트 세트 정확도: {:.2f}\".format(model.score(X_test, y_test)))"
   ]
  },
  {
   "cell_type": "code",
   "execution_count": 13,
   "id": "4c6e0155",
   "metadata": {},
   "outputs": [],
   "source": [
    "################ DecisionTree\n",
    "from sklearn.tree import DecisionTreeClassifier\n",
    "from sklearn.model_selection import cross_val_score\n",
    "\n",
    "model = DecisionTreeClassifier()"
   ]
  },
  {
   "cell_type": "code",
   "execution_count": 14,
   "id": "d4c7fed5",
   "metadata": {},
   "outputs": [
    {
     "name": "stdout",
     "output_type": "stream",
     "text": [
      "교차검증 평균: 1.00\n"
     ]
    }
   ],
   "source": [
    "r = cross_val_score(estimator=model, cv=5, X=x_data, y=t_data)\n",
    "print('교차검증 평균: %.2f'%(r.mean()))"
   ]
  },
  {
   "cell_type": "code",
   "execution_count": 15,
   "id": "726614cc",
   "metadata": {},
   "outputs": [],
   "source": [
    "################ KNN\n",
    "from sklearn.model_selection import train_test_split\n",
    "X_train, X_test, y_train, y_test = train_test_split(x_data,t_data)"
   ]
  },
  {
   "cell_type": "code",
   "execution_count": 16,
   "id": "198fede6",
   "metadata": {},
   "outputs": [
    {
     "name": "stdout",
     "output_type": "stream",
     "text": [
      "학습 데이터 점수: 0.9909367267585719\n",
      "평가 데이터 점수: 0.9817037822552138\n"
     ]
    }
   ],
   "source": [
    "from sklearn.neighbors import KNeighborsClassifier\n",
    "model = KNeighborsClassifier(n_neighbors=3)\n",
    "model.fit(X_train, y_train)\n",
    "print('학습 데이터 점수: {}'.format(model.score(X_train, y_train)))\n",
    "print('평가 데이터 점수: {}'.format(model.score(X_test, y_test)))"
   ]
  },
  {
   "cell_type": "markdown",
   "id": "2dbf5dc8",
   "metadata": {},
   "source": [
    "***"
   ]
  },
  {
   "cell_type": "code",
   "execution_count": null,
   "id": "b23e3694",
   "metadata": {},
   "outputs": [],
   "source": []
  }
 ],
 "metadata": {
  "kernelspec": {
   "display_name": "Python [conda env:ML_Project_5th] *",
   "language": "python",
   "name": "conda-env-ML_Project_5th-py"
  },
  "language_info": {
   "codemirror_mode": {
    "name": "ipython",
    "version": 3
   },
   "file_extension": ".py",
   "mimetype": "text/x-python",
   "name": "python",
   "nbconvert_exporter": "python",
   "pygments_lexer": "ipython3",
   "version": "3.8.0"
  }
 },
 "nbformat": 4,
 "nbformat_minor": 5
}
