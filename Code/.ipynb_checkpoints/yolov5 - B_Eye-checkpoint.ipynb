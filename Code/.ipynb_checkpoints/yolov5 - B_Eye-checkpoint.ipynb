{
 "cells": [
  {
   "cell_type": "code",
   "execution_count": 1,
   "id": "7c5d20fd",
   "metadata": {},
   "outputs": [
    {
     "name": "stdout",
     "output_type": "stream",
     "text": [
      "Once deleted, variables cannot be recovered. Proceed (y/[n])? y\n"
     ]
    }
   ],
   "source": [
    "%reset"
   ]
  },
  {
   "cell_type": "code",
   "execution_count": 2,
   "id": "3391ec2c",
   "metadata": {},
   "outputs": [
    {
     "name": "stdout",
     "output_type": "stream",
     "text": [
      "c:\\jupyter_home\\Machine_Learning\\ML_Project_5th\\5th_ML_Project\\Code\n"
     ]
    }
   ],
   "source": [
    "import os\n",
    "print(os.getcwd())"
   ]
  },
  {
   "cell_type": "code",
   "execution_count": 3,
   "id": "e41907b4",
   "metadata": {},
   "outputs": [],
   "source": [
    "import os\n",
    "os.environ[\"CUDA_VISIBLE_DEVICES\"] = \"0\""
   ]
  },
  {
   "cell_type": "code",
   "execution_count": 6,
   "id": "fc13d68c",
   "metadata": {
    "scrolled": true
   },
   "outputs": [
    {
     "data": {
      "text/plain": [
       "[name: \"/device:CPU:0\"\n",
       " device_type: \"CPU\"\n",
       " memory_limit: 268435456\n",
       " locality {\n",
       " }\n",
       " incarnation: 17776811109413139637\n",
       " xla_global_id: -1,\n",
       " name: \"/device:GPU:0\"\n",
       " device_type: \"GPU\"\n",
       " memory_limit: 4158062592\n",
       " locality {\n",
       "   bus_id: 1\n",
       "   links {\n",
       "   }\n",
       " }\n",
       " incarnation: 10516199773867301912\n",
       " physical_device_desc: \"device: 0, name: NVIDIA GeForce RTX 2060, pci bus id: 0000:07:00.0, compute capability: 7.5\"\n",
       " xla_global_id: 416903419]"
      ]
     },
     "execution_count": 6,
     "metadata": {},
     "output_type": "execute_result"
    }
   ],
   "source": [
    "from tensorflow.python.client import device_lib\n",
    "device_lib.list_local_devices()"
   ]
  },
  {
   "cell_type": "code",
   "execution_count": 2,
   "id": "be971cf0",
   "metadata": {},
   "outputs": [],
   "source": [
    "from glob import glob"
   ]
  },
  {
   "cell_type": "code",
   "execution_count": 3,
   "id": "00e14c2b",
   "metadata": {},
   "outputs": [
    {
     "name": "stdout",
     "output_type": "stream",
     "text": [
      "c:\\jupyter_home\\Machine_Learning\\ML_Project_5th\\5th_ML_Project\\Code\n"
     ]
    }
   ],
   "source": [
    "import os\n",
    "print(os.getcwd())"
   ]
  },
  {
   "cell_type": "code",
   "execution_count": 8,
   "id": "7e7bb95e",
   "metadata": {},
   "outputs": [
    {
     "name": "stdout",
     "output_type": "stream",
     "text": [
      "4846\n"
     ]
    }
   ],
   "source": [
    "img_list = glob('../Data/dataset_B_Eye_Images/1Eyes/*.jpg')\n",
    "print(len(img_list))"
   ]
  },
  {
   "cell_type": "code",
   "execution_count": 11,
   "id": "4cc2f666",
   "metadata": {},
   "outputs": [
    {
     "name": "stdout",
     "output_type": "stream",
     "text": [
      "234 59\n"
     ]
    }
   ],
   "source": [
    "'''\n",
    "# train / test 분리\n",
    "from sklearn.model_selection import train_test_split\n",
    "train_img_list, val_img_list = train_test_split(img_list, test_size=0.2, random_state=2000)\n",
    "print(len(train_img_list), len(val_img_list))\n",
    "'''"
   ]
  },
  {
   "cell_type": "code",
   "execution_count": 16,
   "id": "b00bd5e6",
   "metadata": {
    "scrolled": true
   },
   "outputs": [
    {
     "name": "stdout",
     "output_type": "stream",
     "text": [
      "C:\\jupyter_home\\Machine_Learning\\ML_Project_5th\\5th_ML_Project\\Data\\dataset\n"
     ]
    }
   ],
   "source": [
    "cd C:\\jupyter_home\\Machine_Learning\\ML_Project_5th\\5th_ML_Project\\Data\\dataset"
   ]
  },
  {
   "cell_type": "code",
   "execution_count": 18,
   "id": "5c4a92b0",
   "metadata": {},
   "outputs": [],
   "source": [
    "'''\n",
    "# train / val 나눠서 경로 저장\n",
    "with open('./test/train.txt', 'w') as f:\n",
    "    f.write('/n'.join(train_img_list) + '\\n')\n",
    "    \n",
    "with open('./test/val.txt', 'w') as f:\n",
    "    f.write('/n'.join(val_img_list) + '\\n')\n",
    "'''    "
   ]
  },
  {
   "cell_type": "code",
   "execution_count": 9,
   "id": "96db01b1",
   "metadata": {},
   "outputs": [
    {
     "name": "stdout",
     "output_type": "stream",
     "text": [
      "c:\\jupyter_home\\Machine_Learning\\ML_Project_5th\\5th_ML_Project\\Code\n"
     ]
    }
   ],
   "source": [
    "import os\n",
    "print(os.getcwd())"
   ]
  },
  {
   "cell_type": "code",
   "execution_count": 20,
   "id": "f6724d61",
   "metadata": {},
   "outputs": [
    {
     "name": "stdout",
     "output_type": "stream",
     "text": [
      "C:\\Windows\\System32\\yolov5\n"
     ]
    }
   ],
   "source": [
    "cd C:\\Windows\\System32\\yolov5"
   ]
  },
  {
   "cell_type": "code",
   "execution_count": 22,
   "id": "94270834",
   "metadata": {},
   "outputs": [
    {
     "name": "stdout",
     "output_type": "stream",
     "text": [
      "C:\\Windows\\System32\\yolov5\n"
     ]
    }
   ],
   "source": [
    "import os\n",
    "print(os.getcwd())"
   ]
  },
  {
   "cell_type": "code",
   "execution_count": 23,
   "id": "03e18de3",
   "metadata": {},
   "outputs": [
    {
     "name": "stdout",
     "output_type": "stream",
     "text": [
      " C 드라이브의 볼륨에는 이름이 없습니다.\n",
      " 볼륨 일련 번호: A6CC-5BD2\n",
      "\n",
      " C:\\Windows\\System32\\yolov5 디렉터리\n",
      "\n",
      "2022-04-27  오후 06:06    <DIR>          .\n",
      "2022-04-27  오후 06:06    <DIR>          ..\n",
      "2022-04-27  오후 03:43                77 .gitattributes\n",
      "2022-04-27  오후 03:43    <DIR>          .github\n",
      "2022-04-27  오후 03:43             4,238 .gitignore\n",
      "2022-04-27  오후 03:43             1,651 .pre-commit-config.yaml\n",
      "2022-04-27  오후 05:43    <DIR>          __pycache__\n",
      "2022-04-27  오후 03:43             5,062 CONTRIBUTING.md\n",
      "2022-04-27  오후 03:43    <DIR>          data\n",
      "2022-04-27  오후 03:43            13,553 detect.py\n",
      "2022-04-27  오후 03:43            29,994 export.py\n",
      "2022-04-27  오후 03:43             6,589 hubconf.py\n",
      "2022-04-27  오후 03:43            35,801 LICENSE\n",
      "2022-04-27  오후 05:43    <DIR>          models\n",
      "2022-04-27  오후 03:43            16,136 README.md\n",
      "2022-04-27  오후 03:43               963 requirements.txt\n",
      "2022-04-27  오후 05:43    <DIR>          runs\n",
      "2022-04-27  오후 03:43             1,790 setup.cfg\n",
      "2022-04-27  오후 03:43            35,454 train.py\n",
      "2022-04-27  오후 03:43            57,593 tutorial.ipynb\n",
      "2022-04-27  오후 05:43    <DIR>          utils\n",
      "2022-04-27  오후 03:43            19,955 val.py\n",
      "2022-04-27  오후 06:06        14,808,437 yolov5s.pt\n",
      "              15개 파일          15,037,293 바이트\n",
      "               8개 디렉터리  26,896,265,216 바이트 남음\n"
     ]
    }
   ],
   "source": [
    "ls"
   ]
  },
  {
   "cell_type": "code",
   "execution_count": 24,
   "id": "b259f49c",
   "metadata": {},
   "outputs": [
    {
     "name": "stdout",
     "output_type": "stream",
     "text": [
      "C:\\Windows\\System32\\yolov5\n"
     ]
    }
   ],
   "source": [
    "cd C:\\Windows\\System32\\yolov5"
   ]
  },
  {
   "cell_type": "code",
   "execution_count": 25,
   "id": "0d3e6ce0",
   "metadata": {},
   "outputs": [
    {
     "name": "stdout",
     "output_type": "stream",
     "text": [
      "C:\\Windows\\System32\\yolov5\n"
     ]
    }
   ],
   "source": [
    "import os\n",
    "print(os.getcwd())"
   ]
  },
  {
   "cell_type": "code",
   "execution_count": 28,
   "id": "c10283ac",
   "metadata": {
    "scrolled": true
   },
   "outputs": [
    {
     "name": "stdout",
     "output_type": "stream",
     "text": [
      "Command 'git fetch && git config --get remote.origin.url' returned non-zero exit status 255.\n"
     ]
    },
    {
     "name": "stderr",
     "output_type": "stream",
     "text": [
      "\u001b[34m\u001b[1mtrain: \u001b[0mweights=yolov5s.pt, cfg=C:\\Windows\\System32\\yolov5\\models\\, data=C:\\jupyter_home\\Machine_Learning\\ML_Project_5th\\5th_ML_Project\\Data\\dataset\\eyes.yaml, hyp=data\\hyps\\hyp.scratch-low.yaml, epochs=50, batch_size=16, imgsz=300, rect=False, resume=False, nosave=False, noval=False, noautoanchor=False, noplots=False, evolve=None, bucket=, cache=None, image_weights=False, device=, multi_scale=False, single_cls=False, optimizer=SGD, sync_bn=False, workers=8, project=runs\\train, name=eyes_results, exist_ok=False, quad=False, cos_lr=False, label_smoothing=0.0, patience=100, freeze=[0], save_period=-1, local_rank=-1, entity=None, upload_dataset=False, bbox_interval=-1, artifact_alias=latest\n",
      "error: cannot open .git/FETCH_HEAD: Permission denied\n",
      "Traceback (most recent call last):\n",
      "  File \"train.py\", line 668, in <module>\n",
      "    main(opt)\n",
      "  File \"train.py\", line 538, in main\n",
      "    check_file(opt.data), check_yaml(opt.cfg), check_yaml(opt.hyp), str(opt.weights), str(opt.project)  # checks\n",
      "  File \"C:\\Windows\\System32\\yolov5\\utils\\general.py\", line 400, in check_yaml\n",
      "    return check_file(file, suffix)\n",
      "  File \"C:\\Windows\\System32\\yolov5\\utils\\general.py\", line 424, in check_file\n",
      "    assert len(files) == 1, f\"Multiple files match '{file}', specify exact path: {files}\"  # assert unique\n",
      "AssertionError: Multiple files match 'C:\\Windows\\System32\\yolov5\\models\\', specify exact path: ['C:\\\\Windows\\\\System32\\\\yolov5\\\\models', 'C:\\\\Windows\\\\System32\\\\yolov5\\\\models', 'C:\\\\Windows\\\\System32\\\\yolov5\\\\models']\n"
     ]
    }
   ],
   "source": [
    "!python train.py --img 300 --batch 16 --epochs 50 --data C:\\jupyter_home\\Machine_Learning\\ML_Project_5th\\5th_ML_Project\\Data\\dataset\\eyes.yaml --cfg C:\\Windows\\System32\\yolov5\\models\\ --weights yolov5s.pt --name eyes_results"
   ]
  },
  {
   "cell_type": "code",
   "execution_count": null,
   "id": "ccbd9dc6",
   "metadata": {},
   "outputs": [],
   "source": []
  }
 ],
 "metadata": {
  "kernelspec": {
   "display_name": "Python [conda env:ML_Project_5th] *",
   "language": "python",
   "name": "conda-env-ML_Project_5th-py"
  },
  "language_info": {
   "codemirror_mode": {
    "name": "ipython",
    "version": 3
   },
   "file_extension": ".py",
   "mimetype": "text/x-python",
   "name": "python",
   "nbconvert_exporter": "python",
   "pygments_lexer": "ipython3",
   "version": "3.8.0"
  }
 },
 "nbformat": 4,
 "nbformat_minor": 5
}
