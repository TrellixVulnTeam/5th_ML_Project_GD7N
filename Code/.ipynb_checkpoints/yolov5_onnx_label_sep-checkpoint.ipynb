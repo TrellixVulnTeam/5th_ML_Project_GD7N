{
 "cells": [
  {
   "cell_type": "code",
   "execution_count": 1,
   "id": "5f1a13eb",
   "metadata": {},
   "outputs": [
    {
     "name": "stdout",
     "output_type": "stream",
     "text": [
      "c:\\jupyter_home\\ML_Project\\5th_ML_Project\\Code\n"
     ]
    }
   ],
   "source": [
    "import os\n",
    "print(os.getcwd())"
   ]
  },
  {
   "cell_type": "code",
   "execution_count": 47,
   "id": "e80d2de0",
   "metadata": {},
   "outputs": [
    {
     "data": {
      "text/plain": [
       "1"
      ]
     },
     "execution_count": 47,
     "metadata": {},
     "output_type": "execute_result"
    }
   ],
   "source": [
    "# txt 파일 열어서 label 값만 불러오기\n",
    "filepath = './0_0.txt'\n",
    "f=open(filepath,'r')\n",
    "a = f.readlines()\n",
    "int(a[0][0])"
   ]
  },
  {
   "cell_type": "code",
   "execution_count": 60,
   "id": "127a9dbc",
   "metadata": {},
   "outputs": [
    {
     "name": "stdout",
     "output_type": "stream",
     "text": [
      "53\n"
     ]
    }
   ],
   "source": [
    "# 폴더 내 파일 개수 불러오기\n",
    "import os\n",
    "\n",
    "list = os.listdir('./') # dir is your directory path\n",
    "number_files = len(list)\n",
    "print(number_files)"
   ]
  },
  {
   "cell_type": "code",
   "execution_count": 61,
   "id": "a34fbab5",
   "metadata": {},
   "outputs": [
    {
     "name": "stdout",
     "output_type": "stream",
     "text": [
      "['0_0.txt', '0_1.txt', '0_10.txt', '0_11.txt', '0_12.txt', '0_13.txt', '0_14.txt', '0_15.txt', '0_16.txt', '0_17.txt', '0_18.txt', '0_19.txt', '0_2.txt', '0_20.txt', '0_21.txt', '0_22.txt', '0_23.txt', '0_24.txt', '0_3.txt', '0_30.txt', '0_31.txt', '0_33.txt', '0_34.txt', '0_35.txt', '0_36.txt', '0_37.txt', '0_38.txt', '0_39.txt', '0_4.txt', '0_40.txt', '0_41.txt', '0_42.txt', '0_43.txt', '0_44.txt', '0_45.txt', '0_46.txt', '0_47.txt', '0_48.txt', '0_49.txt', '0_5.txt', '0_50.txt', '0_51.txt', '0_52.txt', '0_53.txt', '0_54.txt', '0_55.txt', '0_56.txt', '0_57.txt', '0_58.txt', '0_6.txt', '0_7.txt', '0_8.txt', '0_9.txt']\n"
     ]
    }
   ],
   "source": [
    "print(list)"
   ]
  },
  {
   "cell_type": "code",
   "execution_count": 58,
   "id": "20ede843",
   "metadata": {},
   "outputs": [
    {
     "ename": "KeyboardInterrupt",
     "evalue": "",
     "output_type": "error",
     "traceback": [
      "\u001b[1;31m---------------------------------------------------------------------------\u001b[0m",
      "\u001b[1;31mKeyboardInterrupt\u001b[0m                         Traceback (most recent call last)",
      "Input \u001b[1;32mIn [58]\u001b[0m, in \u001b[0;36m<cell line: 2>\u001b[1;34m()\u001b[0m\n\u001b[0;32m      1\u001b[0m \u001b[38;5;28;01mwhile\u001b[39;00m \u001b[38;5;28;01mTrue\u001b[39;00m:\n\u001b[0;32m      2\u001b[0m     filepath \u001b[38;5;241m=\u001b[39m \u001b[38;5;124m'\u001b[39m\u001b[38;5;124m./0_0.txt\u001b[39m\u001b[38;5;124m'\u001b[39m\n\u001b[1;32m----> 3\u001b[0m     f\u001b[38;5;241m=\u001b[39m\u001b[38;5;28mopen\u001b[39m(filepath,\u001b[38;5;124m'\u001b[39m\u001b[38;5;124mr\u001b[39m\u001b[38;5;124m'\u001b[39m)\n\u001b[0;32m      4\u001b[0m     a \u001b[38;5;241m=\u001b[39m f\u001b[38;5;241m.\u001b[39mreadlines()\n\u001b[0;32m      5\u001b[0m     \u001b[38;5;28mint\u001b[39m(a[\u001b[38;5;241m0\u001b[39m][\u001b[38;5;241m0\u001b[39m])\n",
      "\u001b[1;31mKeyboardInterrupt\u001b[0m: "
     ]
    }
   ],
   "source": [
    "# 연속적으로 txt 파일 열어서 label 값 불러오기\n",
    "# 불러온 파일 count와\n",
    "# number_files 개수 -1 이 일치하면 while 문 break\n",
    "'''\n",
    "while True:\n",
    "    filepath = './0_0.txt'\n",
    "    f=open(filepath,'r')\n",
    "    a = f.readlines()\n",
    "    int(a[0][0])\n",
    "'''\n",
    "\n",
    "t = open('c:/jupyter_home/yolov5/runs/detect/exp5/label_file.txt','w')\n",
    "for i in range(20):\n",
    "    filepath = './runs/detect/exp5/labels/0_'+str(i+1)+'.txt'\n",
    "    f = open(filepath,'r')\n",
    "    text = f.readlines()\n",
    "    label = int(text[0][0])\n",
    "    t.write(str(label)+'\\n')\n",
    "t.close()\n",
    "\n",
    "\n",
    "######################################\n",
    "# 그 후에 db에 저장"
   ]
  },
  {
   "cell_type": "code",
   "execution_count": null,
   "id": "3dc73437",
   "metadata": {},
   "outputs": [],
   "source": []
  },
  {
   "cell_type": "code",
   "execution_count": null,
   "id": "39e0154a",
   "metadata": {},
   "outputs": [],
   "source": [
    "t = open('c:/jupyter_home/yolov5/runs/detect/exp5/label_file.txt','w')\n",
    "for i in range(20):\n",
    "    filepath = './runs/detect/exp5/labels/0_'+str(i+1)+'.txt'\n",
    "    f = open(filepath,'r')\n",
    "    text = f.readlines()\n",
    "    label = int(text[0][0])\n",
    "    t.write(str(label)+'\\n')\n",
    "t.close()"
   ]
  },
  {
   "cell_type": "code",
   "execution_count": 62,
   "id": "5cb2764f",
   "metadata": {},
   "outputs": [
    {
     "ename": "OSError",
     "evalue": "[Errno 22] Invalid argument: 'C:\\\\jupyter_home\\\\ML_Project\\x05th_ML_Project\\\\yolov5\\runs\\\\detect\\\\exp6\\\\labels'",
     "output_type": "error",
     "traceback": [
      "\u001b[1;31m---------------------------------------------------------------------------\u001b[0m",
      "\u001b[1;31mOSError\u001b[0m                                   Traceback (most recent call last)",
      "Input \u001b[1;32mIn [62]\u001b[0m, in \u001b[0;36m<cell line: 1>\u001b[1;34m()\u001b[0m\n\u001b[1;32m----> 1\u001b[0m t \u001b[38;5;241m=\u001b[39m \u001b[38;5;28;43mopen\u001b[39;49m\u001b[43m(\u001b[49m\u001b[38;5;124;43m'\u001b[39;49m\u001b[38;5;124;43mC:\u001b[39;49m\u001b[38;5;124;43m\\\u001b[39;49m\u001b[38;5;124;43mjupyter_home\u001b[39;49m\u001b[38;5;124;43m\\\u001b[39;49m\u001b[38;5;124;43mML_Project\u001b[39;49m\u001b[38;5;130;43;01m\\5\u001b[39;49;00m\u001b[38;5;124;43mth_ML_Project\u001b[39;49m\u001b[38;5;124;43m\\\u001b[39;49m\u001b[38;5;124;43myolov5\u001b[39;49m\u001b[38;5;130;43;01m\\r\u001b[39;49;00m\u001b[38;5;124;43muns\u001b[39;49m\u001b[38;5;124;43m\\\u001b[39;49m\u001b[38;5;124;43mdetect\u001b[39;49m\u001b[38;5;124;43m\\\u001b[39;49m\u001b[38;5;124;43mexp6\u001b[39;49m\u001b[38;5;124;43m\\\u001b[39;49m\u001b[38;5;124;43mlabels\u001b[39;49m\u001b[38;5;124;43m'\u001b[39;49m\u001b[43m,\u001b[49m\u001b[38;5;124;43m'\u001b[39;49m\u001b[38;5;124;43mw\u001b[39;49m\u001b[38;5;124;43m'\u001b[39;49m\u001b[43m)\u001b[49m\n\u001b[0;32m      2\u001b[0m \u001b[38;5;28;01mfor\u001b[39;00m i \u001b[38;5;129;01min\u001b[39;00m \u001b[38;5;28mrange\u001b[39m(\u001b[38;5;241m20\u001b[39m):\n\u001b[0;32m      3\u001b[0m     filepath \u001b[38;5;241m=\u001b[39m \u001b[38;5;124m'\u001b[39m\u001b[38;5;124m./runs/detect/exp5/labels/0_\u001b[39m\u001b[38;5;124m'\u001b[39m\u001b[38;5;241m+\u001b[39m\u001b[38;5;28mstr\u001b[39m(i\u001b[38;5;241m+\u001b[39m\u001b[38;5;241m1\u001b[39m)\u001b[38;5;241m+\u001b[39m\u001b[38;5;124m'\u001b[39m\u001b[38;5;124m.txt\u001b[39m\u001b[38;5;124m'\u001b[39m\n",
      "\u001b[1;31mOSError\u001b[0m: [Errno 22] Invalid argument: 'C:\\\\jupyter_home\\\\ML_Project\\x05th_ML_Project\\\\yolov5\\runs\\\\detect\\\\exp6\\\\labels'"
     ]
    }
   ],
   "source": [
    "t = open('C:/jupyter_home/ML_Project/5th_ML_Project/yolov5/runs/detect/exp6/labels','w')\n",
    "for i in range(20):\n",
    "    filepath = './runs/detect/exp5/labels/0_'+str(i+1)+'.txt'\n",
    "    f = open(filepath,'r')\n",
    "    text = f.readlines()\n",
    "    label = int(text[0][0])\n",
    "    t.write(str(label)+'\\n')\n",
    "t.close()"
   ]
  },
  {
   "cell_type": "code",
   "execution_count": null,
   "id": "16dec8ef",
   "metadata": {},
   "outputs": [],
   "source": []
  }
 ],
 "metadata": {
  "kernelspec": {
   "display_name": "Python [conda env:ML_Project_5th] *",
   "language": "python",
   "name": "conda-env-ML_Project_5th-py"
  },
  "language_info": {
   "codemirror_mode": {
    "name": "ipython",
    "version": 3
   },
   "file_extension": ".py",
   "mimetype": "text/x-python",
   "name": "python",
   "nbconvert_exporter": "python",
   "pygments_lexer": "ipython3",
   "version": "3.8.13"
  }
 },
 "nbformat": 4,
 "nbformat_minor": 5
}
