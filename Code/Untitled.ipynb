{
 "cells": [
  {
   "cell_type": "code",
<<<<<<< HEAD
   "execution_count": 6,
   "id": "b0863393",
   "metadata": {},
   "outputs": [
    {
     "ename": "ModuleNotFoundError",
     "evalue": "No module named 'tensorflow'",
     "output_type": "error",
     "traceback": [
      "\u001b[1;31m---------------------------------------------------------------------------\u001b[0m",
      "\u001b[1;31mModuleNotFoundError\u001b[0m                       Traceback (most recent call last)",
      "\u001b[1;32m~\\AppData\\Local\\Temp/ipykernel_5024/3415440816.py\u001b[0m in \u001b[0;36m<module>\u001b[1;34m\u001b[0m\n\u001b[1;32m----> 1\u001b[1;33m \u001b[1;32mfrom\u001b[0m \u001b[0mtensorflow\u001b[0m\u001b[1;33m.\u001b[0m\u001b[0mpython\u001b[0m\u001b[1;33m.\u001b[0m\u001b[0mclient\u001b[0m \u001b[1;32mimport\u001b[0m \u001b[0mdevice_lib\u001b[0m\u001b[1;33m\u001b[0m\u001b[1;33m\u001b[0m\u001b[0m\n\u001b[0m\u001b[0;32m      2\u001b[0m \u001b[0mdevice_lib\u001b[0m\u001b[1;33m.\u001b[0m\u001b[0mlist_local_devices\u001b[0m\u001b[1;33m(\u001b[0m\u001b[1;33m)\u001b[0m\u001b[1;33m\u001b[0m\u001b[1;33m\u001b[0m\u001b[0m\n",
      "\u001b[1;31mModuleNotFoundError\u001b[0m: No module named 'tensorflow'"
     ]
    }
   ],
   "source": [
    "from tensorflow.python.client import device_lib\n",
    "device_lib.list_local_devices()"
   ]
  },
  {
   "cell_type": "code",
   "execution_count": 3,
   "id": "fd6298d1",
   "metadata": {},
   "outputs": [
    {
     "name": "stdout",
     "output_type": "stream",
     "text": [
      "Package                      Version\n",
      "---------------------------- ---------\n",
      "absl-py                      1.0.0\n",
      "astunparse                   1.6.3\n",
      "cachetools                   5.0.0\n",
      "certifi                      2021.10.8\n",
      "charset-normalizer           2.0.12\n",
      "flatbuffers                  2.0\n",
      "gast                         0.4.0\n",
      "google-auth                  2.6.6\n",
      "google-auth-oauthlib         0.4.6\n",
      "google-pasta                 0.2.0\n",
      "grpcio                       1.44.0\n",
      "h5py                         3.6.0\n",
      "idna                         3.3\n",
      "importlib-metadata           4.11.3\n",
      "keras                        2.7.0\n",
      "Keras-Preprocessing          1.1.2\n",
      "libclang                     14.0.1\n",
      "Markdown                     3.3.6\n",
      "numpy                        1.22.3\n",
      "oauthlib                     3.2.0\n",
      "opt-einsum                   3.3.0\n",
      "pip                          21.2.2\n",
      "protobuf                     3.20.1\n",
      "pyasn1                       0.4.8\n",
      "pyasn1-modules               0.2.8\n",
      "requests                     2.27.1\n",
      "requests-oauthlib            1.3.1\n",
      "rsa                          4.8\n",
      "setuptools                   61.2.0\n",
      "six                          1.16.0\n",
      "tensorboard                  2.8.0\n",
      "tensorboard-data-server      0.6.1\n",
      "tensorboard-plugin-wit       1.8.1\n",
      "tensorflow                   2.7.0\n",
      "tensorflow-estimator         2.7.0\n",
      "tensorflow-io-gcs-filesystem 0.25.0\n",
      "termcolor                    1.1.0\n",
      "typing_extensions            4.2.0\n",
      "urllib3                      1.26.9\n",
      "Werkzeug                     2.1.1\n",
      "wheel                        0.37.1\n",
      "wincertstore                 0.2\n",
      "wrapt                        1.14.0\n",
      "zipp                         3.8.0\n"
     ]
    }
   ],
   "source": [
    "!pip list"
   ]
  },
  {
   "cell_type": "code",
   "execution_count": null,
   "id": "b70d8509",
   "metadata": {},
   "outputs": [],
   "source": [
    "from tensorflow.python.client import device_lib"
   ]
=======
   "execution_count": null,
   "id": "49e8bc13",
   "metadata": {},
   "outputs": [],
   "source": []
<<<<<<< HEAD
>>>>>>> d87a0cba5 (labeling)
=======
>>>>>>> d87a0cba5998e37d953c2327e4636267c8034678
>>>>>>> 567b45b4999456942a046b1be69f6980036a7c8b
  }
 ],
 "metadata": {
  "kernelspec": {
<<<<<<< HEAD
   "display_name": "Python 3 (ipykernel)",
   "language": "python",
   "name": "python3"
=======
   "display_name": "Python [conda env:machine] *",
   "language": "python",
   "name": "conda-env-machine-py"
<<<<<<< HEAD
>>>>>>> d87a0cba5 (labeling)
=======
>>>>>>> d87a0cba5998e37d953c2327e4636267c8034678
>>>>>>> 567b45b4999456942a046b1be69f6980036a7c8b
  },
  "language_info": {
   "codemirror_mode": {
    "name": "ipython",
    "version": 3
   },
   "file_extension": ".py",
   "mimetype": "text/x-python",
   "name": "python",
   "nbconvert_exporter": "python",
   "pygments_lexer": "ipython3",
<<<<<<< HEAD
   "version": "3.9.7"
=======
   "version": "3.8.12"
<<<<<<< HEAD
>>>>>>> d87a0cba5 (labeling)
=======
>>>>>>> d87a0cba5998e37d953c2327e4636267c8034678
>>>>>>> 567b45b4999456942a046b1be69f6980036a7c8b
  }
 },
 "nbformat": 4,
 "nbformat_minor": 5
}
