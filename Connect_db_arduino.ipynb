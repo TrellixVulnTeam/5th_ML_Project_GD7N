{
 "cells": [
  {
   "cell_type": "code",
   "execution_count": 1,
   "id": "403b1745",
   "metadata": {},
   "outputs": [],
   "source": [
    "import serial\n",
    "import pymysql\n",
    "from time import localtime, strftime"
   ]
  },
  {
   "cell_type": "code",
   "execution_count": null,
   "id": "cf93cabf",
   "metadata": {},
   "outputs": [
    {
     "name": "stdout",
     "output_type": "stream",
     "text": [
      "b'27.30 95.00\\n'\n",
      "b'27.30 95.00\\n'\n",
      "b'27.30 95.00\\n'\n",
      "b'27.30 95.00\\n'\n",
      "b'27.30 95.00\\n'\n",
      "b'27.30 95.00\\n'\n",
      "b'27.30 95.00\\n'\n",
      "b'27.30 95.00\\n'\n",
      "b'27.30 95.00\\n'\n",
      "b'27.30 95.00\\n'\n",
      "b'27.30 95.00\\n'\n",
      "b'27.30 95.00\\n'\n",
      "b'27.30 95.00\\n'\n",
      "b'27.30 95.00\\n'\n",
      "b'27.30 95.00\\n'\n",
      "b'27.30 95.00\\n'\n",
      "b'27.30 95.00\\n'\n",
      "b'27.30 95.00\\n'\n",
      "b'27.30 95.00\\n'\n",
      "b'27.30 95.00\\n'\n",
      "b'27.30 37.00\\n'\n",
      "b'27.30 37.00\\n'\n",
      "b'27.30 35.00\\n'\n",
      "b'27.30 35.00\\n'\n",
      "b'27.30 35.00\\n'\n",
      "b'27.30 35.00\\n'\n",
      "b'27.30 35.00\\n'\n",
      "b'27.30 35.00\\n'\n",
      "b'27.30 35.00\\n'\n",
      "b'27.30 35.00\\n'\n",
      "b'27.30 36.00\\n'\n",
      "b'27.30 36.00\\n'\n",
      "b'27.30 37.00\\n'\n",
      "b'27.30 37.00\\n'\n",
      "b'27.30 37.00\\n'\n",
      "b'27.30 37.00\\n'\n",
      "b'27.30 37.00\\n'\n",
      "b'27.30 37.00\\n'\n",
      "b'27.30 38.00\\n'\n",
      "b'27.30 38.00\\n'\n",
      "b'27.30 38.00\\n'\n",
      "b'27.30 38.00\\n'\n",
      "b'27.30 39.00\\n'\n",
      "b'27.30 39.00\\n'\n",
      "b'27.30 40.00\\n'\n",
      "b'27.30 40.00\\n'\n",
      "b'27.30 40.00\\n'\n",
      "b'27.30 40.00\\n'\n",
      "b'27.30 40.00\\n'\n",
      "b'27.30 40.00\\n'\n",
      "b'27.30 40.00\\n'\n",
      "b'27.30 40.00\\n'\n",
      "b'27.20 41.00\\n'\n",
      "b'27.20 41.00\\n'\n",
      "b'27.30 41.00\\n'\n",
      "b'27.30 41.00\\n'\n",
      "b'27.20 42.00\\n'\n",
      "b'27.20 42.00\\n'\n",
      "b'27.20 42.00\\n'\n",
      "b'27.20 42.00\\n'\n",
      "b'27.10 43.00\\n'\n",
      "b'27.10 43.00\\n'\n",
      "b'27.10 42.00\\n'\n",
      "b'27.10 42.00\\n'\n",
      "b'27.10 42.00\\n'\n",
      "b'27.10 42.00\\n'\n",
      "b'27.10 41.00\\n'\n",
      "b'27.10 41.00\\n'\n",
      "b'27.10 41.00\\n'\n",
      "b'27.10 41.00\\n'\n",
      "b'27.10 41.00\\n'\n",
      "b'27.10 41.00\\n'\n",
      "b'27.10 40.00\\n'\n"
     ]
    }
   ],
   "source": [
    "lastTime = 0\n",
    "T = serial.Serial('/dev/ttyACM0', 9600)\n",
    "\n",
    "while True:\n",
    "    strTemp = T.readline()\n",
    "    print(strTemp)\n",
    "    strTemp = strTemp.decode('utf-8')\n",
    "    strTemp = strTemp.replace(\"\\n\", \"\")\n",
    "    strTemp = strTemp.split()\n",
    "    strHumi = str(strTemp[1])\n",
    "    strTemp = str(strTemp[0])\n",
    "#     strCo = strTemp[0]\n",
    "  \n",
    "    db = pymysql.connect(host='localhost', user='guest_test', passwd = 'test1234!', db='ml_db')\n",
    "\n",
    "    with db:\n",
    "        cur = db.cursor()\n",
    "\n",
    "        cur.execute('INSERT INTO co_eyes_temp(temperature, humidity) VALUES (%s, %s)', (strTemp, strHumi))\n",
    "        db.commit()"
   ]
  },
  {
   "cell_type": "code",
   "execution_count": 47,
   "id": "0e5bd3e4",
   "metadata": {},
   "outputs": [],
   "source": [
    "import pymysql"
   ]
  },
  {
   "cell_type": "code",
   "execution_count": 48,
   "id": "9ff147fe",
   "metadata": {},
   "outputs": [],
   "source": [
    "db= pymysql.connect( # db 연결\n",
    "    user='guest_test',\n",
    "    passwd='test1234!',\n",
    "    host='121.143.172.28',\n",
    "    db='ml_db')\n",
    "\n",
    "cursor = db.cursor()\n",
    "sql = \"INSERT INTO co_eyes_predictlabel (label, total_sleep_count) VALUES (%s, %s)\"\n",
    "query = \"SELECT * FROM co_eyes_predictlabel\"\n",
    "cursor.execute(query)\n",
    "db.commit()"
   ]
  },
  {
   "cell_type": "code",
   "execution_count": 49,
   "id": "b565ed61",
   "metadata": {},
   "outputs": [],
   "source": [
    "datas = cursor.fetchall()"
   ]
  },
  {
   "cell_type": "code",
   "execution_count": 50,
   "id": "36792cb3",
   "metadata": {},
   "outputs": [
    {
     "data": {
      "text/plain": [
       "((1, 'closed', '1', datetime.datetime(2022, 5, 9, 2, 12, 45)),\n",
       " (2, 'closed', '1', datetime.datetime(2022, 5, 9, 2, 13, 24)),\n",
       " (3, 'closed', '1', datetime.datetime(2022, 5, 9, 2, 13, 56)),\n",
       " (4, 'closed', '1', datetime.datetime(2022, 5, 9, 2, 17, 46)),\n",
       " (5, 'closed', '1', datetime.datetime(2022, 5, 9, 2, 20, 18)))"
      ]
     },
     "execution_count": 50,
     "metadata": {},
     "output_type": "execute_result"
    }
   ],
   "source": [
    "datas"
   ]
  },
  {
   "cell_type": "code",
   "execution_count": 55,
   "id": "30008ab2",
   "metadata": {},
   "outputs": [],
   "source": [
    "previous_access = datas[-1][2]"
   ]
  },
  {
   "cell_type": "code",
   "execution_count": 56,
   "id": "d4ef4166",
   "metadata": {},
   "outputs": [
    {
     "data": {
      "text/plain": [
       "'1'"
      ]
     },
     "execution_count": 56,
     "metadata": {},
     "output_type": "execute_result"
    }
   ],
   "source": [
    "previous_access"
   ]
  },
  {
   "cell_type": "code",
   "execution_count": null,
   "id": "9d8c2166",
   "metadata": {},
   "outputs": [],
   "source": []
  }
 ],
 "metadata": {
  "kernelspec": {
   "display_name": "Python [conda env:machine_TF2] *",
   "language": "python",
   "name": "conda-env-machine_TF2-py"
  },
  "language_info": {
   "codemirror_mode": {
    "name": "ipython",
    "version": 3
   },
   "file_extension": ".py",
   "mimetype": "text/x-python",
   "name": "python",
   "nbconvert_exporter": "python",
   "pygments_lexer": "ipython3",
   "version": "3.8.13"
  }
 },
 "nbformat": 4,
 "nbformat_minor": 5
}
