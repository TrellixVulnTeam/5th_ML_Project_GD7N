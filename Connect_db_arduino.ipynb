{
 "cells": [
  {
   "cell_type": "code",
   "execution_count": 37,
   "id": "403b1745",
   "metadata": {},
   "outputs": [],
   "source": [
    "import serial\n",
    "import pymysql\n",
    "from time import localtime, strftime"
   ]
  },
  {
   "cell_type": "code",
   "execution_count": 40,
   "id": "cf93cabf",
   "metadata": {},
   "outputs": [
    {
     "name": "stdout",
     "output_type": "stream",
     "text": [
      "1020\n",
      "###\n",
      "26.50\n",
      "###\n",
      "35.00\n",
      "----\n",
      "1027\n",
      "###\n",
      "26.40\n",
      "###\n",
      "35.00\n",
      "----\n",
      "1090\n",
      "###\n",
      "26.40\n",
      "###\n",
      "35.00\n",
      "----\n",
      "1853\n",
      "###\n",
      "25.30\n",
      "###\n",
      "34.00\n",
      "----\n",
      "985\n",
      "###\n",
      "25.30\n",
      "###\n",
      "34.00\n",
      "----\n",
      "941\n",
      "###\n",
      "25.80\n",
      "###\n",
      "34.00\n",
      "----\n",
      "902\n",
      "###\n",
      "25.80\n",
      "###\n",
      "34.00\n",
      "----\n",
      "1994\n",
      "###\n",
      "25.90\n",
      "###\n",
      "34.00\n",
      "----\n",
      "1360\n",
      "###\n",
      "25.90\n",
      "###\n",
      "34.00\n",
      "----\n",
      "1846\n",
      "###\n",
      "25.30\n",
      "###\n",
      "34.00\n",
      "----\n",
      "1932\n",
      "###\n",
      "25.30\n",
      "###\n",
      "34.00\n",
      "----\n",
      "2394\n",
      "###\n",
      "24.60\n",
      "###\n",
      "34.00\n",
      "----\n",
      "2224\n",
      "###\n",
      "24.60\n",
      "###\n",
      "34.00\n",
      "----\n",
      "2193\n",
      "###\n",
      "26.80\n",
      "###\n",
      "35.00\n",
      "----\n",
      "1820\n",
      "###\n",
      "26.80\n",
      "###\n",
      "35.00\n",
      "----\n",
      "1056\n",
      "###\n",
      "26.80\n",
      "###\n",
      "35.00\n",
      "----\n",
      "1449\n",
      "###\n",
      "26.80\n",
      "###\n",
      "35.00\n",
      "----\n",
      "2344\n",
      "###\n",
      "27.00\n",
      "###\n",
      "35.00\n",
      "----\n",
      "2735\n",
      "###\n",
      "27.00\n",
      "###\n",
      "35.00\n",
      "----\n",
      "2604\n",
      "###\n",
      "26.90\n",
      "###\n",
      "34.00\n",
      "----\n",
      "2051\n",
      "###\n",
      "26.90\n",
      "###\n",
      "34.00\n",
      "----\n",
      "2660\n",
      "###\n",
      "27.10\n",
      "###\n",
      "34.00\n",
      "----\n",
      "2586\n",
      "###\n",
      "27.10\n",
      "###\n",
      "34.00\n",
      "----\n",
      "3203\n",
      "###\n",
      "24.80\n",
      "###\n",
      "33.00\n",
      "----\n",
      "3181\n",
      "###\n",
      "24.80\n",
      "###\n",
      "33.00\n",
      "----\n",
      "2279\n",
      "###\n",
      "25.70\n",
      "###\n",
      "33.00\n",
      "----\n",
      "3237\n",
      "###\n",
      "25.70\n",
      "###\n",
      "33.00\n",
      "----\n",
      "3170\n",
      "###\n",
      "26.30\n",
      "###\n",
      "34.00\n",
      "----\n",
      "3686\n",
      "###\n",
      "26.30\n",
      "###\n",
      "34.00\n",
      "----\n"
     ]
    },
    {
     "ename": "KeyboardInterrupt",
     "evalue": "",
     "output_type": "error",
     "traceback": [
      "\u001b[0;31m---------------------------------------------------------------------------\u001b[0m",
      "\u001b[0;31mKeyboardInterrupt\u001b[0m                         Traceback (most recent call last)",
      "Input \u001b[0;32mIn [40]\u001b[0m, in \u001b[0;36m<cell line: 5>\u001b[0;34m()\u001b[0m\n\u001b[1;32m      2\u001b[0m T \u001b[38;5;241m=\u001b[39m serial\u001b[38;5;241m.\u001b[39mSerial(\u001b[38;5;124m'\u001b[39m\u001b[38;5;124m/dev/ttyACM2\u001b[39m\u001b[38;5;124m'\u001b[39m, \u001b[38;5;241m9600\u001b[39m)\n\u001b[1;32m      4\u001b[0m \u001b[38;5;28;01mwhile\u001b[39;00m \u001b[38;5;28;01mTrue\u001b[39;00m:\n\u001b[0;32m----> 5\u001b[0m     strTemp \u001b[38;5;241m=\u001b[39m \u001b[43mT\u001b[49m\u001b[38;5;241;43m.\u001b[39;49m\u001b[43mreadline\u001b[49m\u001b[43m(\u001b[49m\u001b[43m)\u001b[49m\n\u001b[1;32m      6\u001b[0m     strTemp \u001b[38;5;241m=\u001b[39m strTemp\u001b[38;5;241m.\u001b[39mdecode(\u001b[38;5;124m'\u001b[39m\u001b[38;5;124mutf-8\u001b[39m\u001b[38;5;124m'\u001b[39m)\n\u001b[1;32m      7\u001b[0m     strTemp \u001b[38;5;241m=\u001b[39m strTemp\u001b[38;5;241m.\u001b[39mreplace(\u001b[38;5;124m\"\u001b[39m\u001b[38;5;130;01m\\n\u001b[39;00m\u001b[38;5;124m\"\u001b[39m, \u001b[38;5;124m\"\u001b[39m\u001b[38;5;124m\"\u001b[39m)\n",
      "File \u001b[0;32m~/anaconda3/envs/machine_TF2/lib/python3.8/site-packages/serial/serialposix.py:565\u001b[0m, in \u001b[0;36mSerial.read\u001b[0;34m(self, size)\u001b[0m\n\u001b[1;32m    563\u001b[0m \u001b[38;5;28;01mwhile\u001b[39;00m \u001b[38;5;28mlen\u001b[39m(read) \u001b[38;5;241m<\u001b[39m size:\n\u001b[1;32m    564\u001b[0m     \u001b[38;5;28;01mtry\u001b[39;00m:\n\u001b[0;32m--> 565\u001b[0m         ready, _, _ \u001b[38;5;241m=\u001b[39m \u001b[43mselect\u001b[49m\u001b[38;5;241;43m.\u001b[39;49m\u001b[43mselect\u001b[49m\u001b[43m(\u001b[49m\u001b[43m[\u001b[49m\u001b[38;5;28;43mself\u001b[39;49m\u001b[38;5;241;43m.\u001b[39;49m\u001b[43mfd\u001b[49m\u001b[43m,\u001b[49m\u001b[43m \u001b[49m\u001b[38;5;28;43mself\u001b[39;49m\u001b[38;5;241;43m.\u001b[39;49m\u001b[43mpipe_abort_read_r\u001b[49m\u001b[43m]\u001b[49m\u001b[43m,\u001b[49m\u001b[43m \u001b[49m\u001b[43m[\u001b[49m\u001b[43m]\u001b[49m\u001b[43m,\u001b[49m\u001b[43m \u001b[49m\u001b[43m[\u001b[49m\u001b[43m]\u001b[49m\u001b[43m,\u001b[49m\u001b[43m \u001b[49m\u001b[43mtimeout\u001b[49m\u001b[38;5;241;43m.\u001b[39;49m\u001b[43mtime_left\u001b[49m\u001b[43m(\u001b[49m\u001b[43m)\u001b[49m\u001b[43m)\u001b[49m\n\u001b[1;32m    566\u001b[0m         \u001b[38;5;28;01mif\u001b[39;00m \u001b[38;5;28mself\u001b[39m\u001b[38;5;241m.\u001b[39mpipe_abort_read_r \u001b[38;5;129;01min\u001b[39;00m ready:\n\u001b[1;32m    567\u001b[0m             os\u001b[38;5;241m.\u001b[39mread(\u001b[38;5;28mself\u001b[39m\u001b[38;5;241m.\u001b[39mpipe_abort_read_r, \u001b[38;5;241m1000\u001b[39m)\n",
      "\u001b[0;31mKeyboardInterrupt\u001b[0m: "
     ]
    }
   ],
   "source": [
    "lastTime = 0\n",
    "T = serial.Serial('/dev/ttyACM2', 9600)\n",
    "\n",
    "while True:\n",
    "    strTemp = T.readline()\n",
    "    print(strTemp)\n",
    "    strTemp = strTemp.decode('utf-8')\n",
    "    strTemp = strTemp.replace(\"\\n\", \"\")\n",
    "    strTemp = strTemp.split()\n",
    "    strHumi = strTemp[2]\n",
    "    strTemp = strTemp[1]\n",
    "    strCo = strTemp[0]\n",
    "  \n",
    "    db = pymysql.connect(host='localhost', user='guest_test', passwd = 'test1234!', db='ml_db')\n",
    "\n",
    "    with db:\n",
    "        cur = db.cursor()\n",
    "\n",
    "        cur.execute('INSERT INTO predict_sleeping(temperature, humidity, co2) VALUES (%s, %s, %s)', (strTemp, strHumi, strCo))\n",
    "        db.commit()"
   ]
  },
  {
   "cell_type": "code",
   "execution_count": 47,
   "id": "0e5bd3e4",
   "metadata": {},
   "outputs": [],
   "source": [
    "import pymysql"
   ]
  },
  {
   "cell_type": "code",
   "execution_count": 48,
   "id": "9ff147fe",
   "metadata": {},
   "outputs": [],
   "source": [
    "db= pymysql.connect( # db 연결\n",
    "    user='guest_test',\n",
    "    passwd='test1234!',\n",
    "    host='121.143.172.28',\n",
    "    db='ml_db')\n",
    "\n",
    "cursor = db.cursor()\n",
    "sql = \"INSERT INTO co_eyes_predictlabel (label, total_sleep_count) VALUES (%s, %s)\"\n",
    "query = \"SELECT * FROM co_eyes_predictlabel\"\n",
    "cursor.execute(query)\n",
    "db.commit()"
   ]
  },
  {
   "cell_type": "code",
   "execution_count": 49,
   "id": "b565ed61",
   "metadata": {},
   "outputs": [],
   "source": [
    "datas = cursor.fetchall()"
   ]
  },
  {
   "cell_type": "code",
   "execution_count": 50,
   "id": "36792cb3",
   "metadata": {},
   "outputs": [
    {
     "data": {
      "text/plain": [
       "((1, 'closed', '1', datetime.datetime(2022, 5, 9, 2, 12, 45)),\n",
       " (2, 'closed', '1', datetime.datetime(2022, 5, 9, 2, 13, 24)),\n",
       " (3, 'closed', '1', datetime.datetime(2022, 5, 9, 2, 13, 56)),\n",
       " (4, 'closed', '1', datetime.datetime(2022, 5, 9, 2, 17, 46)),\n",
       " (5, 'closed', '1', datetime.datetime(2022, 5, 9, 2, 20, 18)))"
      ]
     },
     "execution_count": 50,
     "metadata": {},
     "output_type": "execute_result"
    }
   ],
   "source": [
    "datas"
   ]
  },
  {
   "cell_type": "code",
   "execution_count": 55,
   "id": "30008ab2",
   "metadata": {},
   "outputs": [],
   "source": [
    "previous_access = datas[-1][2]"
   ]
  },
  {
   "cell_type": "code",
   "execution_count": 56,
   "id": "d4ef4166",
   "metadata": {},
   "outputs": [
    {
     "data": {
      "text/plain": [
       "'1'"
      ]
     },
     "execution_count": 56,
     "metadata": {},
     "output_type": "execute_result"
    }
   ],
   "source": [
    "previous_access"
   ]
  },
  {
   "cell_type": "code",
   "execution_count": null,
   "id": "9d8c2166",
   "metadata": {},
   "outputs": [],
   "source": []
  }
 ],
 "metadata": {
  "kernelspec": {
   "display_name": "Python [conda env:machine_TF2] *",
   "language": "python",
   "name": "conda-env-machine_TF2-py"
  },
  "language_info": {
   "codemirror_mode": {
    "name": "ipython",
    "version": 3
   },
   "file_extension": ".py",
   "mimetype": "text/x-python",
   "name": "python",
   "nbconvert_exporter": "python",
   "pygments_lexer": "ipython3",
   "version": "3.8.13"
  }
 },
 "nbformat": 4,
 "nbformat_minor": 5
}
